{
 "cells": [
  {
   "metadata": {},
   "cell_type": "code",
   "outputs": [],
   "execution_count": null,
   "source": [
    "import numpy as np\n",
    "import numpy.linalg\n",
    "import pandas as pd\n",
    "import sklearn\n",
    "import sklearn.preprocessing, sklearn.cluster, sklearn.metrics, sklearn.decomposition\n",
    "import scipy.spatial\n",
    "import matplotlib.pyplot as plt\n",
    "import seaborn as sns"
   ]
  },
  {
   "cell_type": "markdown",
   "metadata": {
    "id": "GPwTQ9-UqIDP"
   },
   "source": [
    "# SVD decomposition and dimension reduction\n",
    "\n",
    "The following datasets contains 10000 vectorized images of the size 8x8 pixels with generated bars.\n",
    "\n",
    " - bars.csv - original data\n",
    " - bars_noise20.csv and bars_noise50.csv - the generated noise was distributed into original dataset"
   ]
  },
  {
   "cell_type": "code",
   "execution_count": 2,
   "metadata": {
    "ExecuteTime": {
     "end_time": "2024-10-31T12:04:53.829126Z",
     "start_time": "2024-10-31T12:04:53.287165Z"
    },
    "id": "OcGyMuwOqIDQ"
   },
   "outputs": [],
   "source": [
    "X = pd.read_csv('../datasets/bars_datasets/bars.csv', header=None).values\n",
    "X_noise_20 = pd.read_csv('../datasets/bars_datasets/bars_noise20.csv', header=None).values\n",
    "X_noise_50 = pd.read_csv('../datasets/bars_datasets/bars_noise50.csv', header=None).values"
   ]
  },
  {
   "cell_type": "code",
   "execution_count": 3,
   "metadata": {
    "colab": {
     "base_uri": "https://localhost:8080/"
    },
    "id": "CYhEjfPQqIDR",
    "outputId": "dfc24790-e6a0-4080-acd6-decf0f7a7c20"
   },
   "outputs": [
    {
     "data": {
      "text/plain": [
       "(10000, 64)"
      ]
     },
     "execution_count": 3,
     "metadata": {},
     "output_type": "execute_result"
    }
   ],
   "source": [
    "X.shape"
   ]
  },
  {
   "cell_type": "code",
   "execution_count": 4,
   "metadata": {
    "colab": {
     "base_uri": "https://localhost:8080/"
    },
    "id": "KiEdgqIMqIDR",
    "outputId": "f30f250e-e2af-4c18-de4b-9a334811224d"
   },
   "outputs": [
    {
     "data": {
      "text/plain": [
       "array([  0,   0, 255,   0,   0,   0,   0,   0,   0,   0, 255,   0,   0,\n",
       "         0,   0,   0,   0,   0, 255,   0,   0,   0,   0,   0,   0,   0,\n",
       "       255,   0,   0,   0,   0,   0, 255, 255, 255, 255, 255, 255, 255,\n",
       "       255,   0,   0, 255,   0,   0,   0,   0,   0, 255, 255, 255, 255,\n",
       "       255, 255, 255, 255,   0,   0, 255,   0,   0,   0,   0,   0])"
      ]
     },
     "execution_count": 4,
     "metadata": {},
     "output_type": "execute_result"
    }
   ],
   "source": [
    "X[1]"
   ]
  },
  {
   "cell_type": "code",
   "execution_count": 5,
   "metadata": {
    "colab": {
     "base_uri": "https://localhost:8080/"
    },
    "id": "Zh32ZI49qIDS",
    "outputId": "d7c437d1-74f0-4baa-bd9e-f28092330aae"
   },
   "outputs": [
    {
     "data": {
      "text/plain": [
       "array([  0,   0, 225,   0,   0,   0,  48,   0,  44,   0, 220,  70,   0,\n",
       "        54,   0,  70,   6,   0, 186,   0,   0,   0,   0,  48,   8,   0,\n",
       "       255,  15,   0,   0,  14,  60, 255, 173, 193, 225, 255, 169, 164,\n",
       "       255,   0,  80, 166,  81,   0,   0,   8, 112, 255, 241, 255, 255,\n",
       "       236, 255, 255, 255,   0,   0, 255,   1,   0,   6, 120,   5])"
      ]
     },
     "execution_count": 5,
     "metadata": {},
     "output_type": "execute_result"
    }
   ],
   "source": [
    "X_noise_20[1]"
   ]
  },
  {
   "cell_type": "code",
   "execution_count": 6,
   "metadata": {
    "id": "GnpbkNggqIDT"
   },
   "outputs": [],
   "source": [
    "def show_image(x):\n",
    "    plt.imshow(x.reshape((8, 8)), cmap='Greys')"
   ]
  },
  {
   "cell_type": "code",
   "execution_count": 7,
   "metadata": {
    "colab": {
     "base_uri": "https://localhost:8080/",
     "height": 430
    },
    "id": "5EO8otymqIDT",
    "outputId": "a0bc82ea-2ba7-4a78-f503-17aa0bf20d92"
   },
   "outputs": [
    {
     "data": {
      "image/png": "[encoded data removed]",
      "text/plain": [
       "<Figure size 640x480 with 1 Axes>"
      ]
     },
     "metadata": {},
     "output_type": "display_data"
    }
   ],
   "source": [
    "show_image(X[2])"
   ]
  },
  {
   "cell_type": "code",
   "execution_count": 8,
   "metadata": {
    "colab": {
     "base_uri": "https://localhost:8080/",
     "height": 430
    },
    "id": "3Dyyq-NjqIDU",
    "outputId": "92ff735c-1a59-4668-88b9-420eed2a8838"
   },
   "outputs": [
    {
     "data": {
      "image/png": "[encoded data removed]",
      "text/plain": [
       "<Figure size 640x480 with 1 Axes>"
      ]
     },
     "metadata": {},
     "output_type": "display_data"
    }
   ],
   "source": [
    "show_image(X_noise_20[2])"
   ]
  },
  {
   "cell_type": "code",
   "execution_count": 9,
   "metadata": {
    "colab": {
     "base_uri": "https://localhost:8080/",
     "height": 430
    },
    "id": "IEfuYE2cqIDV",
    "outputId": "033403c3-6874-4481-e440-a07b5199347a"
   },
   "outputs": [
    {
     "data": {
      "image/png": "[encoded data removed]",
      "text/plain": [
       "<Figure size 640x480 with 1 Axes>"
      ]
     },
     "metadata": {},
     "output_type": "display_data"
    }
   ],
   "source": [
    "show_image(X_noise_50[2])"
   ]
  },
  {
   "cell_type": "markdown",
   "metadata": {
    "id": "zUPzYZ1MqIDV"
   },
   "source": [
    "## SVD decompostioton"
   ]
  },
  {
   "cell_type": "code",
   "execution_count": 10,
   "metadata": {
    "colab": {
     "base_uri": "https://localhost:8080/"
    },
    "id": "OA8mHglcqIDW",
    "outputId": "735be9a8-a3eb-4a38-e7aa-67cc04ac6937"
   },
   "outputs": [
    {
     "data": {
      "text/plain": [
       "((10000, 10000), (64,), (64, 64))"
      ]
     },
     "execution_count": 10,
     "metadata": {},
     "output_type": "execute_result"
    }
   ],
   "source": [
    "U, s, V_T = np.linalg.svd(X, full_matrices=True)\n",
    "U.shape, s.shape, V_T.shape"
   ]
  },
  {
   "cell_type": "code",
   "execution_count": 11,
   "metadata": {
    "colab": {
     "base_uri": "https://localhost:8080/"
    },
    "id": "bMMySSIfqIDW",
    "outputId": "47392931-7959-46a0-de07-46751cb3ba4b"
   },
   "outputs": [
    {
     "data": {
      "text/plain": [
       "array([85163.72992057, 25918.78802989, 25885.20650461, 25866.61111402,\n",
       "       25603.09250067, 25527.33634786, 25461.90923658, 25400.16904854,\n",
       "       25323.96794768, 25273.05247869, 25090.65260469, 24985.09443308,\n",
       "       24828.21166745, 24725.47151278, 24599.19377668,  4800.23207891,\n",
       "        4759.42568525,  4752.02282845,  4714.65694697,  4693.37727937,\n",
       "        4671.65765993,  4664.8800508 ,  4649.71482489,  4645.60988442,\n",
       "        4627.47548092,  4613.28613569,  4608.32596123,  4601.90708787,\n",
       "        4598.48440201,  4592.10180099,  4566.68918604,  4564.57307661,\n",
       "        4539.47946295,  4528.18799301,  4515.34355164,  4503.88836915,\n",
       "        4496.2987919 ,  4490.36008691,  4475.56266412,  4466.33868976,\n",
       "        4461.80509601,  4454.28225144,  4444.18087738,  4433.82306676,\n",
       "        4426.93951122,  4412.70949494,  4410.35912898,  4407.39023681,\n",
       "        4392.68325091,  4367.7956838 ,  4356.32995984,  4352.68991712,\n",
       "        4343.81015817,  4333.71349581,  4328.56992482,  4316.97332939,\n",
       "        4297.70403093,  4288.34151299,  4272.20701456,  4266.6881235 ,\n",
       "        4237.66024131,  4218.36279764,  4216.42652516,  4141.90618514])"
      ]
     },
     "execution_count": 11,
     "metadata": {},
     "output_type": "execute_result"
    }
   ],
   "source": [
    "s"
   ]
  },
  {
   "cell_type": "markdown",
   "metadata": {
    "id": "6jhsWmM6qIDW"
   },
   "source": [
    "What does the values in vector **s** represent?\n",
    "\n",
    "The values in vector s represent the singular values of the matrix X. The singular values are the square roots of the eigenvalues of the matrix X^T * X.\n",
    "\n",
    "Eigenvalues are a measure of how much variance is in the data in the direction of the eigenvector. The singular values are the square roots of the eigenvalues of the matrix X^T * X. They are a measure of how much variance is in the data in the direction of the singular vector."
   ]
  },
  {
   "cell_type": "markdown",
   "metadata": {
    "id": "LFereUKuqIDX"
   },
   "source": [
    "### Reconstruct complete matrix and check error"
   ]
  },
  {
   "cell_type": "code",
   "execution_count": 12,
   "metadata": {
    "colab": {
     "base_uri": "https://localhost:8080/"
    },
    "id": "Jtw5rbvAqIDX",
    "outputId": "043edad6-8752-4222-aa57-f456c1bb1658"
   },
   "outputs": [
    {
     "data": {
      "text/plain": [
       "array([[85163.72992057,     0.        ,     0.        , ...,\n",
       "            0.        ,     0.        ,     0.        ],\n",
       "       [    0.        , 25918.78802989,     0.        , ...,\n",
       "            0.        ,     0.        ,     0.        ],\n",
       "       [    0.        ,     0.        , 25885.20650461, ...,\n",
       "            0.        ,     0.        ,     0.        ],\n",
       "       ...,\n",
       "       [    0.        ,     0.        ,     0.        , ...,\n",
       "         4218.36279764,     0.        ,     0.        ],\n",
       "       [    0.        ,     0.        ,     0.        , ...,\n",
       "            0.        ,  4216.42652516,     0.        ],\n",
       "       [    0.        ,     0.        ,     0.        , ...,\n",
       "            0.        ,     0.        ,  4141.90618514]])"
      ]
     },
     "execution_count": 12,
     "metadata": {},
     "output_type": "execute_result"
    }
   ],
   "source": [
    "np.diag(s)"
   ]
  },
  {
   "cell_type": "code",
   "execution_count": 13,
   "metadata": {
    "colab": {
     "base_uri": "https://localhost:8080/"
    },
    "id": "y5Fnwo0SqIDX",
    "outputId": "4fe42e14-3f49-4036-fb7a-477da1c77a3a"
   },
   "outputs": [
    {
     "data": {
      "text/plain": [
       "array([[ 2.40604041e-13,  1.25836034e-11,  1.21166810e-11, ...,\n",
       "         1.56319402e-12,  1.33582034e-12,  3.41060513e-13],\n",
       "       [ 1.52306009e-13,  7.25419614e-13, -1.56319402e-11, ...,\n",
       "         9.33889078e-12, -7.73704468e-12, -2.36631635e-12],\n",
       "       [-1.23534838e-13,  3.12638804e-13, -9.95728631e-13, ...,\n",
       "         2.50031850e-12,  4.32009983e-12,  4.26593123e-14],\n",
       "       ...,\n",
       "       [-3.02680561e-13,  2.84217094e-13, -5.68434189e-13, ...,\n",
       "        -5.80287720e-13, -7.95985802e-13, -3.10459459e-13],\n",
       "       [-5.68434189e-14, -2.47128213e-13,  4.00217219e-13, ...,\n",
       "        -4.68171230e-13, -3.80786061e-13,  6.25277607e-13],\n",
       "       [ 1.42108547e-13,  2.59348099e-13,  3.55271368e-13, ...,\n",
       "         3.97903932e-13,  1.02318154e-12,  1.70530257e-13]])"
      ]
     },
     "execution_count": 13,
     "metadata": {},
     "output_type": "execute_result"
    }
   ],
   "source": [
    "R = U[:, :64].dot(np.diag(s)).dot(V_T)\n",
    "X - R"
   ]
  },
  {
   "cell_type": "markdown",
   "metadata": {
    "id": "as2_jEaCqIDY"
   },
   "source": [
    "### Use only 5 main vectors (which represent reduction to 5 dimensions). Create reconstructed matrix and compare it with original one.\n",
    "- https://csiu.github.io/blog//img/figure/2017-04-16/svd.png\n",
    "![obrazek.png](attachment:0ff07704-dd0e-49bc-8839-322f279a3c6f.png)"
   ]
  },
  {
   "cell_type": "code",
   "execution_count": 14,
   "metadata": {
    "colab": {
     "base_uri": "https://localhost:8080/"
    },
    "id": "meF-Utr-qIDY",
    "outputId": "2a50b2f7-5d18-47d1-ed4f-9f69e6511a3e"
   },
   "outputs": [
    {
     "data": {
      "text/plain": [
       "array([[-0.01089724,  0.02019641, -0.00491279,  0.01643246,  0.00838835],\n",
       "       [-0.00824357,  0.01339253, -0.01285844,  0.0033604 ,  0.00822905],\n",
       "       [-0.01084728, -0.005671  , -0.01018208,  0.01683211, -0.01144061],\n",
       "       ...,\n",
       "       [-0.01087723, -0.01541497, -0.01822903,  0.00227725, -0.00055324],\n",
       "       [-0.01086102, -0.00116561, -0.0061415 , -0.02145552, -0.00405246],\n",
       "       [-0.00823218,  0.01164858, -0.00076543,  0.02442473,  0.01046707]])"
      ]
     },
     "execution_count": 14,
     "metadata": {},
     "output_type": "execute_result"
    }
   ],
   "source": [
    "U[:, :5]"
   ]
  },
  {
   "cell_type": "code",
   "execution_count": 15,
   "metadata": {
    "colab": {
     "base_uri": "https://localhost:8080/"
    },
    "id": "tDZIteNAqIDY",
    "outputId": "6403388b-0776-43dc-b696-e5f8ad9b2e12"
   },
   "outputs": [
    {
     "data": {
      "text/plain": [
       "array([[-0.12576034, -0.12583471, -0.12446459, -0.12522232, -0.12453633,\n",
       "        -0.12479076, -0.12320246, -0.12501406, -0.12368075, -0.12438685,\n",
       "        -0.12219952, -0.12274359, -0.1239547 , -0.12395804, -0.12242578,\n",
       "        -0.12374513, -0.12579543, -0.12611035, -0.12475121, -0.12483118,\n",
       "        -0.1258248 , -0.125511  , -0.1238515 , -0.12529944, -0.1255637 ,\n",
       "        -0.12730238, -0.12488608, -0.12613748, -0.12474634, -0.12421956,\n",
       "        -0.12321001, -0.12535877, -0.12649177, -0.12752608, -0.1254781 ,\n",
       "        -0.12578643, -0.12522948, -0.12697614, -0.12493317, -0.12562678,\n",
       "        -0.12440544, -0.12568559, -0.1242691 , -0.12305136, -0.12453197,\n",
       "        -0.12403298, -0.12287156, -0.12450303, -0.12667953, -0.12667078,\n",
       "        -0.12424151, -0.1246307 , -0.12455422, -0.1243726 , -0.12256402,\n",
       "        -0.12524289, -0.12736486, -0.12835399, -0.12557424, -0.1263055 ,\n",
       "        -0.12606162, -0.12555467, -0.12399751, -0.12668234],\n",
       "       [-0.14879275, -0.3026219 , -0.14459322, -0.15534514, -0.07425635,\n",
       "        -0.1612837 , -0.12653735, -0.17760446, -0.0260156 , -0.18113468,\n",
       "        -0.02050634, -0.02840142,  0.05149641, -0.0387444 , -0.00342007,\n",
       "        -0.05404876, -0.13637431, -0.28876004, -0.13264529, -0.13928236,\n",
       "        -0.06160159, -0.15009875, -0.11277889, -0.1645163 ,  0.08981689,\n",
       "        -0.06543469,  0.09897872,  0.08966427,  0.16876157,  0.0773984 ,\n",
       "         0.11509462,  0.06201496,  0.16633628,  0.01075226,  0.17262895,\n",
       "         0.16289817,  0.24398325,  0.15750899,  0.19421785,  0.13685406,\n",
       "        -0.01682098, -0.17122037, -0.00962426, -0.01799932,  0.06097867,\n",
       "        -0.0293857 ,  0.00766815, -0.0432277 ,  0.03567592, -0.12195402,\n",
       "         0.04220077,  0.03321644,  0.11297023,  0.02304588,  0.05968243,\n",
       "         0.00701957,  0.1250848 , -0.02941774,  0.13260143,  0.12455641,\n",
       "         0.20464279,  0.11278856,  0.14923119,  0.09839955],\n",
       "       [ 0.16691611,  0.05875896,  0.07096882, -0.04019737,  0.05891749,\n",
       "         0.22831376,  0.12638551,  0.03588403,  0.09615196, -0.00630789,\n",
       "         0.00267965, -0.10734342, -0.01121926,  0.16140015,  0.05962904,\n",
       "        -0.03290894, -0.0535254 , -0.158967  , -0.14995833, -0.25914471,\n",
       "        -0.16561926,  0.01033255, -0.09418995, -0.18551343,  0.25913565,\n",
       "         0.154446  ,  0.16415623,  0.05383238,  0.1489782 ,  0.31670365,\n",
       "         0.217505  ,  0.12561506, -0.05094992, -0.15699495, -0.14249953,\n",
       "        -0.25597134, -0.15781204,  0.01201935, -0.09610818, -0.18135714,\n",
       "         0.0974355 , -0.00928867, -0.00208093, -0.10939698, -0.01537517,\n",
       "         0.15876593,  0.05362157, -0.03749608,  0.03575031, -0.06973793,\n",
       "        -0.06035453, -0.16920763, -0.0759882 ,  0.09795839, -0.00578068,\n",
       "        -0.09834192,  0.07963915, -0.02606045, -0.015658  , -0.12759712,\n",
       "        -0.03236326,  0.13817625,  0.03550207, -0.05047882],\n",
       "       [-0.12574721,  0.04726167,  0.02176399,  0.05535325,  0.07106027,\n",
       "         0.13410415,  0.15260413, -0.04713738, -0.26417382, -0.09250107,\n",
       "        -0.11761742, -0.08577578, -0.06797879, -0.00675196,  0.01052776,\n",
       "        -0.18540722, -0.12843438,  0.04232077,  0.01677906,  0.04656608,\n",
       "         0.07004633,  0.1325478 ,  0.14737424, -0.04803296, -0.19624246,\n",
       "        -0.02311084, -0.04924185, -0.01683302,  0.00078319,  0.06327026,\n",
       "         0.08083352, -0.1160612 , -0.25039382, -0.08018387, -0.10396168,\n",
       "        -0.07289127, -0.05500854,  0.00621035,  0.02377716, -0.16993374,\n",
       "        -0.2712185 , -0.10350849, -0.12639044, -0.09300497, -0.07688964,\n",
       "        -0.01529349,  0.00109169, -0.19412514, -0.01314174,  0.16235201,\n",
       "         0.13469677,  0.16654073,  0.18347447,  0.24478233,  0.26215102,\n",
       "         0.06847661, -0.05892271,  0.11796314,  0.08863093,  0.12229069,\n",
       "         0.14035492,  0.20096528,  0.21792311,  0.02284217],\n",
       "       [ 0.14723456, -0.06375235,  0.10785823, -0.16349129, -0.1289139 ,\n",
       "        -0.0294126 ,  0.02095452,  0.0096694 ,  0.12965309, -0.07592889,\n",
       "         0.09377452, -0.17623924, -0.14543115, -0.04443349,  0.00372916,\n",
       "        -0.00347185,  0.25919355,  0.05317908,  0.22430295, -0.04832342,\n",
       "        -0.0143111 ,  0.08953897,  0.13617398,  0.12215779,  0.08132706,\n",
       "        -0.12807845,  0.04382215, -0.2308954 , -0.19183992, -0.0888405 ,\n",
       "        -0.04366663, -0.05443484,  0.16676416, -0.04080311,  0.1277118 ,\n",
       "        -0.14146551, -0.10473641, -0.00562115,  0.04081516,  0.02668765,\n",
       "         0.037113  , -0.167216  , -0.00126018, -0.26677402, -0.23802453,\n",
       "        -0.13741377, -0.09050266, -0.09722746,  0.16634193, -0.04182717,\n",
       "         0.12552258, -0.14468206, -0.10895091, -0.00768391,  0.03692947,\n",
       "         0.02886235,  0.27506072,  0.06654668,  0.2338697 , -0.03415101,\n",
       "         0.00053355,  0.10174914,  0.14669051,  0.13862384]])"
      ]
     },
     "execution_count": 15,
     "metadata": {},
     "output_type": "execute_result"
    }
   ],
   "source": [
    "V_T[:5, :]"
   ]
  },
  {
   "cell_type": "markdown",
   "metadata": {
    "id": "Y3WYiyATqIDY"
   },
   "source": [
    "## Where can we find vector space in reduced dimension?"
   ]
  },
  {
   "cell_type": "code",
   "execution_count": 16,
   "metadata": {
    "colab": {
     "base_uri": "https://localhost:8080/"
    },
    "id": "XA1lZPBSqIDY",
    "outputId": "39a5b0f5-1a9b-4ba2-8196-acb2d0d056dd"
   },
   "outputs": [
    {
     "data": {
      "text/plain": [
       "(10000, 5)"
      ]
     },
     "execution_count": 16,
     "metadata": {},
     "output_type": "execute_result"
    }
   ],
   "source": [
    "U[:, :5].shape"
   ]
  },
  {
   "cell_type": "code",
   "execution_count": 17,
   "metadata": {
    "colab": {
     "base_uri": "https://localhost:8080/"
    },
    "id": "g2BiYSVMqIDZ",
    "outputId": "a4564554-ae9f-4861-b6dc-42c45a3706b1"
   },
   "outputs": [
    {
     "data": {
      "text/plain": [
       "array([[-0.01089724,  0.02019641, -0.00491279,  0.01643246,  0.00838835],\n",
       "       [-0.00824357,  0.01339253, -0.01285844,  0.0033604 ,  0.00822905],\n",
       "       [-0.01084728, -0.005671  , -0.01018208,  0.01683211, -0.01144061],\n",
       "       ...,\n",
       "       [-0.01087723, -0.01541497, -0.01822903,  0.00227725, -0.00055324],\n",
       "       [-0.01086102, -0.00116561, -0.0061415 , -0.02145552, -0.00405246],\n",
       "       [-0.00823218,  0.01164858, -0.00076543,  0.02442473,  0.01046707]])"
      ]
     },
     "execution_count": 17,
     "metadata": {},
     "output_type": "execute_result"
    }
   ],
   "source": [
    "U[:, :5]"
   ]
  },
  {
   "cell_type": "markdown",
   "metadata": {
    "id": "UWgwxcD2qIDZ"
   },
   "source": [
    "## Reconstruction from reduced space and error calculation"
   ]
  },
  {
   "cell_type": "code",
   "execution_count": 18,
   "metadata": {
    "colab": {
     "base_uri": "https://localhost:8080/"
    },
    "id": "55pCA-s2qIDZ",
    "outputId": "de464a99-a91b-49f0-9481-d4c46cc29e28"
   },
   "outputs": [
    {
     "data": {
      "text/plain": [
       "(10000, 64)"
      ]
     },
     "execution_count": 18,
     "metadata": {},
     "output_type": "execute_result"
    }
   ],
   "source": [
    "# R = U[:,:32].dot(np.diag(s[:32])).dot(V_T[:32, :])\n",
    "R = U[:, :5].dot(np.diag(s[:5])).dot(V_T[:5, :])\n",
    "R.shape"
   ]
  },
  {
   "cell_type": "code",
   "execution_count": 19,
   "metadata": {
    "colab": {
     "base_uri": "https://localhost:8080/",
     "height": 470
    },
    "id": "E6tSBbwvqIDZ",
    "outputId": "675d63ce-02d8-48f2-e3a3-2784a4e1bc66"
   },
   "outputs": [
    {
     "data": {
      "text/plain": [
       "Text(0.5, 1.0, 'Original image')"
      ]
     },
     "execution_count": 19,
     "metadata": {},
     "output_type": "execute_result"
    },
    {
     "data": {
      "image/png": "[encoded data removed]",
      "text/plain": [
       "<Figure size 640x480 with 1 Axes>"
      ]
     },
     "metadata": {},
     "output_type": "display_data"
    }
   ],
   "source": [
    "show_image(X[2])\n",
    "plt.title('Original image')"
   ]
  },
  {
   "cell_type": "code",
   "execution_count": 20,
   "metadata": {
    "colab": {
     "base_uri": "https://localhost:8080/",
     "height": 470
    },
    "id": "bPd5QD_UqIDa",
    "outputId": "401f4dce-71c4-4487-b799-e0d48fa0362b"
   },
   "outputs": [
    {
     "data": {
      "text/plain": [
       "Text(0.5, 1.0, 'Reconstructed image when only 5 dimensions are used')"
      ]
     },
     "execution_count": 20,
     "metadata": {},
     "output_type": "execute_result"
    },
    {
     "data": {
      "image/png": "[encoded data removed]",
      "text/plain": [
       "<Figure size 640x480 with 1 Axes>"
      ]
     },
     "metadata": {},
     "output_type": "display_data"
    }
   ],
   "source": [
    "show_image(R[2])\n",
    "plt.title('Reconstructed image when only 5 dimensions are used')"
   ]
  },
  {
   "cell_type": "markdown",
   "metadata": {
    "id": "8W9EMb-0qIDa"
   },
   "source": [
    "What is the error for reconstructed picture?"
   ]
  },
  {
   "cell_type": "code",
   "execution_count": 21,
   "metadata": {
    "colab": {
     "base_uri": "https://localhost:8080/"
    },
    "id": "w37BxXhVqIDa",
    "outputId": "b08e312d-b3d2-4791-a287-8043c4849e48"
   },
   "outputs": [
    {
     "name": "stdout",
     "output_type": "stream",
     "text": [
      "[   3.82238709   70.50902768  -95.41048352   33.90280998 -179.13178553\n",
      " -145.81480685   95.59350276 -108.77944599   60.25860472  129.8385979\n",
      "  -36.51782997   94.86620649 -122.89825575  -87.74271955  153.62575602\n",
      "  -51.22577216  -18.52101325   51.3090643  -115.86903453   16.47845791\n",
      " -203.63176033 -166.7681105    74.90671194 -132.13253529   74.7696726\n",
      "  141.03345957  -23.27925851  105.53868741 -107.70286201  -73.47480251\n",
      "  167.43853464  -38.99568713   52.03450765  120.35339376  -45.42749685\n",
      "   85.57631992 -128.14689513  -95.33095459  144.40681941  -61.93270782\n",
      "   37.23970361  107.36359866  -62.10231846   72.1981188  -146.37543541\n",
      " -110.64707851  129.76684152  -75.21113189  207.08629063   18.73798945\n",
      "  108.64372768  -14.73783008   24.71831792   60.48464167   45.70419344\n",
      "   93.05369129   27.94050866   93.36719537  -70.72630954   59.74996291\n",
      " -155.85820122 -120.68436496  119.83005621  -85.20991955]\n"
     ]
    }
   ],
   "source": [
    "print(X[2] - R[2])"
   ]
  },
  {
   "cell_type": "markdown",
   "metadata": {
    "id": "8sNykJxOqIDa"
   },
   "source": [
    "What is the error for reconstructed pictures?"
   ]
  },
  {
   "cell_type": "code",
   "execution_count": 22,
   "metadata": {
    "colab": {
     "base_uri": "https://localhost:8080/"
    },
    "id": "LZq_5p3tqIDb",
    "outputId": "4191239b-411c-43dd-b226-64217aa557ab"
   },
   "outputs": [
    {
     "name": "stdout",
     "output_type": "stream",
     "text": [
      "[[ 4.23051495e+00  4.27071150e+01 -6.32099388e+01 ... -1.02635171e+01\n",
      "  -5.78117388e+01  4.00232361e+01]\n",
      " [-1.17531994e+00  4.55843404e+01  2.16815382e+02 ... -1.20211711e+02\n",
      "  -1.76885511e+02 -1.71087580e+02]\n",
      " [ 3.82238709e+00  7.05090277e+01 -9.54104835e+01 ... -1.20684365e+02\n",
      "   1.19830056e+02 -8.52099196e+01]\n",
      " ...\n",
      " [-8.76916869e+01  4.15640460e+01  1.15665709e+02 ... -1.64401512e+01\n",
      "  -4.92478860e+01 -1.01238291e+02]\n",
      " [ 1.06205197e+02 -9.65794359e+01 -8.49420450e+01 ...  3.13292689e+01\n",
      "   3.16222278e+01  1.59831169e+02]\n",
      " [ 4.96907039e-02 -8.46391660e+00 -8.48537557e+01 ... -1.85738584e+01\n",
      "  -5.32766447e+01  8.38954314e+01]]\n"
     ]
    }
   ],
   "source": [
    "print(X - R)"
   ]
  },
  {
   "cell_type": "code",
   "execution_count": 23,
   "metadata": {
    "colab": {
     "base_uri": "https://localhost:8080/"
    },
    "id": "vo5_HhmfqIDb",
    "outputId": "7f98c00c-cdb2-4b36-a9f9-ae94d56edce2"
   },
   "outputs": [
    {
     "data": {
      "text/plain": [
       "np.float64(85409.48396501165)"
      ]
     },
     "execution_count": 23,
     "metadata": {},
     "output_type": "execute_result"
    }
   ],
   "source": [
    "np.linalg.norm(X - R)"
   ]
  },
  {
   "cell_type": "markdown",
   "metadata": {
    "id": "ZiMGsajHqIDb"
   },
   "source": [
    "# Individual tasks\n",
    "\n",
    "- **Objective of first task is to use reduction dimension to reduce noise in the synthetic datasets.**\n",
    "\n",
    "- **Second task should demonstare usage of dimension reductions techniques for 2D visualization and showing clustering results in that vis.**\n",
    "\n",
    "---"
   ]
  },
  {
   "cell_type": "markdown",
   "metadata": {
    "id": "7fNugNOuqIDb"
   },
   "source": [
    "## Task 1(1p) : Complete following tasks for dimension reduction using SVD over our toy datasets (bars, bars_noise20, bars_noise50)"
   ]
  },
  {
   "cell_type": "markdown",
   "metadata": {
    "id": "s3zJKp1bqIDb"
   },
   "source": [
    "### Qustion: What does the number from previous cell mean? What is the output from *np.linalg.norm* function?"
   ]
  },
  {
   "cell_type": "markdown",
   "metadata": {
    "id": "QJ9mLGTLqIDc"
   },
   "source": [
    "Answer: The ```np.linalg.norm``` function outputs the **Frobenius norm**, which measures the total reconstruction *error* between the original and reconstructed matrices. A lower Frobenius norm indicates a closer match, meaning less information was lost during dimension reduction, while a higher norm suggests more information loss and poorer reconstruction quality."
   ]
  },
  {
   "cell_type": "markdown",
   "metadata": {
    "id": "SKJuWxgpqIDc"
   },
   "source": [
    "### Find optimal number of features/dimension for our toy datasets\n",
    "- Our datasets **X_noise_20** and **X_noise_50** contain noise, we want to use dimension reduction to eliminate impact of noise in our dataset\n",
    "- **Try different number of dimensions for dimension reduction, calculate Frobenius norm for reconstructed and original matrix, create plot with reconstruction error values afterwards.** Is 5,10,15,20,...,40 dimensions enough if the original data had 64 dimensions?\n",
    "- Repeat proces for datasets **X**, **X_noise_20**, **X_noise_50**\n"
   ]
  },
  {
   "cell_type": "code",
   "execution_count": 24,
   "metadata": {
    "id": "9HkjsncYqIDc"
   },
   "outputs": [],
   "source": [
    "def calculate_reconstruction_errors(data, max_dim=64):\n",
    "    dimensions = range(1, max_dim + 1)\n",
    "    errors = {name: [] for name in data.keys()}\n",
    "\n",
    "    for dim in dimensions:\n",
    "        for name, matrix in data.items():\n",
    "            U, s, V_T = np.linalg.svd(matrix, full_matrices=False)\n",
    "            U_reduced = U[:, :dim]\n",
    "            s_reduced = np.diag(s[:dim])\n",
    "            V_T_reduced = V_T[:dim, :]\n",
    "            R = np.dot(np.dot(U_reduced, s_reduced), V_T_reduced)\n",
    "            error = np.linalg.norm(matrix - R, 'fro')\n",
    "            errors[name].append(error)\n",
    "\n",
    "    # plot with all datasets on the same chart\n",
    "    plt.figure(figsize=(10, 6))\n",
    "    for name, error in errors.items():\n",
    "        plt.plot(dimensions, error, label=name, marker='o')\n",
    "\n",
    "    plt.xlabel(\"Number of Dimensions\")\n",
    "    plt.ylabel(\"Frobenius Norm (Reconstruction Error)\")\n",
    "    plt.title(\"Reconstruction Error vs. Number of Dimensions\")\n",
    "    plt.legend(title=\"Dataset\")\n",
    "    plt.grid(True)\n",
    "    plt.show()\n",
    "\n",
    "    return errors"
   ]
  },
  {
   "cell_type": "code",
   "execution_count": 25,
   "metadata": {
    "colab": {
     "base_uri": "https://localhost:8080/",
     "height": 564
    },
    "id": "KiKKl2HohXiA",
    "outputId": "f2cb9ead-f368-4ae6-affd-8c0fcc4af3c0"
   },
   "outputs": [
    {
     "data": {
      "image/png": "[encoded data removed]",
      "text/plain": [
       "<Figure size 1000x600 with 1 Axes>"
      ]
     },
     "metadata": {},
     "output_type": "display_data"
    }
   ],
   "source": [
    "datasets = {\"X\": X, \"X_noise_20\": X_noise_20, \"X_noise_50\": X_noise_50}\n",
    "errors = calculate_reconstruction_errors(datasets, max_dim=64)"
   ]
  },
  {
   "cell_type": "markdown",
   "metadata": {
    "id": "CJkz5bZwqIDc"
   },
   "source": [
    "### Interpret results based on previous graphs. What is the best number of dimensions? Why? Is there any connection between best dimension and process \"how\" the images were generated and what information they represent?"
   ]
  },
  {
   "cell_type": "markdown",
   "metadata": {
    "id": "vi6AWByIqIDc"
   },
   "source": [
    "Interpretation: We can clearly see that our dataset has been reconstructed very well with just 15 dimensions by look at the graph. We can determine this number by looking at the point where the error starts to level off similar to an elbow point. The data in the noisiest dataset looks like has been reconstructed very well and the noise reduction seems to have helped clean up the data a lot.\n",
    "\n",
    "Since our dataset contains images created by combining vertical and horizontal lines, there is high probability that we do not need to know the color of each pixel, we only need to know the position of each horizontal and vertical line. Therefore each picture could be represented using just 16 dimensions, rather than 64, which confirms our results."
   ]
  },
  {
   "cell_type": "markdown",
   "metadata": {
    "id": "aWPqzLC-qIDd"
   },
   "source": [
    "### Can you \"recover\" information for following image?"
   ]
  },
  {
   "cell_type": "code",
   "execution_count": 26,
   "metadata": {
    "colab": {
     "base_uri": "https://localhost:8080/",
     "height": 470
    },
    "id": "JEs4Z3x4kyua",
    "outputId": "e6b1a786-e604-4240-b653-da7cc8769051"
   },
   "outputs": [
    {
     "data": {
      "text/plain": [
       "Text(0.5, 1.0, 'Original image')"
      ]
     },
     "execution_count": 26,
     "metadata": {},
     "output_type": "execute_result"
    },
    {
     "data": {
      "image/png": "[encoded data removed]",
      "text/plain": [
       "<Figure size 640x480 with 1 Axes>"
      ]
     },
     "metadata": {},
     "output_type": "display_data"
    }
   ],
   "source": [
    "show_image(X[2])\n",
    "plt.title(\"Original image\")"
   ]
  },
  {
   "cell_type": "code",
   "execution_count": 27,
   "metadata": {
    "colab": {
     "base_uri": "https://localhost:8080/",
     "height": 430
    },
    "id": "mehLfXiRqIDd",
    "outputId": "78ffc98a-f8ef-4433-ae07-95424f5069b6"
   },
   "outputs": [
    {
     "data": {
      "image/png": "[encoded data removed]",
      "text/plain": [
       "<Figure size 640x480 with 1 Axes>"
      ]
     },
     "metadata": {},
     "output_type": "display_data"
    }
   ],
   "source": [
    "show_image(X_noise_50[2])"
   ]
  },
  {
   "cell_type": "code",
   "execution_count": null,
   "metadata": {
    "colab": {
     "base_uri": "https://localhost:8080/",
     "height": 430
    },
    "id": "T0nM0D4OklL6",
    "outputId": "9fee8b8b-fb50-4bb6-8872-32438ebaf944"
   },
   "outputs": [],
   "source": [
    "U, s, V_T = np.linalg.svd(X_noise_50, full_matrices=True)\n",
    "R = U[:, :15].dot(np.diag(s[:15])).dot(V_T[:15, :])\n",
    "show_image(R[2])"
   ]
  },
  {
   "cell_type": "markdown",
   "metadata": {
    "id": "U0hJNnbyqIDd"
   },
   "source": [
    "#### Does the dimension reduction have effect for noise reduction?\n",
    "1. Visualize original image *X\\[2\\]* in form of 8x8 image.\n",
    "2. Visualize appropriate image with with high noise *X_noise_50\\[2\\]*.\n",
    "3. Perform dimension reduction for X_noise_50 and choose    a best dimension.\n",
    "4. Visualize reconstructed image (when only several dimensions were used) of image with noise. Did the use of reduced space helped?\n",
    "\n",
    "Asnwer: Yes, the dimension reduction has significant effect on noise reduction. The noise in the image is significantly reduced after dimension reduction and the image looks much \"cleaner\" and more similar to the original image."
   ]
  },
  {
   "cell_type": "markdown",
   "metadata": {
    "id": "FU9Wvou_qIDd"
   },
   "source": [
    "## Task 2(1p) : The use of dimension reduction methods for visualization purposes\n",
    "\n",
    "We have tried some clustering for **Red wine quality data** last week. I have copied the most important cells into this notebook.\n",
    "\n",
    "1. Fill in any clustering method for our dataset **Red wine quality data**, you can use already scaled matrix **X_scaled**.\n",
    "2. Lets use other dimension reduction techniques: PCA and TSNE from sklearn library and get 2D space representation for our matrix **X_scaled**.\n",
    "3. Use 2D representation from dimension reduction methods for 2D visualization of **Red wine quality data** and use color for displaying clusters found in matrix **X_scaled** - create at least two scatter plots for data points and use cluster_id as point's color.Create multiple visualization based on reduction to two dimensions for raw and preprocessed data.\n",
    "\n",
    "- https://scikit-learn.org/stable/modules/generated/sklearn.decomposition.PCA.html\n",
    "- https://scikit-learn.org/stable/modules/generated/sklearn.manifold.TSNE.html"
   ]
  },
  {
   "cell_type": "code",
   "execution_count": null,
   "metadata": {
    "id": "nNk6ZCeJqIDe"
   },
   "outputs": [],
   "source": [
    "df = pd.read_csv('../datasets/data_clustering/winequality-red.csv')\n",
    "df_only_numeric = df.select_dtypes(np.number).drop('quality', axis=1)\n",
    "scaler = sklearn.preprocessing.StandardScaler()\n",
    "X_scaled = scaler.fit_transform(df_only_numeric.values)"
   ]
  },
  {
   "cell_type": "markdown",
   "metadata": {
    "id": "ecJdW6DYqIDe"
   },
   "source": [
    "### Clustering\n",
    "\n",
    "Use any clustering method for preprocessed data.\n",
    "\n",
    "Be aware to apply clustering for **X_scaled**, which is n-diminensional data. Do not use clustering only on 2D representation after dimension reduction."
   ]
  },
  {
   "cell_type": "code",
   "execution_count": null,
   "metadata": {
    "id": "oKTlJ0d2mhG0"
   },
   "outputs": [],
   "source": [
    "from sklearn.cluster import KMeans"
   ]
  },
  {
   "cell_type": "code",
   "execution_count": null,
   "metadata": {
    "id": "426zBPEFnxCr"
   },
   "outputs": [],
   "source": [
    "number_of_clusters = 5  # see previous task, where we've chose this number"
   ]
  },
  {
   "cell_type": "code",
   "execution_count": null,
   "metadata": {
    "id": "ubgo7qwo7kpG"
   },
   "outputs": [],
   "source": [
    "def scoreDimensionsPCA(df):\n",
    "    pca = sklearn.decomposition.PCA()\n",
    "    pca = pca.fit(X_scaled)\n",
    "    return (list(range(1, 12)), pca.explained_variance_ratio_)"
   ]
  },
  {
   "cell_type": "code",
   "execution_count": null,
   "metadata": {
    "colab": {
     "base_uri": "https://localhost:8080/",
     "height": 80
    },
    "id": "b5LAgY_SqBFG",
    "outputId": "0f27f26a-b401-4156-aaf0-5a256cfd2eed"
   },
   "outputs": [],
   "source": [
    "clustering = sklearn.cluster.KMeans(n_clusters=number_of_clusters, random_state=13)\n",
    "clustering.fit(X_scaled)"
   ]
  },
  {
   "cell_type": "code",
   "execution_count": null,
   "metadata": {
    "id": "cmfhXp5klZyQ"
   },
   "outputs": [],
   "source": [
    "kmeans = KMeans(n_clusters=number_of_clusters, random_state=42)\n",
    "clusters = kmeans.fit_predict(X_scaled)"
   ]
  },
  {
   "cell_type": "code",
   "execution_count": null,
   "metadata": {
    "id": "zLjqrJgGqEtE"
   },
   "outputs": [],
   "source": [
    "def plot_reduced(df, reducer, number_of_components=2):\n",
    "    red = reducer(n_components=number_of_components)\n",
    "    reduced = red.fit_transform(df)\n",
    "\n",
    "    reduced_df = pd.DataFrame({'x': reduced[:, 0], 'y': reduced[:, 1]})\n",
    "    reduced_df['cluster_id'] = clustering.labels_\n",
    "\n",
    "    for cluster_id in reduced_df['cluster_id'].unique():\n",
    "        cluster_data = reduced_df[reduced_df['cluster_id'] == cluster_id]\n",
    "        plt.scatter(x=cluster_data['x'], y=cluster_data['y'], label=f'Cluster {cluster_id}')\n",
    "\n",
    "    title = f\"{reducer.__name__} Visualization\"\n",
    "    plt.title(title)\n",
    "\n",
    "    plt.legend(title=\"Cluster ID\")\n",
    "\n",
    "    plt.show()"
   ]
  },
  {
   "cell_type": "code",
   "execution_count": null,
   "metadata": {
    "id": "wNMkj5Hz7mwT"
   },
   "outputs": [],
   "source": [
    "results = scoreDimensionsPCA(X_scaled)"
   ]
  },
  {
   "cell_type": "code",
   "execution_count": null,
   "metadata": {
    "colab": {
     "base_uri": "https://localhost:8080/",
     "height": 448
    },
    "id": "CMaoaLYH7pCT",
    "outputId": "ba542a77-107f-43b4-b180-e486854e5137"
   },
   "outputs": [],
   "source": [
    "sns.lineplot(x=results[0], y=results[1])"
   ]
  },
  {
   "cell_type": "markdown",
   "metadata": {
    "id": "PH1T0j0UR57v"
   },
   "source": [
    "Number of components judging by the elbow point should be 2 or 6. Number 2 seems like a good starting point."
   ]
  },
  {
   "cell_type": "code",
   "execution_count": null,
   "metadata": {
    "id": "bGpBqfMqRWwb"
   },
   "outputs": [],
   "source": [
    "number_of_components = 2"
   ]
  },
  {
   "cell_type": "markdown",
   "metadata": {
    "id": "8gcuYw6DqIDe"
   },
   "source": [
    "### 2D vis"
   ]
  },
  {
   "cell_type": "code",
   "execution_count": null,
   "metadata": {
    "id": "a0CRbzD-n6zn"
   },
   "outputs": [],
   "source": [
    "from sklearn.decomposition import PCA\n",
    "from sklearn.manifold import TSNE"
   ]
  },
  {
   "cell_type": "code",
   "execution_count": null,
   "metadata": {
    "colab": {
     "base_uri": "https://localhost:8080/",
     "height": 684
    },
    "id": "Zd2AzxXnqGFM",
    "outputId": "85ef885a-a40a-420d-e792-4087f1bb484a"
   },
   "outputs": [],
   "source": [
    "plot_reduced(X_scaled, PCA)"
   ]
  },
  {
   "cell_type": "code",
   "execution_count": null,
   "metadata": {
    "colab": {
     "base_uri": "https://localhost:8080/",
     "height": 1000
    },
    "id": "tndAY-uuUG1P",
    "outputId": "ca2ace5f-aee3-406e-9d7e-e3e897841268"
   },
   "outputs": [],
   "source": [
    "plot_reduced(df_only_numeric, PCA)"
   ]
  },
  {
   "cell_type": "code",
   "execution_count": null,
   "metadata": {
    "colab": {
     "base_uri": "https://localhost:8080/",
     "height": 684
    },
    "id": "aRJ_AdZIqJqY",
    "outputId": "7627194b-197b-4e59-ce76-3f247e49553d"
   },
   "outputs": [],
   "source": [
    "plot_reduced(X_scaled, TSNE)"
   ]
  },
  {
   "cell_type": "code",
   "execution_count": null,
   "metadata": {
    "colab": {
     "base_uri": "https://localhost:8080/",
     "height": 1000
    },
    "id": "BexevNwHUNd1",
    "outputId": "f77bb975-3f8c-4b16-9d89-94ed26a27726"
   },
   "outputs": [],
   "source": [
    "plot_reduced(df_only_numeric, TSNE)"
   ]
  },
  {
   "cell_type": "markdown",
   "metadata": {
    "id": "7ZOsO94G7W5q"
   },
   "source": [
    "## Second approach (more verbose)"
   ]
  },
  {
   "cell_type": "code",
   "execution_count": null,
   "metadata": {
    "id": "tY6AsRSx7ZlI"
   },
   "outputs": [],
   "source": [
    "kMeans = sklearn.cluster.KMeans(n_clusters=number_of_clusters, random_state=13)\n",
    "clusters = kMeans.fit_predict(X_scaled)"
   ]
  },
  {
   "cell_type": "code",
   "execution_count": null,
   "metadata": {
    "colab": {
     "base_uri": "https://localhost:8080/"
    },
    "id": "AtomhkrI7gbZ",
    "outputId": "f48d9a22-58e2-4597-f168-8ab8a856ed85"
   },
   "outputs": [],
   "source": [
    "df_only_numeric.shape"
   ]
  },
  {
   "cell_type": "code",
   "execution_count": null,
   "metadata": {
    "id": "GahguBvM7rZo"
   },
   "outputs": [],
   "source": [
    "pca = sklearn.decomposition.PCA(n_components=number_of_components)\n",
    "pca = pca.fit(X_scaled)\n",
    "representation2D = pca.transform(X_scaled)\n",
    "pca_scaled_df = pd.DataFrame(representation2D)\n",
    "pca_scaled_df[2] = clusters"
   ]
  },
  {
   "cell_type": "code",
   "execution_count": null,
   "metadata": {
    "colab": {
     "base_uri": "https://localhost:8080/",
     "height": 472
    },
    "id": "NnI5I76p7tYc",
    "outputId": "2c4126eb-05a6-4932-cdcb-ce156e564460"
   },
   "outputs": [],
   "source": [
    "sns.scatterplot(x=pca_scaled_df[0], y=pca_scaled_df[1], hue=pca_scaled_df[2], palette=\"Set2\")\n",
    "plt.title(\"Scaled data for PCA\")\n",
    "plt.show()"
   ]
  },
  {
   "cell_type": "code",
   "execution_count": null,
   "metadata": {
    "id": "-wyCBkqz7wD0"
   },
   "outputs": [],
   "source": [
    "pca = sklearn.decomposition.PCA(n_components=number_of_components)\n",
    "pca = pca.fit(df_only_numeric)\n",
    "representation2D = pca.transform(df_only_numeric)\n",
    "pca_non_scaled_df = pd.DataFrame(representation2D)\n",
    "pca_non_scaled_df[2] = clusters"
   ]
  },
  {
   "cell_type": "code",
   "execution_count": null,
   "metadata": {
    "colab": {
     "base_uri": "https://localhost:8080/",
     "height": 472
    },
    "id": "oiHrsNUb7z79",
    "outputId": "e7d3c0e7-4dd9-4bbb-ec0a-f9400c5e3b62"
   },
   "outputs": [],
   "source": [
    "sns.scatterplot(x=pca_non_scaled_df[0], y=pca_non_scaled_df[1], hue=pca_non_scaled_df[2], palette=\"Set2\")\n",
    "plt.title(\"Non-scale data for PCA\")\n",
    "plt.show()"
   ]
  },
  {
   "cell_type": "code",
   "execution_count": null,
   "metadata": {
    "id": "5MQV_2V_8c8R"
   },
   "outputs": [],
   "source": [
    "tsne = sklearn.manifold.TSNE(n_components=2)\n",
    "representation2D = tsne.fit_transform(X_scaled)\n",
    "tsne_scaled_df = pd.DataFrame(representation2D)\n",
    "tsne_scaled_df[2] = clusters"
   ]
  },
  {
   "cell_type": "code",
   "execution_count": null,
   "metadata": {
    "colab": {
     "base_uri": "https://localhost:8080/",
     "height": 472
    },
    "id": "3OdeaURZ8so2",
    "outputId": "91c238d4-deda-4f3d-99b1-ca1caf5454e6"
   },
   "outputs": [],
   "source": [
    "sns.scatterplot(x=tsne_scaled_df[0], y=tsne_scaled_df[1], hue=tsne_scaled_df[2], palette=\"Set2\")\n",
    "plt.title(\"Scaled data for TSNE\")\n",
    "plt.show()"
   ]
  },
  {
   "cell_type": "code",
   "execution_count": null,
   "metadata": {
    "id": "r2nuIu569qej"
   },
   "outputs": [],
   "source": [
    "tsne = sklearn.manifold.TSNE(n_components=2)\n",
    "representation2D = tsne.fit_transform(df_only_numeric)\n",
    "tsne_non_scaled_df = pd.DataFrame(representation2D)\n",
    "tsne_non_scaled_df[2] = clusters"
   ]
  },
  {
   "cell_type": "code",
   "execution_count": null,
   "metadata": {
    "colab": {
     "base_uri": "https://localhost:8080/",
     "height": 472
    },
    "id": "52Q3mnR59vb4",
    "outputId": "4ee7b841-53f2-4eaf-b60f-ffaf942facdc"
   },
   "outputs": [],
   "source": [
    "sns.scatterplot(x=tsne_non_scaled_df[0], y=tsne_non_scaled_df[1], hue=tsne_non_scaled_df[2], palette=\"Set2\")\n",
    "plt.title(\"Non-scale data for TSNE\")\n",
    "plt.show()"
   ]
  },
  {
   "cell_type": "markdown",
   "metadata": {
    "id": "pkmTZVucqIDf"
   },
   "source": [
    "#### Should we rescale the data before using dimension reduction?\n",
    "- I have copied some answers on previous question from discussions.\n",
    "\n",
    "\"In summary, use the correlation matrix R when within-variable range and scale widely differs, and use the covariance matrix C to preserve variance if the range and scale of variables is similar or in the same units of measure.\" https://stats.stackexchange.com/questions/53/pca-on-correlation-or-covariance\n",
    "\n",
    "\"There are multiple versions of principal component algorithms, but most select a first principal component that maximizes variance. That only makes sense if a one unit difference in each of your measures is equally important. Even if your measures are in the same units, say dollars, that may not be true. If your measures are in different units, say one in inches and one in dollars, it would only be by coincidence that one inch was equally important as one dollar.\" https://www.quora.com/Why-do-you-need-to-scale-your-data-before-applying-PCA\n",
    "\n",
    "\"If you have data in different scales, the dimensions with larger scale will dominate, this is probably not what you want.\" https://www.quora.com/Why-do-you-need-to-scale-your-data-before-applying-PCA\n",
    "\n",
    "\"Generally speaking, Normalization is needed before PCA. The key to the problem is the order of feature selection, and it's depends on the method of feature selection.\" https://stackoverflow.com/questions/46062679/right-order-of-doing-feature-selection-pca-and-normalization\n",
    "\n",
    "\"t-SNE is sensitive to feature-wise normalization; and no theory says that such normalization will in general improve or degrade results, it fully depends on your data and expectation. If you can make more sense with maps from un-normalized data, then it indicates that normalization is not good for your study.\" https://www.reddit.com/r/MachineLearning/comments/5ygh1q/d_data_preprocessing_tips_for_tsne/\n",
    "\n",
    "\"rescaling is necessary if you want the different dimensions to be treated with equal importance, since the 2-norm will be more heavily influenced by dimensions with large variance.\" https://stats.stackexchange.com/questions/164917/should-data-be-centeredscaled-before-applying-t-sne"
   ]
  },
  {
   "cell_type": "markdown",
   "metadata": {
    "id": "x3jP8RtyqIDg"
   },
   "source": [
    "#### Sample output of 2D visualization obtained by PCA method with labels from k-Means clustering\n",
    "\n",
    "![image-2.png](attachment:image-2.png)"
   ]
  },
  {
   "cell_type": "markdown",
   "metadata": {
    "id": "wkn-Jaa0qIDg"
   },
   "source": [
    "#### Just a meme"
   ]
  },
  {
   "cell_type": "markdown",
   "metadata": {
    "id": "R8kdlgAHqIDg"
   },
   "source": [
    "![a4fcac8e595c3c020fde81e7ca1110b297e9abf2d4d06a93781397b6fc884b1f_1.jpg](attachment:a4fcac8e595c3c020fde81e7ca1110b297e9abf2d4d06a93781397b6fc884b1f_1.jpg)"
   ]
  }
 ],
 "metadata": {
  "colab": {
   "provenance": []
  },
  "kernelspec": {
   "display_name": "Python 3 (ipykernel)",
   "language": "python",
   "name": "python3"
  },
  "language_info": {
   "codemirror_mode": {
    "name": "ipython",
    "version": 3
   },
   "file_extension": ".py",
   "mimetype": "text/x-python",
   "name": "python",
   "nbconvert_exporter": "python",
   "pygments_lexer": "ipython3",
   "version": "3.12.3"
  }
 },
 "nbformat": 4,
 "nbformat_minor": 4
}

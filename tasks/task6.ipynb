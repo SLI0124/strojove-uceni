{
 "cells": [
  {
   "cell_type": "markdown",
   "id": "30b61190-61c1-4dd2-a9ec-acbadc8a52ef",
   "metadata": {
    "tags": []
   },
   "source": [
    "# Supervised learning - Classification\n",
    "Goal of the excercise is to learn how to use Scikit-learn library for a classification tasks using Decision tree, SVM and NN. Moreover evaluate the performance of the proposed models."
   ]
  },
  {
   "cell_type": "code",
   "id": "a70c5553-ad01-4d43-93fb-50c085f09a64",
   "metadata": {
    "ExecuteTime": {
     "end_time": "2024-11-07T17:17:01.331197Z",
     "start_time": "2024-11-07T17:17:00.716473Z"
    }
   },
   "source": [
    "import numpy as np\n",
    "import pandas as pd\n",
    "import seaborn as sns\n",
    "import matplotlib.pyplot as plt\n",
    "import math\n",
    "\n",
    "import sklearn\n",
    "from sklearn.tree import DecisionTreeClassifier\n",
    "from sklearn.svm import SVC, LinearSVC\n",
    "from sklearn.neural_network import MLPClassifier\n",
    "from sklearn.model_selection import train_test_split, StratifiedKFold, KFold, cross_val_score\n",
    "from sklearn.metrics import accuracy_score, f1_score, recall_score, precision_score, confusion_matrix, auc, \\\n",
    "    ConfusionMatrixDisplay, classification_report\n",
    "from sklearn.preprocessing import OrdinalEncoder, StandardScaler"
   ],
   "outputs": [],
   "execution_count": 1
  },
  {
   "cell_type": "markdown",
   "id": "948a2f23-7783-4218-b011-1690c65805c3",
   "metadata": {
    "tags": []
   },
   "source": [
    "#### Data Dictionary\n",
    "\n",
    "|Variable|Definition|Key|\n",
    "|:-------|:-------|:--------|\n",
    "|survival|Survival|0 = No, 1 = Yes|\n",
    "|pclass|Ticket class|1 = 1st, 2 = 2nd, 3 = 3rd|\n",
    "|sex|Sex||\n",
    "|Age|Age in years||\n",
    "|sibsp|# of siblings / spouses aboard the Titanic||\n",
    "|parch|# of parents / children aboard the Titanic||\n",
    "|ticket|Ticket number||\n",
    "|fare|Passenger fare||\n",
    "|cabin|Cabin number||\n",
    "|embarked|Port of Embarkation|C = Cherbourg, Q = Queenstown, S = Southampton|\n",
    "\n",
    "**pclass**: A proxy for socio-economic status (SES)\n",
    "1st = Upper\n",
    "2nd = Middle\n",
    "3rd = Lower\n",
    "\n",
    "**age**: Age is fractional if less than 1. If the age is estimated, is it in the form of xx.5\n",
    "\n",
    "**sibsp**: The dataset defines family relations in this way...\n",
    "Sibling = brother, sister, stepbrother, stepsister\n",
    "Spouse = husband, wife (mistresses and fiancés were ignored)\n",
    "\n",
    "**parch**: The dataset defines family relations in this way...\n",
    "Parent = mother, father\n",
    "Child = daughter, son, stepdaughter, stepson\n",
    "Some children travelled only with a nanny, therefore parch=0 for them."
   ]
  },
  {
   "cell_type": "markdown",
   "id": "bdd915f1-bf25-4b51-8f86-863cd5a891c4",
   "metadata": {},
   "source": [
    "- Decision tree https://scikit-learn.org/stable/modules/generated/sklearn.tree.DecisionTreeClassifier.html\n",
    "- Train test split https://scikit-learn.org/stable/modules/generated/sklearn.model_selection.train_test_split.html\n",
    "- Accuracy https://scikit-learn.org/stable/modules/generated/sklearn.metrics.accuracy_score.html\n",
    "- Metrics https://scikit-learn.org/stable/modules/model_evaluation.html\n",
    "- K-Fold CV https://scikit-learn.org/stable/modules/generated/sklearn.model_selection.KFold.html#sklearn.model_selection.KFold\n",
    "- SVM https://scikit-learn.org/stable/modules/generated/sklearn.svm.SVC.html"
   ]
  },
  {
   "cell_type": "markdown",
   "id": "2d685ada-68b5-474a-84d5-5bfacd4a9eca",
   "metadata": {
    "tags": []
   },
   "source": [
    "## Load the titanic.csv dataset\n",
    "- We want to create a model that predicts if a certain passanger survives or not, thus **survival** is the class label in this case"
   ]
  },
  {
   "cell_type": "code",
   "id": "0b9043cd-4e41-40b0-93e1-712d94d122b3",
   "metadata": {
    "ExecuteTime": {
     "end_time": "2024-11-07T17:17:01.492088Z",
     "start_time": "2024-11-07T17:17:01.443410Z"
    }
   },
   "source": [
    "df = pd.read_csv('../datasets/data_classification/titanic.csv', index_col=0)\n",
    "df"
   ],
   "outputs": [
    {
     "data": {
      "text/plain": [
       "             Survived  Pclass  \\\n",
       "PassengerId                     \n",
       "1                   0       3   \n",
       "2                   1       1   \n",
       "3                   1       3   \n",
       "4                   1       1   \n",
       "5                   0       3   \n",
       "...               ...     ...   \n",
       "887                 0       2   \n",
       "888                 1       1   \n",
       "889                 0       3   \n",
       "890                 1       1   \n",
       "891                 0       3   \n",
       "\n",
       "                                                          Name     Sex   Age  \\\n",
       "PassengerId                                                                    \n",
       "1                                      Braund, Mr. Owen Harris    male  22.0   \n",
       "2            Cumings, Mrs. John Bradley (Florence Briggs Th...  female  38.0   \n",
       "3                                       Heikkinen, Miss. Laina  female  26.0   \n",
       "4                 Futrelle, Mrs. Jacques Heath (Lily May Peel)  female  35.0   \n",
       "5                                     Allen, Mr. William Henry    male  35.0   \n",
       "...                                                        ...     ...   ...   \n",
       "887                                      Montvila, Rev. Juozas    male  27.0   \n",
       "888                               Graham, Miss. Margaret Edith  female  19.0   \n",
       "889                   Johnston, Miss. Catherine Helen \"Carrie\"  female   NaN   \n",
       "890                                      Behr, Mr. Karl Howell    male  26.0   \n",
       "891                                        Dooley, Mr. Patrick    male  32.0   \n",
       "\n",
       "             SibSp  Parch            Ticket     Fare Cabin Embarked  \n",
       "PassengerId                                                          \n",
       "1                1      0         A/5 21171   7.2500   NaN        S  \n",
       "2                1      0          PC 17599  71.2833   C85        C  \n",
       "3                0      0  STON/O2. 3101282   7.9250   NaN        S  \n",
       "4                1      0            113803  53.1000  C123        S  \n",
       "5                0      0            373450   8.0500   NaN        S  \n",
       "...            ...    ...               ...      ...   ...      ...  \n",
       "887              0      0            211536  13.0000   NaN        S  \n",
       "888              0      0            112053  30.0000   B42        S  \n",
       "889              1      2        W./C. 6607  23.4500   NaN        S  \n",
       "890              0      0            111369  30.0000  C148        C  \n",
       "891              0      0            370376   7.7500   NaN        Q  \n",
       "\n",
       "[891 rows x 11 columns]"
      ],
      "text/html": [
       "<div>\n",
       "<style scoped>\n",
       "    .dataframe tbody tr th:only-of-type {\n",
       "        vertical-align: middle;\n",
       "    }\n",
       "\n",
       "    .dataframe tbody tr th {\n",
       "        vertical-align: top;\n",
       "    }\n",
       "\n",
       "    .dataframe thead th {\n",
       "        text-align: right;\n",
       "    }\n",
       "</style>\n",
       "<table border=\"1\" class=\"dataframe\">\n",
       "  <thead>\n",
       "    <tr style=\"text-align: right;\">\n",
       "      <th></th>\n",
       "      <th>Survived</th>\n",
       "      <th>Pclass</th>\n",
       "      <th>Name</th>\n",
       "      <th>Sex</th>\n",
       "      <th>Age</th>\n",
       "      <th>SibSp</th>\n",
       "      <th>Parch</th>\n",
       "      <th>Ticket</th>\n",
       "      <th>Fare</th>\n",
       "      <th>Cabin</th>\n",
       "      <th>Embarked</th>\n",
       "    </tr>\n",
       "    <tr>\n",
       "      <th>PassengerId</th>\n",
       "      <th></th>\n",
       "      <th></th>\n",
       "      <th></th>\n",
       "      <th></th>\n",
       "      <th></th>\n",
       "      <th></th>\n",
       "      <th></th>\n",
       "      <th></th>\n",
       "      <th></th>\n",
       "      <th></th>\n",
       "      <th></th>\n",
       "    </tr>\n",
       "  </thead>\n",
       "  <tbody>\n",
       "    <tr>\n",
       "      <th>1</th>\n",
       "      <td>0</td>\n",
       "      <td>3</td>\n",
       "      <td>Braund, Mr. Owen Harris</td>\n",
       "      <td>male</td>\n",
       "      <td>22.0</td>\n",
       "      <td>1</td>\n",
       "      <td>0</td>\n",
       "      <td>A/5 21171</td>\n",
       "      <td>7.2500</td>\n",
       "      <td>NaN</td>\n",
       "      <td>S</td>\n",
       "    </tr>\n",
       "    <tr>\n",
       "      <th>2</th>\n",
       "      <td>1</td>\n",
       "      <td>1</td>\n",
       "      <td>Cumings, Mrs. John Bradley (Florence Briggs Th...</td>\n",
       "      <td>female</td>\n",
       "      <td>38.0</td>\n",
       "      <td>1</td>\n",
       "      <td>0</td>\n",
       "      <td>PC 17599</td>\n",
       "      <td>71.2833</td>\n",
       "      <td>C85</td>\n",
       "      <td>C</td>\n",
       "    </tr>\n",
       "    <tr>\n",
       "      <th>3</th>\n",
       "      <td>1</td>\n",
       "      <td>3</td>\n",
       "      <td>Heikkinen, Miss. Laina</td>\n",
       "      <td>female</td>\n",
       "      <td>26.0</td>\n",
       "      <td>0</td>\n",
       "      <td>0</td>\n",
       "      <td>STON/O2. 3101282</td>\n",
       "      <td>7.9250</td>\n",
       "      <td>NaN</td>\n",
       "      <td>S</td>\n",
       "    </tr>\n",
       "    <tr>\n",
       "      <th>4</th>\n",
       "      <td>1</td>\n",
       "      <td>1</td>\n",
       "      <td>Futrelle, Mrs. Jacques Heath (Lily May Peel)</td>\n",
       "      <td>female</td>\n",
       "      <td>35.0</td>\n",
       "      <td>1</td>\n",
       "      <td>0</td>\n",
       "      <td>113803</td>\n",
       "      <td>53.1000</td>\n",
       "      <td>C123</td>\n",
       "      <td>S</td>\n",
       "    </tr>\n",
       "    <tr>\n",
       "      <th>5</th>\n",
       "      <td>0</td>\n",
       "      <td>3</td>\n",
       "      <td>Allen, Mr. William Henry</td>\n",
       "      <td>male</td>\n",
       "      <td>35.0</td>\n",
       "      <td>0</td>\n",
       "      <td>0</td>\n",
       "      <td>373450</td>\n",
       "      <td>8.0500</td>\n",
       "      <td>NaN</td>\n",
       "      <td>S</td>\n",
       "    </tr>\n",
       "    <tr>\n",
       "      <th>...</th>\n",
       "      <td>...</td>\n",
       "      <td>...</td>\n",
       "      <td>...</td>\n",
       "      <td>...</td>\n",
       "      <td>...</td>\n",
       "      <td>...</td>\n",
       "      <td>...</td>\n",
       "      <td>...</td>\n",
       "      <td>...</td>\n",
       "      <td>...</td>\n",
       "      <td>...</td>\n",
       "    </tr>\n",
       "    <tr>\n",
       "      <th>887</th>\n",
       "      <td>0</td>\n",
       "      <td>2</td>\n",
       "      <td>Montvila, Rev. Juozas</td>\n",
       "      <td>male</td>\n",
       "      <td>27.0</td>\n",
       "      <td>0</td>\n",
       "      <td>0</td>\n",
       "      <td>211536</td>\n",
       "      <td>13.0000</td>\n",
       "      <td>NaN</td>\n",
       "      <td>S</td>\n",
       "    </tr>\n",
       "    <tr>\n",
       "      <th>888</th>\n",
       "      <td>1</td>\n",
       "      <td>1</td>\n",
       "      <td>Graham, Miss. Margaret Edith</td>\n",
       "      <td>female</td>\n",
       "      <td>19.0</td>\n",
       "      <td>0</td>\n",
       "      <td>0</td>\n",
       "      <td>112053</td>\n",
       "      <td>30.0000</td>\n",
       "      <td>B42</td>\n",
       "      <td>S</td>\n",
       "    </tr>\n",
       "    <tr>\n",
       "      <th>889</th>\n",
       "      <td>0</td>\n",
       "      <td>3</td>\n",
       "      <td>Johnston, Miss. Catherine Helen \"Carrie\"</td>\n",
       "      <td>female</td>\n",
       "      <td>NaN</td>\n",
       "      <td>1</td>\n",
       "      <td>2</td>\n",
       "      <td>W./C. 6607</td>\n",
       "      <td>23.4500</td>\n",
       "      <td>NaN</td>\n",
       "      <td>S</td>\n",
       "    </tr>\n",
       "    <tr>\n",
       "      <th>890</th>\n",
       "      <td>1</td>\n",
       "      <td>1</td>\n",
       "      <td>Behr, Mr. Karl Howell</td>\n",
       "      <td>male</td>\n",
       "      <td>26.0</td>\n",
       "      <td>0</td>\n",
       "      <td>0</td>\n",
       "      <td>111369</td>\n",
       "      <td>30.0000</td>\n",
       "      <td>C148</td>\n",
       "      <td>C</td>\n",
       "    </tr>\n",
       "    <tr>\n",
       "      <th>891</th>\n",
       "      <td>0</td>\n",
       "      <td>3</td>\n",
       "      <td>Dooley, Mr. Patrick</td>\n",
       "      <td>male</td>\n",
       "      <td>32.0</td>\n",
       "      <td>0</td>\n",
       "      <td>0</td>\n",
       "      <td>370376</td>\n",
       "      <td>7.7500</td>\n",
       "      <td>NaN</td>\n",
       "      <td>Q</td>\n",
       "    </tr>\n",
       "  </tbody>\n",
       "</table>\n",
       "<p>891 rows × 11 columns</p>\n",
       "</div>"
      ]
     },
     "execution_count": 2,
     "metadata": {},
     "output_type": "execute_result"
    }
   ],
   "execution_count": 2
  },
  {
   "cell_type": "markdown",
   "id": "03a3d400-65c8-4beb-bf62-5a524eb2eacf",
   "metadata": {},
   "source": [
    "## How many passangers survived?"
   ]
  },
  {
   "cell_type": "code",
   "id": "be1dfcb0-ac1c-4271-986a-fc5c017c760d",
   "metadata": {
    "ExecuteTime": {
     "end_time": "2024-11-07T17:17:01.957219Z",
     "start_time": "2024-11-07T17:17:01.942638Z"
    }
   },
   "source": [
    "df.Survived.value_counts()"
   ],
   "outputs": [
    {
     "data": {
      "text/plain": [
       "Survived\n",
       "0    549\n",
       "1    342\n",
       "Name: count, dtype: int64"
      ]
     },
     "execution_count": 3,
     "metadata": {},
     "output_type": "execute_result"
    }
   ],
   "execution_count": 3
  },
  {
   "cell_type": "markdown",
   "id": "7f8e2c89-99da-455d-a856-ecb388c43d99",
   "metadata": {},
   "source": [
    "## We need to pre-process the data first\n",
    "- We want to use only numerical attributes as a model features\n",
    "- Certain attributes need to be dropped and some of them can be encoded\n",
    "\n",
    "### Which features would you drop and why?\n",
    "### Which features could be encoded and which methods would you use?"
   ]
  },
  {
   "cell_type": "code",
   "id": "07348831-2059-4df6-bd4b-3e8c7d7d23bf",
   "metadata": {
    "ExecuteTime": {
     "end_time": "2024-11-07T17:17:02.501032Z",
     "start_time": "2024-11-07T17:17:02.487891Z"
    }
   },
   "source": [
    "df.dtypes"
   ],
   "outputs": [
    {
     "data": {
      "text/plain": [
       "Survived      int64\n",
       "Pclass        int64\n",
       "Name         object\n",
       "Sex          object\n",
       "Age         float64\n",
       "SibSp         int64\n",
       "Parch         int64\n",
       "Ticket       object\n",
       "Fare        float64\n",
       "Cabin        object\n",
       "Embarked     object\n",
       "dtype: object"
      ]
     },
     "execution_count": 4,
     "metadata": {},
     "output_type": "execute_result"
    }
   ],
   "execution_count": 4
  },
  {
   "cell_type": "code",
   "id": "2ed1a75a-842a-4bb9-9d96-9f41e82faba9",
   "metadata": {
    "ExecuteTime": {
     "end_time": "2024-11-07T17:17:04.912767Z",
     "start_time": "2024-11-07T17:17:04.873720Z"
    }
   },
   "source": [
    "df.describe(exclude=np.number)"
   ],
   "outputs": [
    {
     "data": {
      "text/plain": [
       "                       Name   Sex  Ticket Cabin Embarked\n",
       "count                   891   891     891   204      889\n",
       "unique                  891     2     681   147        3\n",
       "top     Dooley, Mr. Patrick  male  347082    G6        S\n",
       "freq                      1   577       7     4      644"
      ],
      "text/html": [
       "<div>\n",
       "<style scoped>\n",
       "    .dataframe tbody tr th:only-of-type {\n",
       "        vertical-align: middle;\n",
       "    }\n",
       "\n",
       "    .dataframe tbody tr th {\n",
       "        vertical-align: top;\n",
       "    }\n",
       "\n",
       "    .dataframe thead th {\n",
       "        text-align: right;\n",
       "    }\n",
       "</style>\n",
       "<table border=\"1\" class=\"dataframe\">\n",
       "  <thead>\n",
       "    <tr style=\"text-align: right;\">\n",
       "      <th></th>\n",
       "      <th>Name</th>\n",
       "      <th>Sex</th>\n",
       "      <th>Ticket</th>\n",
       "      <th>Cabin</th>\n",
       "      <th>Embarked</th>\n",
       "    </tr>\n",
       "  </thead>\n",
       "  <tbody>\n",
       "    <tr>\n",
       "      <th>count</th>\n",
       "      <td>891</td>\n",
       "      <td>891</td>\n",
       "      <td>891</td>\n",
       "      <td>204</td>\n",
       "      <td>889</td>\n",
       "    </tr>\n",
       "    <tr>\n",
       "      <th>unique</th>\n",
       "      <td>891</td>\n",
       "      <td>2</td>\n",
       "      <td>681</td>\n",
       "      <td>147</td>\n",
       "      <td>3</td>\n",
       "    </tr>\n",
       "    <tr>\n",
       "      <th>top</th>\n",
       "      <td>Dooley, Mr. Patrick</td>\n",
       "      <td>male</td>\n",
       "      <td>347082</td>\n",
       "      <td>G6</td>\n",
       "      <td>S</td>\n",
       "    </tr>\n",
       "    <tr>\n",
       "      <th>freq</th>\n",
       "      <td>1</td>\n",
       "      <td>577</td>\n",
       "      <td>7</td>\n",
       "      <td>4</td>\n",
       "      <td>644</td>\n",
       "    </tr>\n",
       "  </tbody>\n",
       "</table>\n",
       "</div>"
      ]
     },
     "execution_count": 5,
     "metadata": {},
     "output_type": "execute_result"
    }
   ],
   "execution_count": 5
  },
  {
   "cell_type": "code",
   "id": "925eb694-ad0f-4c53-b524-c9f8ea3f7d39",
   "metadata": {
    "ExecuteTime": {
     "end_time": "2024-11-07T17:17:05.722303Z",
     "start_time": "2024-11-07T17:17:05.671927Z"
    }
   },
   "source": [
    "df.describe(include=np.number)"
   ],
   "outputs": [
    {
     "data": {
      "text/plain": [
       "         Survived      Pclass         Age       SibSp       Parch        Fare\n",
       "count  891.000000  891.000000  714.000000  891.000000  891.000000  891.000000\n",
       "mean     0.383838    2.308642   29.699118    0.523008    0.381594   32.204208\n",
       "std      0.486592    0.836071   14.526497    1.102743    0.806057   49.693429\n",
       "min      0.000000    1.000000    0.420000    0.000000    0.000000    0.000000\n",
       "25%      0.000000    2.000000   20.125000    0.000000    0.000000    7.910400\n",
       "50%      0.000000    3.000000   28.000000    0.000000    0.000000   14.454200\n",
       "75%      1.000000    3.000000   38.000000    1.000000    0.000000   31.000000\n",
       "max      1.000000    3.000000   80.000000    8.000000    6.000000  512.329200"
      ],
      "text/html": [
       "<div>\n",
       "<style scoped>\n",
       "    .dataframe tbody tr th:only-of-type {\n",
       "        vertical-align: middle;\n",
       "    }\n",
       "\n",
       "    .dataframe tbody tr th {\n",
       "        vertical-align: top;\n",
       "    }\n",
       "\n",
       "    .dataframe thead th {\n",
       "        text-align: right;\n",
       "    }\n",
       "</style>\n",
       "<table border=\"1\" class=\"dataframe\">\n",
       "  <thead>\n",
       "    <tr style=\"text-align: right;\">\n",
       "      <th></th>\n",
       "      <th>Survived</th>\n",
       "      <th>Pclass</th>\n",
       "      <th>Age</th>\n",
       "      <th>SibSp</th>\n",
       "      <th>Parch</th>\n",
       "      <th>Fare</th>\n",
       "    </tr>\n",
       "  </thead>\n",
       "  <tbody>\n",
       "    <tr>\n",
       "      <th>count</th>\n",
       "      <td>891.000000</td>\n",
       "      <td>891.000000</td>\n",
       "      <td>714.000000</td>\n",
       "      <td>891.000000</td>\n",
       "      <td>891.000000</td>\n",
       "      <td>891.000000</td>\n",
       "    </tr>\n",
       "    <tr>\n",
       "      <th>mean</th>\n",
       "      <td>0.383838</td>\n",
       "      <td>2.308642</td>\n",
       "      <td>29.699118</td>\n",
       "      <td>0.523008</td>\n",
       "      <td>0.381594</td>\n",
       "      <td>32.204208</td>\n",
       "    </tr>\n",
       "    <tr>\n",
       "      <th>std</th>\n",
       "      <td>0.486592</td>\n",
       "      <td>0.836071</td>\n",
       "      <td>14.526497</td>\n",
       "      <td>1.102743</td>\n",
       "      <td>0.806057</td>\n",
       "      <td>49.693429</td>\n",
       "    </tr>\n",
       "    <tr>\n",
       "      <th>min</th>\n",
       "      <td>0.000000</td>\n",
       "      <td>1.000000</td>\n",
       "      <td>0.420000</td>\n",
       "      <td>0.000000</td>\n",
       "      <td>0.000000</td>\n",
       "      <td>0.000000</td>\n",
       "    </tr>\n",
       "    <tr>\n",
       "      <th>25%</th>\n",
       "      <td>0.000000</td>\n",
       "      <td>2.000000</td>\n",
       "      <td>20.125000</td>\n",
       "      <td>0.000000</td>\n",
       "      <td>0.000000</td>\n",
       "      <td>7.910400</td>\n",
       "    </tr>\n",
       "    <tr>\n",
       "      <th>50%</th>\n",
       "      <td>0.000000</td>\n",
       "      <td>3.000000</td>\n",
       "      <td>28.000000</td>\n",
       "      <td>0.000000</td>\n",
       "      <td>0.000000</td>\n",
       "      <td>14.454200</td>\n",
       "    </tr>\n",
       "    <tr>\n",
       "      <th>75%</th>\n",
       "      <td>1.000000</td>\n",
       "      <td>3.000000</td>\n",
       "      <td>38.000000</td>\n",
       "      <td>1.000000</td>\n",
       "      <td>0.000000</td>\n",
       "      <td>31.000000</td>\n",
       "    </tr>\n",
       "    <tr>\n",
       "      <th>max</th>\n",
       "      <td>1.000000</td>\n",
       "      <td>3.000000</td>\n",
       "      <td>80.000000</td>\n",
       "      <td>8.000000</td>\n",
       "      <td>6.000000</td>\n",
       "      <td>512.329200</td>\n",
       "    </tr>\n",
       "  </tbody>\n",
       "</table>\n",
       "</div>"
      ]
     },
     "execution_count": 6,
     "metadata": {},
     "output_type": "execute_result"
    }
   ],
   "execution_count": 6
  },
  {
   "cell_type": "markdown",
   "id": "1052ca31-34be-4775-b0d3-15c38e0b0593",
   "metadata": {},
   "source": [
    "## How many values are missing in the individual attributes?"
   ]
  },
  {
   "cell_type": "code",
   "id": "0ab4330d-7b20-4497-bb0c-03e86587c276",
   "metadata": {
    "ExecuteTime": {
     "end_time": "2024-11-07T17:17:06.882587Z",
     "start_time": "2024-11-07T17:17:06.871841Z"
    }
   },
   "source": [
    "df.isna().sum().sort_values(ascending=False)"
   ],
   "outputs": [
    {
     "data": {
      "text/plain": [
       "Cabin       687\n",
       "Age         177\n",
       "Embarked      2\n",
       "Name          0\n",
       "Pclass        0\n",
       "Survived      0\n",
       "Sex           0\n",
       "Parch         0\n",
       "SibSp         0\n",
       "Fare          0\n",
       "Ticket        0\n",
       "dtype: int64"
      ]
     },
     "execution_count": 7,
     "metadata": {},
     "output_type": "execute_result"
    }
   ],
   "execution_count": 7
  },
  {
   "cell_type": "markdown",
   "id": "14d2f054-6572-4aa5-a3b5-3c9a24ed11e7",
   "metadata": {},
   "source": [
    "## Let's drop Name and Ticket features - these have no use for us now"
   ]
  },
  {
   "cell_type": "code",
   "id": "8816c0bb-03c7-4b3b-be9b-af574c19728d",
   "metadata": {
    "ExecuteTime": {
     "end_time": "2024-11-07T17:17:07.495870Z",
     "start_time": "2024-11-07T17:17:07.461844Z"
    }
   },
   "source": [
    "df = df.drop(['Name', 'Ticket'], axis=1)\n",
    "df"
   ],
   "outputs": [
    {
     "data": {
      "text/plain": [
       "             Survived  Pclass     Sex   Age  SibSp  Parch     Fare Cabin  \\\n",
       "PassengerId                                                                \n",
       "1                   0       3    male  22.0      1      0   7.2500   NaN   \n",
       "2                   1       1  female  38.0      1      0  71.2833   C85   \n",
       "3                   1       3  female  26.0      0      0   7.9250   NaN   \n",
       "4                   1       1  female  35.0      1      0  53.1000  C123   \n",
       "5                   0       3    male  35.0      0      0   8.0500   NaN   \n",
       "...               ...     ...     ...   ...    ...    ...      ...   ...   \n",
       "887                 0       2    male  27.0      0      0  13.0000   NaN   \n",
       "888                 1       1  female  19.0      0      0  30.0000   B42   \n",
       "889                 0       3  female   NaN      1      2  23.4500   NaN   \n",
       "890                 1       1    male  26.0      0      0  30.0000  C148   \n",
       "891                 0       3    male  32.0      0      0   7.7500   NaN   \n",
       "\n",
       "            Embarked  \n",
       "PassengerId           \n",
       "1                  S  \n",
       "2                  C  \n",
       "3                  S  \n",
       "4                  S  \n",
       "5                  S  \n",
       "...              ...  \n",
       "887                S  \n",
       "888                S  \n",
       "889                S  \n",
       "890                C  \n",
       "891                Q  \n",
       "\n",
       "[891 rows x 9 columns]"
      ],
      "text/html": [
       "<div>\n",
       "<style scoped>\n",
       "    .dataframe tbody tr th:only-of-type {\n",
       "        vertical-align: middle;\n",
       "    }\n",
       "\n",
       "    .dataframe tbody tr th {\n",
       "        vertical-align: top;\n",
       "    }\n",
       "\n",
       "    .dataframe thead th {\n",
       "        text-align: right;\n",
       "    }\n",
       "</style>\n",
       "<table border=\"1\" class=\"dataframe\">\n",
       "  <thead>\n",
       "    <tr style=\"text-align: right;\">\n",
       "      <th></th>\n",
       "      <th>Survived</th>\n",
       "      <th>Pclass</th>\n",
       "      <th>Sex</th>\n",
       "      <th>Age</th>\n",
       "      <th>SibSp</th>\n",
       "      <th>Parch</th>\n",
       "      <th>Fare</th>\n",
       "      <th>Cabin</th>\n",
       "      <th>Embarked</th>\n",
       "    </tr>\n",
       "    <tr>\n",
       "      <th>PassengerId</th>\n",
       "      <th></th>\n",
       "      <th></th>\n",
       "      <th></th>\n",
       "      <th></th>\n",
       "      <th></th>\n",
       "      <th></th>\n",
       "      <th></th>\n",
       "      <th></th>\n",
       "      <th></th>\n",
       "    </tr>\n",
       "  </thead>\n",
       "  <tbody>\n",
       "    <tr>\n",
       "      <th>1</th>\n",
       "      <td>0</td>\n",
       "      <td>3</td>\n",
       "      <td>male</td>\n",
       "      <td>22.0</td>\n",
       "      <td>1</td>\n",
       "      <td>0</td>\n",
       "      <td>7.2500</td>\n",
       "      <td>NaN</td>\n",
       "      <td>S</td>\n",
       "    </tr>\n",
       "    <tr>\n",
       "      <th>2</th>\n",
       "      <td>1</td>\n",
       "      <td>1</td>\n",
       "      <td>female</td>\n",
       "      <td>38.0</td>\n",
       "      <td>1</td>\n",
       "      <td>0</td>\n",
       "      <td>71.2833</td>\n",
       "      <td>C85</td>\n",
       "      <td>C</td>\n",
       "    </tr>\n",
       "    <tr>\n",
       "      <th>3</th>\n",
       "      <td>1</td>\n",
       "      <td>3</td>\n",
       "      <td>female</td>\n",
       "      <td>26.0</td>\n",
       "      <td>0</td>\n",
       "      <td>0</td>\n",
       "      <td>7.9250</td>\n",
       "      <td>NaN</td>\n",
       "      <td>S</td>\n",
       "    </tr>\n",
       "    <tr>\n",
       "      <th>4</th>\n",
       "      <td>1</td>\n",
       "      <td>1</td>\n",
       "      <td>female</td>\n",
       "      <td>35.0</td>\n",
       "      <td>1</td>\n",
       "      <td>0</td>\n",
       "      <td>53.1000</td>\n",
       "      <td>C123</td>\n",
       "      <td>S</td>\n",
       "    </tr>\n",
       "    <tr>\n",
       "      <th>5</th>\n",
       "      <td>0</td>\n",
       "      <td>3</td>\n",
       "      <td>male</td>\n",
       "      <td>35.0</td>\n",
       "      <td>0</td>\n",
       "      <td>0</td>\n",
       "      <td>8.0500</td>\n",
       "      <td>NaN</td>\n",
       "      <td>S</td>\n",
       "    </tr>\n",
       "    <tr>\n",
       "      <th>...</th>\n",
       "      <td>...</td>\n",
       "      <td>...</td>\n",
       "      <td>...</td>\n",
       "      <td>...</td>\n",
       "      <td>...</td>\n",
       "      <td>...</td>\n",
       "      <td>...</td>\n",
       "      <td>...</td>\n",
       "      <td>...</td>\n",
       "    </tr>\n",
       "    <tr>\n",
       "      <th>887</th>\n",
       "      <td>0</td>\n",
       "      <td>2</td>\n",
       "      <td>male</td>\n",
       "      <td>27.0</td>\n",
       "      <td>0</td>\n",
       "      <td>0</td>\n",
       "      <td>13.0000</td>\n",
       "      <td>NaN</td>\n",
       "      <td>S</td>\n",
       "    </tr>\n",
       "    <tr>\n",
       "      <th>888</th>\n",
       "      <td>1</td>\n",
       "      <td>1</td>\n",
       "      <td>female</td>\n",
       "      <td>19.0</td>\n",
       "      <td>0</td>\n",
       "      <td>0</td>\n",
       "      <td>30.0000</td>\n",
       "      <td>B42</td>\n",
       "      <td>S</td>\n",
       "    </tr>\n",
       "    <tr>\n",
       "      <th>889</th>\n",
       "      <td>0</td>\n",
       "      <td>3</td>\n",
       "      <td>female</td>\n",
       "      <td>NaN</td>\n",
       "      <td>1</td>\n",
       "      <td>2</td>\n",
       "      <td>23.4500</td>\n",
       "      <td>NaN</td>\n",
       "      <td>S</td>\n",
       "    </tr>\n",
       "    <tr>\n",
       "      <th>890</th>\n",
       "      <td>1</td>\n",
       "      <td>1</td>\n",
       "      <td>male</td>\n",
       "      <td>26.0</td>\n",
       "      <td>0</td>\n",
       "      <td>0</td>\n",
       "      <td>30.0000</td>\n",
       "      <td>C148</td>\n",
       "      <td>C</td>\n",
       "    </tr>\n",
       "    <tr>\n",
       "      <th>891</th>\n",
       "      <td>0</td>\n",
       "      <td>3</td>\n",
       "      <td>male</td>\n",
       "      <td>32.0</td>\n",
       "      <td>0</td>\n",
       "      <td>0</td>\n",
       "      <td>7.7500</td>\n",
       "      <td>NaN</td>\n",
       "      <td>Q</td>\n",
       "    </tr>\n",
       "  </tbody>\n",
       "</table>\n",
       "<p>891 rows × 9 columns</p>\n",
       "</div>"
      ]
     },
     "execution_count": 8,
     "metadata": {},
     "output_type": "execute_result"
    }
   ],
   "execution_count": 8
  },
  {
   "cell_type": "markdown",
   "id": "63b1214c-278f-4fa6-8259-989ce7192b66",
   "metadata": {},
   "source": [
    "## Extract the deck identifier from the Cabin feature\n",
    "- Note: A = top deck, G = lowest deck\n",
    "- Change type to string\n",
    "- Filter the first letter using *apply* function\n",
    "- If the value is *nan* use *U* value as an replacement - this will mark the passangers with missing Cabin value\n",
    "- Replace the T value with A"
   ]
  },
  {
   "cell_type": "code",
   "id": "715f6d85-aee5-4649-ba4b-dbff92c97a8a",
   "metadata": {
    "ExecuteTime": {
     "end_time": "2024-11-07T17:17:08.326410Z",
     "start_time": "2024-11-07T17:17:08.315633Z"
    }
   },
   "source": [
    "df.Cabin = df.Cabin.astype(str).apply(lambda x: x[0] if x != 'nan' else 'U').replace({'T': 'A'})"
   ],
   "outputs": [],
   "execution_count": 9
  },
  {
   "cell_type": "code",
   "id": "a06e72ef-5465-4660-9f2f-78d449e1ac48",
   "metadata": {
    "ExecuteTime": {
     "end_time": "2024-11-07T17:17:09.136954Z",
     "start_time": "2024-11-07T17:17:09.128477Z"
    }
   },
   "source": [
    "df.Cabin.value_counts()"
   ],
   "outputs": [
    {
     "data": {
      "text/plain": [
       "Cabin\n",
       "U    687\n",
       "C     59\n",
       "B     47\n",
       "D     33\n",
       "E     32\n",
       "A     16\n",
       "F     13\n",
       "G      4\n",
       "Name: count, dtype: int64"
      ]
     },
     "execution_count": 10,
     "metadata": {},
     "output_type": "execute_result"
    }
   ],
   "execution_count": 10
  },
  {
   "cell_type": "markdown",
   "id": "074d8231-19b8-470d-a3a0-31efc63ad0fc",
   "metadata": {},
   "source": [
    "## The Age feature is tricky, we have multiple solutions for this, e.g.:\n",
    "- Drop the feature\n",
    "- Take the mean/median value to replace the missing value\n",
    "- Take a random list of ages that maintains the original statistical summary values.\n",
    "- Use a model to predict values based on the existing values.\n",
    "\n",
    "### We will use the second option"
   ]
  },
  {
   "cell_type": "code",
   "id": "0042d5ec-7134-4019-b5fb-82847b3e8818",
   "metadata": {
    "ExecuteTime": {
     "end_time": "2024-11-07T17:17:10.294131Z",
     "start_time": "2024-11-07T17:17:09.914916Z"
    }
   },
   "source": [
    "sns.boxplot(y=df.Age)"
   ],
   "outputs": [
    {
     "data": {
      "text/plain": [
       "<Axes: ylabel='Age'>"
      ]
     },
     "execution_count": 11,
     "metadata": {},
     "output_type": "execute_result"
    },
    {
     "data": {
      "text/plain": [
       "<Figure size 640x480 with 1 Axes>"
      ],
      "image/png": "[encoded data removed]"
     },
     "metadata": {},
     "output_type": "display_data"
    }
   ],
   "execution_count": 11
  },
  {
   "cell_type": "code",
   "id": "f5992687-87c1-476b-b674-0e4767e8f1e6",
   "metadata": {
    "ExecuteTime": {
     "end_time": "2024-11-07T17:17:10.965502Z",
     "start_time": "2024-11-07T17:17:10.957957Z"
    }
   },
   "source": [
    "df.Age = df.Age.fillna(df.Age.mean())"
   ],
   "outputs": [],
   "execution_count": 12
  },
  {
   "cell_type": "code",
   "id": "f6cd2688-f10e-4cfe-a38f-16dd6f462170",
   "metadata": {
    "ExecuteTime": {
     "end_time": "2024-11-07T17:17:11.800167Z",
     "start_time": "2024-11-07T17:17:11.540071Z"
    }
   },
   "source": [
    "sns.boxplot(y=df.Age)"
   ],
   "outputs": [
    {
     "data": {
      "text/plain": [
       "<Axes: ylabel='Age'>"
      ]
     },
     "execution_count": 13,
     "metadata": {},
     "output_type": "execute_result"
    },
    {
     "data": {
      "text/plain": [
       "<Figure size 640x480 with 1 Axes>"
      ],
      "image/png": "[encoded data removed]"
     },
     "metadata": {},
     "output_type": "display_data"
    }
   ],
   "execution_count": 13
  },
  {
   "cell_type": "markdown",
   "id": "f8d69cd4-dfe3-4e37-9997-8fe135fa12dc",
   "metadata": {},
   "source": [
    "## Two passangers don't have the Embarked filled - we can drop these two rows"
   ]
  },
  {
   "cell_type": "code",
   "id": "efb68d26-598e-4e2d-b782-63b6c38a70e6",
   "metadata": {
    "ExecuteTime": {
     "end_time": "2024-11-07T17:17:12.337928Z",
     "start_time": "2024-11-07T17:17:12.327889Z"
    }
   },
   "source": [
    "df = df.dropna().copy()"
   ],
   "outputs": [],
   "execution_count": 14
  },
  {
   "cell_type": "code",
   "id": "c5a377bb-ad92-4952-bff0-642e9f68efe7",
   "metadata": {
    "ExecuteTime": {
     "end_time": "2024-11-07T17:17:12.892367Z",
     "start_time": "2024-11-07T17:17:12.864870Z"
    }
   },
   "source": [
    "df"
   ],
   "outputs": [
    {
     "data": {
      "text/plain": [
       "             Survived  Pclass     Sex        Age  SibSp  Parch     Fare Cabin  \\\n",
       "PassengerId                                                                     \n",
       "1                   0       3    male  22.000000      1      0   7.2500     U   \n",
       "2                   1       1  female  38.000000      1      0  71.2833     C   \n",
       "3                   1       3  female  26.000000      0      0   7.9250     U   \n",
       "4                   1       1  female  35.000000      1      0  53.1000     C   \n",
       "5                   0       3    male  35.000000      0      0   8.0500     U   \n",
       "...               ...     ...     ...        ...    ...    ...      ...   ...   \n",
       "887                 0       2    male  27.000000      0      0  13.0000     U   \n",
       "888                 1       1  female  19.000000      0      0  30.0000     B   \n",
       "889                 0       3  female  29.699118      1      2  23.4500     U   \n",
       "890                 1       1    male  26.000000      0      0  30.0000     C   \n",
       "891                 0       3    male  32.000000      0      0   7.7500     U   \n",
       "\n",
       "            Embarked  \n",
       "PassengerId           \n",
       "1                  S  \n",
       "2                  C  \n",
       "3                  S  \n",
       "4                  S  \n",
       "5                  S  \n",
       "...              ...  \n",
       "887                S  \n",
       "888                S  \n",
       "889                S  \n",
       "890                C  \n",
       "891                Q  \n",
       "\n",
       "[889 rows x 9 columns]"
      ],
      "text/html": [
       "<div>\n",
       "<style scoped>\n",
       "    .dataframe tbody tr th:only-of-type {\n",
       "        vertical-align: middle;\n",
       "    }\n",
       "\n",
       "    .dataframe tbody tr th {\n",
       "        vertical-align: top;\n",
       "    }\n",
       "\n",
       "    .dataframe thead th {\n",
       "        text-align: right;\n",
       "    }\n",
       "</style>\n",
       "<table border=\"1\" class=\"dataframe\">\n",
       "  <thead>\n",
       "    <tr style=\"text-align: right;\">\n",
       "      <th></th>\n",
       "      <th>Survived</th>\n",
       "      <th>Pclass</th>\n",
       "      <th>Sex</th>\n",
       "      <th>Age</th>\n",
       "      <th>SibSp</th>\n",
       "      <th>Parch</th>\n",
       "      <th>Fare</th>\n",
       "      <th>Cabin</th>\n",
       "      <th>Embarked</th>\n",
       "    </tr>\n",
       "    <tr>\n",
       "      <th>PassengerId</th>\n",
       "      <th></th>\n",
       "      <th></th>\n",
       "      <th></th>\n",
       "      <th></th>\n",
       "      <th></th>\n",
       "      <th></th>\n",
       "      <th></th>\n",
       "      <th></th>\n",
       "      <th></th>\n",
       "    </tr>\n",
       "  </thead>\n",
       "  <tbody>\n",
       "    <tr>\n",
       "      <th>1</th>\n",
       "      <td>0</td>\n",
       "      <td>3</td>\n",
       "      <td>male</td>\n",
       "      <td>22.000000</td>\n",
       "      <td>1</td>\n",
       "      <td>0</td>\n",
       "      <td>7.2500</td>\n",
       "      <td>U</td>\n",
       "      <td>S</td>\n",
       "    </tr>\n",
       "    <tr>\n",
       "      <th>2</th>\n",
       "      <td>1</td>\n",
       "      <td>1</td>\n",
       "      <td>female</td>\n",
       "      <td>38.000000</td>\n",
       "      <td>1</td>\n",
       "      <td>0</td>\n",
       "      <td>71.2833</td>\n",
       "      <td>C</td>\n",
       "      <td>C</td>\n",
       "    </tr>\n",
       "    <tr>\n",
       "      <th>3</th>\n",
       "      <td>1</td>\n",
       "      <td>3</td>\n",
       "      <td>female</td>\n",
       "      <td>26.000000</td>\n",
       "      <td>0</td>\n",
       "      <td>0</td>\n",
       "      <td>7.9250</td>\n",
       "      <td>U</td>\n",
       "      <td>S</td>\n",
       "    </tr>\n",
       "    <tr>\n",
       "      <th>4</th>\n",
       "      <td>1</td>\n",
       "      <td>1</td>\n",
       "      <td>female</td>\n",
       "      <td>35.000000</td>\n",
       "      <td>1</td>\n",
       "      <td>0</td>\n",
       "      <td>53.1000</td>\n",
       "      <td>C</td>\n",
       "      <td>S</td>\n",
       "    </tr>\n",
       "    <tr>\n",
       "      <th>5</th>\n",
       "      <td>0</td>\n",
       "      <td>3</td>\n",
       "      <td>male</td>\n",
       "      <td>35.000000</td>\n",
       "      <td>0</td>\n",
       "      <td>0</td>\n",
       "      <td>8.0500</td>\n",
       "      <td>U</td>\n",
       "      <td>S</td>\n",
       "    </tr>\n",
       "    <tr>\n",
       "      <th>...</th>\n",
       "      <td>...</td>\n",
       "      <td>...</td>\n",
       "      <td>...</td>\n",
       "      <td>...</td>\n",
       "      <td>...</td>\n",
       "      <td>...</td>\n",
       "      <td>...</td>\n",
       "      <td>...</td>\n",
       "      <td>...</td>\n",
       "    </tr>\n",
       "    <tr>\n",
       "      <th>887</th>\n",
       "      <td>0</td>\n",
       "      <td>2</td>\n",
       "      <td>male</td>\n",
       "      <td>27.000000</td>\n",
       "      <td>0</td>\n",
       "      <td>0</td>\n",
       "      <td>13.0000</td>\n",
       "      <td>U</td>\n",
       "      <td>S</td>\n",
       "    </tr>\n",
       "    <tr>\n",
       "      <th>888</th>\n",
       "      <td>1</td>\n",
       "      <td>1</td>\n",
       "      <td>female</td>\n",
       "      <td>19.000000</td>\n",
       "      <td>0</td>\n",
       "      <td>0</td>\n",
       "      <td>30.0000</td>\n",
       "      <td>B</td>\n",
       "      <td>S</td>\n",
       "    </tr>\n",
       "    <tr>\n",
       "      <th>889</th>\n",
       "      <td>0</td>\n",
       "      <td>3</td>\n",
       "      <td>female</td>\n",
       "      <td>29.699118</td>\n",
       "      <td>1</td>\n",
       "      <td>2</td>\n",
       "      <td>23.4500</td>\n",
       "      <td>U</td>\n",
       "      <td>S</td>\n",
       "    </tr>\n",
       "    <tr>\n",
       "      <th>890</th>\n",
       "      <td>1</td>\n",
       "      <td>1</td>\n",
       "      <td>male</td>\n",
       "      <td>26.000000</td>\n",
       "      <td>0</td>\n",
       "      <td>0</td>\n",
       "      <td>30.0000</td>\n",
       "      <td>C</td>\n",
       "      <td>C</td>\n",
       "    </tr>\n",
       "    <tr>\n",
       "      <th>891</th>\n",
       "      <td>0</td>\n",
       "      <td>3</td>\n",
       "      <td>male</td>\n",
       "      <td>32.000000</td>\n",
       "      <td>0</td>\n",
       "      <td>0</td>\n",
       "      <td>7.7500</td>\n",
       "      <td>U</td>\n",
       "      <td>Q</td>\n",
       "    </tr>\n",
       "  </tbody>\n",
       "</table>\n",
       "<p>889 rows × 9 columns</p>\n",
       "</div>"
      ]
     },
     "execution_count": 15,
     "metadata": {},
     "output_type": "execute_result"
    }
   ],
   "execution_count": 15
  },
  {
   "cell_type": "markdown",
   "id": "0b71aa04-f392-4bbe-a2c3-9acd871665f5",
   "metadata": {
    "tags": []
   },
   "source": [
    "## The last step of the pre-processing pipeline is to encode Sex, Cabin and Embarked features\n",
    "- We will use one-hot encoding for Sex and Embarked and Ordinal encoding for Cabin\n",
    "- Specify the encoding scheme for the ordinal encoding using an array in a form ['first', 'second', 'third', ...]"
   ]
  },
  {
   "cell_type": "code",
   "id": "46e4dcea-3112-4988-ba71-90cd87c1248d",
   "metadata": {
    "ExecuteTime": {
     "end_time": "2024-11-07T17:17:13.340101Z",
     "start_time": "2024-11-07T17:17:13.321621Z"
    }
   },
   "source": [
    "cabin_categories = ['A', 'B', 'C', 'D', 'E', 'F', 'G', 'U']\n",
    "enc_cabin = OrdinalEncoder(categories=[cabin_categories])\n",
    "enc_cabin.fit_transform(df[['Cabin']])[:, 0]"
   ],
   "outputs": [
    {
     "data": {
      "text/plain": [
       "array([7., 2., 7., 2., 7., 7., 4., 7., 7., 7., 6., 2., 7., 7., 7., 7., 7.,\n",
       "       7., 7., 7., 7., 3., 7., 0., 7., 7., 7., 2., 7., 7., 7., 1., 7., 7.,\n",
       "       7., 7., 7., 7., 7., 7., 7., 7., 7., 7., 7., 7., 7., 7., 7., 7., 7.,\n",
       "       7., 3., 7., 1., 2., 7., 7., 7., 7., 7., 2., 7., 7., 7., 5., 7., 7.,\n",
       "       7., 7., 7., 7., 7., 7., 5., 7., 7., 7., 7., 7., 7., 7., 7., 7., 7.,\n",
       "       7., 7., 2., 7., 7., 7., 4., 7., 7., 7., 0., 3., 7., 7., 7., 7., 3.,\n",
       "       7., 7., 7., 7., 7., 7., 7., 2., 7., 7., 7., 7., 7., 7., 7., 1., 7.,\n",
       "       7., 7., 7., 4., 3., 7., 7., 7., 5., 7., 7., 7., 7., 7., 7., 7., 3.,\n",
       "       2., 7., 1., 7., 7., 7., 7., 7., 7., 7., 7., 5., 7., 7., 2., 7., 7.,\n",
       "       7., 7., 7., 7., 7., 7., 7., 7., 7., 7., 7., 7., 4., 7., 7., 7., 1.,\n",
       "       7., 7., 7., 0., 7., 7., 2., 7., 7., 7., 7., 7., 5., 7., 0., 7., 7.,\n",
       "       7., 7., 7., 7., 7., 5., 1., 1., 7., 7., 7., 7., 7., 7., 7., 7., 7.,\n",
       "       6., 7., 7., 7., 0., 7., 7., 7., 7., 7., 3., 7., 7., 3., 7., 7., 7.,\n",
       "       7., 7., 2., 7., 7., 7., 7., 7., 2., 7., 7., 7., 7., 7., 7., 7., 7.,\n",
       "       7., 7., 7., 7., 7., 7., 2., 7., 7., 3., 7., 7., 6., 2., 7., 7., 7.,\n",
       "       7., 1., 7., 7., 7., 7., 4., 1., 7., 7., 7., 7., 2., 2., 7., 7., 7.,\n",
       "       2., 7., 3., 7., 7., 7., 7., 7., 7., 7., 7., 0., 7., 7., 7., 7., 7.,\n",
       "       7., 1., 3., 7., 7., 7., 7., 2., 2., 1., 7., 7., 7., 4., 7., 2., 7.,\n",
       "       2., 7., 4., 2., 1., 7., 7., 7., 7., 7., 7., 2., 4., 7., 7., 7., 7.,\n",
       "       7., 2., 7., 3., 7., 1., 7., 2., 2., 7., 7., 7., 2., 4., 7., 0., 5.,\n",
       "       2., 7., 7., 7., 5., 7., 7., 7., 7., 7., 2., 7., 7., 7., 7., 4., 7.,\n",
       "       7., 7., 7., 7., 7., 7., 7., 7., 3., 7., 7., 1., 4., 7., 7., 7., 7.,\n",
       "       7., 7., 2., 7., 7., 7., 7., 7., 7., 7., 7., 7., 7., 7., 7., 1., 7.,\n",
       "       7., 3., 6., 7., 7., 7., 7., 7., 7., 7., 7., 7., 7., 7., 7., 7., 7.,\n",
       "       7., 7., 7., 2., 7., 7., 7., 7., 7., 7., 7., 7., 7., 7., 7., 7., 7.,\n",
       "       7., 7., 7., 4., 2., 7., 7., 7., 4., 1., 7., 7., 2., 7., 7., 7., 7.,\n",
       "       7., 7., 0., 7., 7., 7., 2., 7., 7., 2., 2., 7., 7., 4., 3., 7., 7.,\n",
       "       4., 7., 4., 7., 7., 7., 7., 7., 7., 7., 7., 7., 7., 3., 7., 0., 7.,\n",
       "       7., 7., 7., 7., 7., 7., 7., 1., 7., 2., 1., 7., 7., 7., 7., 2., 7.,\n",
       "       7., 7., 3., 7., 2., 7., 7., 7., 7., 7., 1., 2., 7., 7., 7., 7., 7.,\n",
       "       7., 4., 7., 7., 3., 5., 7., 7., 7., 1., 7., 7., 1., 7., 7., 7., 2.,\n",
       "       7., 7., 7., 7., 7., 7., 7., 7., 1., 7., 7., 1., 1., 7., 7., 7., 2.,\n",
       "       7., 7., 7., 7., 7., 2., 7., 7., 7., 7., 7., 0., 7., 4., 7., 7., 7.,\n",
       "       7., 7., 7., 7., 7., 7., 7., 7., 7., 2., 4., 7., 7., 7., 7., 4., 7.,\n",
       "       7., 7., 2., 7., 0., 7., 4., 7., 1., 7., 7., 7., 3., 7., 7., 7., 7.,\n",
       "       7., 7., 7., 0., 7., 7., 7., 7., 7., 7., 7., 7., 7., 2., 7., 7., 7.,\n",
       "       7., 7., 7., 7., 7., 5., 7., 7., 3., 7., 7., 7., 3., 7., 3., 7., 7.,\n",
       "       0., 7., 1., 7., 7., 7., 7., 7., 7., 7., 7., 1., 7., 7., 7., 3., 7.,\n",
       "       0., 7., 7., 7., 7., 7., 7., 7., 7., 7., 7., 7., 3., 7., 7., 4., 7.,\n",
       "       7., 7., 7., 7., 7., 2., 7., 1., 7., 7., 7., 7., 7., 7., 7., 1., 7.,\n",
       "       3., 7., 7., 7., 7., 7., 7., 7., 1., 1., 7., 7., 7., 7., 7., 7., 7.,\n",
       "       2., 5., 2., 4., 7., 7., 7., 7., 7., 4., 7., 7., 2., 2., 2., 7., 7.,\n",
       "       5., 2., 4., 7., 7., 7., 7., 7., 7., 4., 7., 7., 7., 7., 7., 1., 7.,\n",
       "       7., 7., 7., 7., 7., 1., 7., 7., 3., 2., 1., 7., 7., 1., 7., 7., 3.,\n",
       "       7., 7., 4., 7., 7., 7., 7., 7., 7., 7., 1., 7., 7., 7., 1., 7., 3.,\n",
       "       7., 7., 7., 7., 7., 7., 4., 7., 7., 7., 5., 7., 7., 1., 7., 1., 3.,\n",
       "       7., 7., 7., 7., 7., 7., 1., 7., 7., 7., 7., 7., 7., 3., 7., 7., 7.,\n",
       "       7., 7., 1., 7., 7., 7., 0., 7., 7., 4., 7., 7., 7., 7., 7., 1., 7.,\n",
       "       7., 7., 7., 1., 7., 7., 4., 7., 7., 7., 7., 7., 7., 7., 7., 7., 7.,\n",
       "       4., 7., 7., 7., 2., 7., 7., 7., 7., 7., 7., 7., 7., 7., 2., 7., 7.,\n",
       "       7., 3., 7., 7., 7., 4., 7., 7., 7., 7., 3., 7., 7., 7., 7., 0., 7.,\n",
       "       7., 7., 3., 1., 7., 7., 7., 7., 7., 7., 2., 7., 7., 7., 7., 7., 7.,\n",
       "       7., 1., 7., 2., 7.])"
      ]
     },
     "execution_count": 16,
     "metadata": {},
     "output_type": "execute_result"
    }
   ],
   "execution_count": 16
  },
  {
   "cell_type": "code",
   "id": "aec43f04-0b47-4ef5-8a63-b1e2c0a3f632",
   "metadata": {
    "ExecuteTime": {
     "end_time": "2024-11-07T17:17:13.710834Z",
     "start_time": "2024-11-07T17:17:13.699619Z"
    }
   },
   "source": [
    "df['Cabin'] = enc_cabin.fit_transform(df[['Cabin']])[:, 0]"
   ],
   "outputs": [],
   "execution_count": 17
  },
  {
   "cell_type": "code",
   "id": "107cd80d-6c2c-4f8e-8e52-640314633c95",
   "metadata": {
    "ExecuteTime": {
     "end_time": "2024-11-07T17:17:14.178404Z",
     "start_time": "2024-11-07T17:17:14.161999Z"
    }
   },
   "source": [
    "sex_categories = ['male', 'female']\n",
    "enc_sex = OrdinalEncoder(categories=[sex_categories])\n",
    "df['Sex'] = enc_sex.fit_transform(df[['Sex']])[:, 0]"
   ],
   "outputs": [],
   "execution_count": 18
  },
  {
   "cell_type": "code",
   "id": "b78e22af-b485-4721-b886-1b03eeca28bb",
   "metadata": {
    "ExecuteTime": {
     "end_time": "2024-11-07T17:17:14.364786Z",
     "start_time": "2024-11-07T17:17:14.340933Z"
    }
   },
   "source": [
    "df.head()"
   ],
   "outputs": [
    {
     "data": {
      "text/plain": [
       "             Survived  Pclass  Sex   Age  SibSp  Parch     Fare  Cabin  \\\n",
       "PassengerId                                                              \n",
       "1                   0       3  0.0  22.0      1      0   7.2500    7.0   \n",
       "2                   1       1  1.0  38.0      1      0  71.2833    2.0   \n",
       "3                   1       3  1.0  26.0      0      0   7.9250    7.0   \n",
       "4                   1       1  1.0  35.0      1      0  53.1000    2.0   \n",
       "5                   0       3  0.0  35.0      0      0   8.0500    7.0   \n",
       "\n",
       "            Embarked  \n",
       "PassengerId           \n",
       "1                  S  \n",
       "2                  C  \n",
       "3                  S  \n",
       "4                  S  \n",
       "5                  S  "
      ],
      "text/html": [
       "<div>\n",
       "<style scoped>\n",
       "    .dataframe tbody tr th:only-of-type {\n",
       "        vertical-align: middle;\n",
       "    }\n",
       "\n",
       "    .dataframe tbody tr th {\n",
       "        vertical-align: top;\n",
       "    }\n",
       "\n",
       "    .dataframe thead th {\n",
       "        text-align: right;\n",
       "    }\n",
       "</style>\n",
       "<table border=\"1\" class=\"dataframe\">\n",
       "  <thead>\n",
       "    <tr style=\"text-align: right;\">\n",
       "      <th></th>\n",
       "      <th>Survived</th>\n",
       "      <th>Pclass</th>\n",
       "      <th>Sex</th>\n",
       "      <th>Age</th>\n",
       "      <th>SibSp</th>\n",
       "      <th>Parch</th>\n",
       "      <th>Fare</th>\n",
       "      <th>Cabin</th>\n",
       "      <th>Embarked</th>\n",
       "    </tr>\n",
       "    <tr>\n",
       "      <th>PassengerId</th>\n",
       "      <th></th>\n",
       "      <th></th>\n",
       "      <th></th>\n",
       "      <th></th>\n",
       "      <th></th>\n",
       "      <th></th>\n",
       "      <th></th>\n",
       "      <th></th>\n",
       "      <th></th>\n",
       "    </tr>\n",
       "  </thead>\n",
       "  <tbody>\n",
       "    <tr>\n",
       "      <th>1</th>\n",
       "      <td>0</td>\n",
       "      <td>3</td>\n",
       "      <td>0.0</td>\n",
       "      <td>22.0</td>\n",
       "      <td>1</td>\n",
       "      <td>0</td>\n",
       "      <td>7.2500</td>\n",
       "      <td>7.0</td>\n",
       "      <td>S</td>\n",
       "    </tr>\n",
       "    <tr>\n",
       "      <th>2</th>\n",
       "      <td>1</td>\n",
       "      <td>1</td>\n",
       "      <td>1.0</td>\n",
       "      <td>38.0</td>\n",
       "      <td>1</td>\n",
       "      <td>0</td>\n",
       "      <td>71.2833</td>\n",
       "      <td>2.0</td>\n",
       "      <td>C</td>\n",
       "    </tr>\n",
       "    <tr>\n",
       "      <th>3</th>\n",
       "      <td>1</td>\n",
       "      <td>3</td>\n",
       "      <td>1.0</td>\n",
       "      <td>26.0</td>\n",
       "      <td>0</td>\n",
       "      <td>0</td>\n",
       "      <td>7.9250</td>\n",
       "      <td>7.0</td>\n",
       "      <td>S</td>\n",
       "    </tr>\n",
       "    <tr>\n",
       "      <th>4</th>\n",
       "      <td>1</td>\n",
       "      <td>1</td>\n",
       "      <td>1.0</td>\n",
       "      <td>35.0</td>\n",
       "      <td>1</td>\n",
       "      <td>0</td>\n",
       "      <td>53.1000</td>\n",
       "      <td>2.0</td>\n",
       "      <td>S</td>\n",
       "    </tr>\n",
       "    <tr>\n",
       "      <th>5</th>\n",
       "      <td>0</td>\n",
       "      <td>3</td>\n",
       "      <td>0.0</td>\n",
       "      <td>35.0</td>\n",
       "      <td>0</td>\n",
       "      <td>0</td>\n",
       "      <td>8.0500</td>\n",
       "      <td>7.0</td>\n",
       "      <td>S</td>\n",
       "    </tr>\n",
       "  </tbody>\n",
       "</table>\n",
       "</div>"
      ]
     },
     "execution_count": 19,
     "metadata": {},
     "output_type": "execute_result"
    }
   ],
   "execution_count": 19
  },
  {
   "cell_type": "code",
   "id": "c18869dd-aca4-4ba0-9cb4-81d8891ba249",
   "metadata": {
    "ExecuteTime": {
     "end_time": "2024-11-07T17:17:14.636031Z",
     "start_time": "2024-11-07T17:17:14.615931Z"
    }
   },
   "source": [
    "pd.get_dummies(df['Embarked'], prefix='Embarked')"
   ],
   "outputs": [
    {
     "data": {
      "text/plain": [
       "             Embarked_C  Embarked_Q  Embarked_S\n",
       "PassengerId                                    \n",
       "1                 False       False        True\n",
       "2                  True       False       False\n",
       "3                 False       False        True\n",
       "4                 False       False        True\n",
       "5                 False       False        True\n",
       "...                 ...         ...         ...\n",
       "887               False       False        True\n",
       "888               False       False        True\n",
       "889               False       False        True\n",
       "890                True       False       False\n",
       "891               False        True       False\n",
       "\n",
       "[889 rows x 3 columns]"
      ],
      "text/html": [
       "<div>\n",
       "<style scoped>\n",
       "    .dataframe tbody tr th:only-of-type {\n",
       "        vertical-align: middle;\n",
       "    }\n",
       "\n",
       "    .dataframe tbody tr th {\n",
       "        vertical-align: top;\n",
       "    }\n",
       "\n",
       "    .dataframe thead th {\n",
       "        text-align: right;\n",
       "    }\n",
       "</style>\n",
       "<table border=\"1\" class=\"dataframe\">\n",
       "  <thead>\n",
       "    <tr style=\"text-align: right;\">\n",
       "      <th></th>\n",
       "      <th>Embarked_C</th>\n",
       "      <th>Embarked_Q</th>\n",
       "      <th>Embarked_S</th>\n",
       "    </tr>\n",
       "    <tr>\n",
       "      <th>PassengerId</th>\n",
       "      <th></th>\n",
       "      <th></th>\n",
       "      <th></th>\n",
       "    </tr>\n",
       "  </thead>\n",
       "  <tbody>\n",
       "    <tr>\n",
       "      <th>1</th>\n",
       "      <td>False</td>\n",
       "      <td>False</td>\n",
       "      <td>True</td>\n",
       "    </tr>\n",
       "    <tr>\n",
       "      <th>2</th>\n",
       "      <td>True</td>\n",
       "      <td>False</td>\n",
       "      <td>False</td>\n",
       "    </tr>\n",
       "    <tr>\n",
       "      <th>3</th>\n",
       "      <td>False</td>\n",
       "      <td>False</td>\n",
       "      <td>True</td>\n",
       "    </tr>\n",
       "    <tr>\n",
       "      <th>4</th>\n",
       "      <td>False</td>\n",
       "      <td>False</td>\n",
       "      <td>True</td>\n",
       "    </tr>\n",
       "    <tr>\n",
       "      <th>5</th>\n",
       "      <td>False</td>\n",
       "      <td>False</td>\n",
       "      <td>True</td>\n",
       "    </tr>\n",
       "    <tr>\n",
       "      <th>...</th>\n",
       "      <td>...</td>\n",
       "      <td>...</td>\n",
       "      <td>...</td>\n",
       "    </tr>\n",
       "    <tr>\n",
       "      <th>887</th>\n",
       "      <td>False</td>\n",
       "      <td>False</td>\n",
       "      <td>True</td>\n",
       "    </tr>\n",
       "    <tr>\n",
       "      <th>888</th>\n",
       "      <td>False</td>\n",
       "      <td>False</td>\n",
       "      <td>True</td>\n",
       "    </tr>\n",
       "    <tr>\n",
       "      <th>889</th>\n",
       "      <td>False</td>\n",
       "      <td>False</td>\n",
       "      <td>True</td>\n",
       "    </tr>\n",
       "    <tr>\n",
       "      <th>890</th>\n",
       "      <td>True</td>\n",
       "      <td>False</td>\n",
       "      <td>False</td>\n",
       "    </tr>\n",
       "    <tr>\n",
       "      <th>891</th>\n",
       "      <td>False</td>\n",
       "      <td>True</td>\n",
       "      <td>False</td>\n",
       "    </tr>\n",
       "  </tbody>\n",
       "</table>\n",
       "<p>889 rows × 3 columns</p>\n",
       "</div>"
      ]
     },
     "execution_count": 20,
     "metadata": {},
     "output_type": "execute_result"
    }
   ],
   "execution_count": 20
  },
  {
   "cell_type": "code",
   "id": "8a32c1d1-cd69-4f07-b9fa-62a075b57460",
   "metadata": {
    "ExecuteTime": {
     "end_time": "2024-11-07T17:17:14.735421Z",
     "start_time": "2024-11-07T17:17:14.723859Z"
    }
   },
   "source": [
    "df = pd.concat([df, pd.get_dummies(df['Embarked'], prefix='Embarked')], axis=1).drop('Embarked', axis=1)"
   ],
   "outputs": [],
   "execution_count": 21
  },
  {
   "cell_type": "markdown",
   "id": "e56cba21-7214-4cd2-acd6-e7507ffcba02",
   "metadata": {},
   "source": [
    "## Now we have the data ready"
   ]
  },
  {
   "cell_type": "code",
   "id": "f0d78f97-2c46-4c5a-8297-d1effbeaa5ab",
   "metadata": {
    "tags": [],
    "ExecuteTime": {
     "end_time": "2024-11-07T17:17:15.175573Z",
     "start_time": "2024-11-07T17:17:15.144251Z"
    }
   },
   "source": [
    "df"
   ],
   "outputs": [
    {
     "data": {
      "text/plain": [
       "             Survived  Pclass  Sex        Age  SibSp  Parch     Fare  Cabin  \\\n",
       "PassengerId                                                                   \n",
       "1                   0       3  0.0  22.000000      1      0   7.2500    7.0   \n",
       "2                   1       1  1.0  38.000000      1      0  71.2833    2.0   \n",
       "3                   1       3  1.0  26.000000      0      0   7.9250    7.0   \n",
       "4                   1       1  1.0  35.000000      1      0  53.1000    2.0   \n",
       "5                   0       3  0.0  35.000000      0      0   8.0500    7.0   \n",
       "...               ...     ...  ...        ...    ...    ...      ...    ...   \n",
       "887                 0       2  0.0  27.000000      0      0  13.0000    7.0   \n",
       "888                 1       1  1.0  19.000000      0      0  30.0000    1.0   \n",
       "889                 0       3  1.0  29.699118      1      2  23.4500    7.0   \n",
       "890                 1       1  0.0  26.000000      0      0  30.0000    2.0   \n",
       "891                 0       3  0.0  32.000000      0      0   7.7500    7.0   \n",
       "\n",
       "             Embarked_C  Embarked_Q  Embarked_S  \n",
       "PassengerId                                      \n",
       "1                 False       False        True  \n",
       "2                  True       False       False  \n",
       "3                 False       False        True  \n",
       "4                 False       False        True  \n",
       "5                 False       False        True  \n",
       "...                 ...         ...         ...  \n",
       "887               False       False        True  \n",
       "888               False       False        True  \n",
       "889               False       False        True  \n",
       "890                True       False       False  \n",
       "891               False        True       False  \n",
       "\n",
       "[889 rows x 11 columns]"
      ],
      "text/html": [
       "<div>\n",
       "<style scoped>\n",
       "    .dataframe tbody tr th:only-of-type {\n",
       "        vertical-align: middle;\n",
       "    }\n",
       "\n",
       "    .dataframe tbody tr th {\n",
       "        vertical-align: top;\n",
       "    }\n",
       "\n",
       "    .dataframe thead th {\n",
       "        text-align: right;\n",
       "    }\n",
       "</style>\n",
       "<table border=\"1\" class=\"dataframe\">\n",
       "  <thead>\n",
       "    <tr style=\"text-align: right;\">\n",
       "      <th></th>\n",
       "      <th>Survived</th>\n",
       "      <th>Pclass</th>\n",
       "      <th>Sex</th>\n",
       "      <th>Age</th>\n",
       "      <th>SibSp</th>\n",
       "      <th>Parch</th>\n",
       "      <th>Fare</th>\n",
       "      <th>Cabin</th>\n",
       "      <th>Embarked_C</th>\n",
       "      <th>Embarked_Q</th>\n",
       "      <th>Embarked_S</th>\n",
       "    </tr>\n",
       "    <tr>\n",
       "      <th>PassengerId</th>\n",
       "      <th></th>\n",
       "      <th></th>\n",
       "      <th></th>\n",
       "      <th></th>\n",
       "      <th></th>\n",
       "      <th></th>\n",
       "      <th></th>\n",
       "      <th></th>\n",
       "      <th></th>\n",
       "      <th></th>\n",
       "      <th></th>\n",
       "    </tr>\n",
       "  </thead>\n",
       "  <tbody>\n",
       "    <tr>\n",
       "      <th>1</th>\n",
       "      <td>0</td>\n",
       "      <td>3</td>\n",
       "      <td>0.0</td>\n",
       "      <td>22.000000</td>\n",
       "      <td>1</td>\n",
       "      <td>0</td>\n",
       "      <td>7.2500</td>\n",
       "      <td>7.0</td>\n",
       "      <td>False</td>\n",
       "      <td>False</td>\n",
       "      <td>True</td>\n",
       "    </tr>\n",
       "    <tr>\n",
       "      <th>2</th>\n",
       "      <td>1</td>\n",
       "      <td>1</td>\n",
       "      <td>1.0</td>\n",
       "      <td>38.000000</td>\n",
       "      <td>1</td>\n",
       "      <td>0</td>\n",
       "      <td>71.2833</td>\n",
       "      <td>2.0</td>\n",
       "      <td>True</td>\n",
       "      <td>False</td>\n",
       "      <td>False</td>\n",
       "    </tr>\n",
       "    <tr>\n",
       "      <th>3</th>\n",
       "      <td>1</td>\n",
       "      <td>3</td>\n",
       "      <td>1.0</td>\n",
       "      <td>26.000000</td>\n",
       "      <td>0</td>\n",
       "      <td>0</td>\n",
       "      <td>7.9250</td>\n",
       "      <td>7.0</td>\n",
       "      <td>False</td>\n",
       "      <td>False</td>\n",
       "      <td>True</td>\n",
       "    </tr>\n",
       "    <tr>\n",
       "      <th>4</th>\n",
       "      <td>1</td>\n",
       "      <td>1</td>\n",
       "      <td>1.0</td>\n",
       "      <td>35.000000</td>\n",
       "      <td>1</td>\n",
       "      <td>0</td>\n",
       "      <td>53.1000</td>\n",
       "      <td>2.0</td>\n",
       "      <td>False</td>\n",
       "      <td>False</td>\n",
       "      <td>True</td>\n",
       "    </tr>\n",
       "    <tr>\n",
       "      <th>5</th>\n",
       "      <td>0</td>\n",
       "      <td>3</td>\n",
       "      <td>0.0</td>\n",
       "      <td>35.000000</td>\n",
       "      <td>0</td>\n",
       "      <td>0</td>\n",
       "      <td>8.0500</td>\n",
       "      <td>7.0</td>\n",
       "      <td>False</td>\n",
       "      <td>False</td>\n",
       "      <td>True</td>\n",
       "    </tr>\n",
       "    <tr>\n",
       "      <th>...</th>\n",
       "      <td>...</td>\n",
       "      <td>...</td>\n",
       "      <td>...</td>\n",
       "      <td>...</td>\n",
       "      <td>...</td>\n",
       "      <td>...</td>\n",
       "      <td>...</td>\n",
       "      <td>...</td>\n",
       "      <td>...</td>\n",
       "      <td>...</td>\n",
       "      <td>...</td>\n",
       "    </tr>\n",
       "    <tr>\n",
       "      <th>887</th>\n",
       "      <td>0</td>\n",
       "      <td>2</td>\n",
       "      <td>0.0</td>\n",
       "      <td>27.000000</td>\n",
       "      <td>0</td>\n",
       "      <td>0</td>\n",
       "      <td>13.0000</td>\n",
       "      <td>7.0</td>\n",
       "      <td>False</td>\n",
       "      <td>False</td>\n",
       "      <td>True</td>\n",
       "    </tr>\n",
       "    <tr>\n",
       "      <th>888</th>\n",
       "      <td>1</td>\n",
       "      <td>1</td>\n",
       "      <td>1.0</td>\n",
       "      <td>19.000000</td>\n",
       "      <td>0</td>\n",
       "      <td>0</td>\n",
       "      <td>30.0000</td>\n",
       "      <td>1.0</td>\n",
       "      <td>False</td>\n",
       "      <td>False</td>\n",
       "      <td>True</td>\n",
       "    </tr>\n",
       "    <tr>\n",
       "      <th>889</th>\n",
       "      <td>0</td>\n",
       "      <td>3</td>\n",
       "      <td>1.0</td>\n",
       "      <td>29.699118</td>\n",
       "      <td>1</td>\n",
       "      <td>2</td>\n",
       "      <td>23.4500</td>\n",
       "      <td>7.0</td>\n",
       "      <td>False</td>\n",
       "      <td>False</td>\n",
       "      <td>True</td>\n",
       "    </tr>\n",
       "    <tr>\n",
       "      <th>890</th>\n",
       "      <td>1</td>\n",
       "      <td>1</td>\n",
       "      <td>0.0</td>\n",
       "      <td>26.000000</td>\n",
       "      <td>0</td>\n",
       "      <td>0</td>\n",
       "      <td>30.0000</td>\n",
       "      <td>2.0</td>\n",
       "      <td>True</td>\n",
       "      <td>False</td>\n",
       "      <td>False</td>\n",
       "    </tr>\n",
       "    <tr>\n",
       "      <th>891</th>\n",
       "      <td>0</td>\n",
       "      <td>3</td>\n",
       "      <td>0.0</td>\n",
       "      <td>32.000000</td>\n",
       "      <td>0</td>\n",
       "      <td>0</td>\n",
       "      <td>7.7500</td>\n",
       "      <td>7.0</td>\n",
       "      <td>False</td>\n",
       "      <td>True</td>\n",
       "      <td>False</td>\n",
       "    </tr>\n",
       "  </tbody>\n",
       "</table>\n",
       "<p>889 rows × 11 columns</p>\n",
       "</div>"
      ]
     },
     "execution_count": 22,
     "metadata": {},
     "output_type": "execute_result"
    }
   ],
   "execution_count": 22
  },
  {
   "cell_type": "markdown",
   "id": "0affd869-d673-4af1-b523-eb27e36bba64",
   "metadata": {},
   "source": [
    "## Let's start with splitting the data into the input and output part\n",
    "- Usually named as a *X* and *y* variables"
   ]
  },
  {
   "cell_type": "code",
   "id": "a5f021d0-28b1-4c2a-8e03-6070d3ace1c5",
   "metadata": {
    "ExecuteTime": {
     "end_time": "2024-11-07T17:17:15.941844Z",
     "start_time": "2024-11-07T17:17:15.934600Z"
    }
   },
   "source": [
    "X, y = df.loc[:, df.columns != 'Survived'], df.loc[:, 'Survived']"
   ],
   "outputs": [],
   "execution_count": 23
  },
  {
   "cell_type": "code",
   "id": "7c412ed1-20ff-47a8-9dfd-4f26a69cc624",
   "metadata": {
    "ExecuteTime": {
     "end_time": "2024-11-07T17:17:16.428479Z",
     "start_time": "2024-11-07T17:17:16.407288Z"
    }
   },
   "source": [
    "X.head()"
   ],
   "outputs": [
    {
     "data": {
      "text/plain": [
       "             Pclass  Sex   Age  SibSp  Parch     Fare  Cabin  Embarked_C  \\\n",
       "PassengerId                                                                \n",
       "1                 3  0.0  22.0      1      0   7.2500    7.0       False   \n",
       "2                 1  1.0  38.0      1      0  71.2833    2.0        True   \n",
       "3                 3  1.0  26.0      0      0   7.9250    7.0       False   \n",
       "4                 1  1.0  35.0      1      0  53.1000    2.0       False   \n",
       "5                 3  0.0  35.0      0      0   8.0500    7.0       False   \n",
       "\n",
       "             Embarked_Q  Embarked_S  \n",
       "PassengerId                          \n",
       "1                 False        True  \n",
       "2                 False       False  \n",
       "3                 False        True  \n",
       "4                 False        True  \n",
       "5                 False        True  "
      ],
      "text/html": [
       "<div>\n",
       "<style scoped>\n",
       "    .dataframe tbody tr th:only-of-type {\n",
       "        vertical-align: middle;\n",
       "    }\n",
       "\n",
       "    .dataframe tbody tr th {\n",
       "        vertical-align: top;\n",
       "    }\n",
       "\n",
       "    .dataframe thead th {\n",
       "        text-align: right;\n",
       "    }\n",
       "</style>\n",
       "<table border=\"1\" class=\"dataframe\">\n",
       "  <thead>\n",
       "    <tr style=\"text-align: right;\">\n",
       "      <th></th>\n",
       "      <th>Pclass</th>\n",
       "      <th>Sex</th>\n",
       "      <th>Age</th>\n",
       "      <th>SibSp</th>\n",
       "      <th>Parch</th>\n",
       "      <th>Fare</th>\n",
       "      <th>Cabin</th>\n",
       "      <th>Embarked_C</th>\n",
       "      <th>Embarked_Q</th>\n",
       "      <th>Embarked_S</th>\n",
       "    </tr>\n",
       "    <tr>\n",
       "      <th>PassengerId</th>\n",
       "      <th></th>\n",
       "      <th></th>\n",
       "      <th></th>\n",
       "      <th></th>\n",
       "      <th></th>\n",
       "      <th></th>\n",
       "      <th></th>\n",
       "      <th></th>\n",
       "      <th></th>\n",
       "      <th></th>\n",
       "    </tr>\n",
       "  </thead>\n",
       "  <tbody>\n",
       "    <tr>\n",
       "      <th>1</th>\n",
       "      <td>3</td>\n",
       "      <td>0.0</td>\n",
       "      <td>22.0</td>\n",
       "      <td>1</td>\n",
       "      <td>0</td>\n",
       "      <td>7.2500</td>\n",
       "      <td>7.0</td>\n",
       "      <td>False</td>\n",
       "      <td>False</td>\n",
       "      <td>True</td>\n",
       "    </tr>\n",
       "    <tr>\n",
       "      <th>2</th>\n",
       "      <td>1</td>\n",
       "      <td>1.0</td>\n",
       "      <td>38.0</td>\n",
       "      <td>1</td>\n",
       "      <td>0</td>\n",
       "      <td>71.2833</td>\n",
       "      <td>2.0</td>\n",
       "      <td>True</td>\n",
       "      <td>False</td>\n",
       "      <td>False</td>\n",
       "    </tr>\n",
       "    <tr>\n",
       "      <th>3</th>\n",
       "      <td>3</td>\n",
       "      <td>1.0</td>\n",
       "      <td>26.0</td>\n",
       "      <td>0</td>\n",
       "      <td>0</td>\n",
       "      <td>7.9250</td>\n",
       "      <td>7.0</td>\n",
       "      <td>False</td>\n",
       "      <td>False</td>\n",
       "      <td>True</td>\n",
       "    </tr>\n",
       "    <tr>\n",
       "      <th>4</th>\n",
       "      <td>1</td>\n",
       "      <td>1.0</td>\n",
       "      <td>35.0</td>\n",
       "      <td>1</td>\n",
       "      <td>0</td>\n",
       "      <td>53.1000</td>\n",
       "      <td>2.0</td>\n",
       "      <td>False</td>\n",
       "      <td>False</td>\n",
       "      <td>True</td>\n",
       "    </tr>\n",
       "    <tr>\n",
       "      <th>5</th>\n",
       "      <td>3</td>\n",
       "      <td>0.0</td>\n",
       "      <td>35.0</td>\n",
       "      <td>0</td>\n",
       "      <td>0</td>\n",
       "      <td>8.0500</td>\n",
       "      <td>7.0</td>\n",
       "      <td>False</td>\n",
       "      <td>False</td>\n",
       "      <td>True</td>\n",
       "    </tr>\n",
       "  </tbody>\n",
       "</table>\n",
       "</div>"
      ]
     },
     "execution_count": 24,
     "metadata": {},
     "output_type": "execute_result"
    }
   ],
   "execution_count": 24
  },
  {
   "cell_type": "code",
   "id": "8f4d44f9-ada3-4ed0-9b15-4c5c4d699b04",
   "metadata": {
    "ExecuteTime": {
     "end_time": "2024-11-07T17:17:16.978447Z",
     "start_time": "2024-11-07T17:17:16.969246Z"
    }
   },
   "source": [
    "y.head()"
   ],
   "outputs": [
    {
     "data": {
      "text/plain": [
       "PassengerId\n",
       "1    0\n",
       "2    1\n",
       "3    1\n",
       "4    1\n",
       "5    0\n",
       "Name: Survived, dtype: int64"
      ]
     },
     "execution_count": 25,
     "metadata": {},
     "output_type": "execute_result"
    }
   ],
   "execution_count": 25
  },
  {
   "cell_type": "markdown",
   "id": "2c161813-24a7-46b5-9301-792c93810629",
   "metadata": {
    "tags": []
   },
   "source": [
    "## Lets continue with train test split process.\n",
    "- Note that number of rows in the *X* and *y* in the Train/Test part of the data has to be equal"
   ]
  },
  {
   "cell_type": "code",
   "id": "8c4621df-36a4-4097-bb2c-4c8325f3b882",
   "metadata": {
    "ExecuteTime": {
     "end_time": "2024-11-07T17:17:17.725374Z",
     "start_time": "2024-11-07T17:17:17.712354Z"
    }
   },
   "source": [
    "X_train, X_test, y_train, y_test = train_test_split(X, y, test_size=0.2, random_state=13)\n",
    "X_train.shape, X_test.shape, y_train.shape, y_test.shape"
   ],
   "outputs": [
    {
     "data": {
      "text/plain": [
       "((711, 10), (178, 10), (711,), (178,))"
      ]
     },
     "execution_count": 26,
     "metadata": {},
     "output_type": "execute_result"
    }
   ],
   "execution_count": 26
  },
  {
   "cell_type": "markdown",
   "id": "08cdb399-d902-428c-9fbc-fe985a446b03",
   "metadata": {},
   "source": [
    "## Create the Decision tree classifier instance"
   ]
  },
  {
   "cell_type": "code",
   "id": "90b94962-d1f7-4451-a460-4f88d4cfe95a",
   "metadata": {
    "ExecuteTime": {
     "end_time": "2024-11-07T17:17:18.338513Z",
     "start_time": "2024-11-07T17:17:18.333017Z"
    }
   },
   "source": [
    "clf = DecisionTreeClassifier()"
   ],
   "outputs": [],
   "execution_count": 27
  },
  {
   "cell_type": "markdown",
   "id": "f0509a62-5a8e-4f21-b229-b10d6a30f865",
   "metadata": {},
   "source": [
    "### Use *fit()* method for training of classifier"
   ]
  },
  {
   "cell_type": "code",
   "id": "8e2f2156-e441-4321-ba53-69f59c648980",
   "metadata": {
    "ExecuteTime": {
     "end_time": "2024-11-07T17:17:18.908822Z",
     "start_time": "2024-11-07T17:17:18.886319Z"
    }
   },
   "source": [
    "clf.fit(X_train, y_train)"
   ],
   "outputs": [
    {
     "data": {
      "text/plain": [
       "DecisionTreeClassifier()"
      ],
      "text/html": [
       "<style>#sk-container-id-1 {\n",
       "  /* Definition of color scheme common for light and dark mode */\n",
       "  --sklearn-color-text: black;\n",
       "  --sklearn-color-line: gray;\n",
       "  /* Definition of color scheme for unfitted estimators */\n",
       "  --sklearn-color-unfitted-level-0: #fff5e6;\n",
       "  --sklearn-color-unfitted-level-1: #f6e4d2;\n",
       "  --sklearn-color-unfitted-level-2: #ffe0b3;\n",
       "  --sklearn-color-unfitted-level-3: chocolate;\n",
       "  /* Definition of color scheme for fitted estimators */\n",
       "  --sklearn-color-fitted-level-0: #f0f8ff;\n",
       "  --sklearn-color-fitted-level-1: #d4ebff;\n",
       "  --sklearn-color-fitted-level-2: #b3dbfd;\n",
       "  --sklearn-color-fitted-level-3: cornflowerblue;\n",
       "\n",
       "  /* Specific color for light theme */\n",
       "  --sklearn-color-text-on-default-background: var(--sg-text-color, var(--theme-code-foreground, var(--jp-content-font-color1, black)));\n",
       "  --sklearn-color-background: var(--sg-background-color, var(--theme-background, var(--jp-layout-color0, white)));\n",
       "  --sklearn-color-border-box: var(--sg-text-color, var(--theme-code-foreground, var(--jp-content-font-color1, black)));\n",
       "  --sklearn-color-icon: #696969;\n",
       "\n",
       "  @media (prefers-color-scheme: dark) {\n",
       "    /* Redefinition of color scheme for dark theme */\n",
       "    --sklearn-color-text-on-default-background: var(--sg-text-color, var(--theme-code-foreground, var(--jp-content-font-color1, white)));\n",
       "    --sklearn-color-background: var(--sg-background-color, var(--theme-background, var(--jp-layout-color0, #111)));\n",
       "    --sklearn-color-border-box: var(--sg-text-color, var(--theme-code-foreground, var(--jp-content-font-color1, white)));\n",
       "    --sklearn-color-icon: #878787;\n",
       "  }\n",
       "}\n",
       "\n",
       "#sk-container-id-1 {\n",
       "  color: var(--sklearn-color-text);\n",
       "}\n",
       "\n",
       "#sk-container-id-1 pre {\n",
       "  padding: 0;\n",
       "}\n",
       "\n",
       "#sk-container-id-1 input.sk-hidden--visually {\n",
       "  border: 0;\n",
       "  clip: rect(1px 1px 1px 1px);\n",
       "  clip: rect(1px, 1px, 1px, 1px);\n",
       "  height: 1px;\n",
       "  margin: -1px;\n",
       "  overflow: hidden;\n",
       "  padding: 0;\n",
       "  position: absolute;\n",
       "  width: 1px;\n",
       "}\n",
       "\n",
       "#sk-container-id-1 div.sk-dashed-wrapped {\n",
       "  border: 1px dashed var(--sklearn-color-line);\n",
       "  margin: 0 0.4em 0.5em 0.4em;\n",
       "  box-sizing: border-box;\n",
       "  padding-bottom: 0.4em;\n",
       "  background-color: var(--sklearn-color-background);\n",
       "}\n",
       "\n",
       "#sk-container-id-1 div.sk-container {\n",
       "  /* jupyter's `normalize.less` sets `[hidden] { display: none; }`\n",
       "     but bootstrap.min.css set `[hidden] { display: none !important; }`\n",
       "     so we also need the `!important` here to be able to override the\n",
       "     default hidden behavior on the sphinx rendered scikit-learn.org.\n",
       "     See: https://github.com/scikit-learn/scikit-learn/issues/21755 */\n",
       "  display: inline-block !important;\n",
       "  position: relative;\n",
       "}\n",
       "\n",
       "#sk-container-id-1 div.sk-text-repr-fallback {\n",
       "  display: none;\n",
       "}\n",
       "\n",
       "div.sk-parallel-item,\n",
       "div.sk-serial,\n",
       "div.sk-item {\n",
       "  /* draw centered vertical line to link estimators */\n",
       "  background-image: linear-gradient(var(--sklearn-color-text-on-default-background), var(--sklearn-color-text-on-default-background));\n",
       "  background-size: 2px 100%;\n",
       "  background-repeat: no-repeat;\n",
       "  background-position: center center;\n",
       "}\n",
       "\n",
       "/* Parallel-specific style estimator block */\n",
       "\n",
       "#sk-container-id-1 div.sk-parallel-item::after {\n",
       "  content: \"\";\n",
       "  width: 100%;\n",
       "  border-bottom: 2px solid var(--sklearn-color-text-on-default-background);\n",
       "  flex-grow: 1;\n",
       "}\n",
       "\n",
       "#sk-container-id-1 div.sk-parallel {\n",
       "  display: flex;\n",
       "  align-items: stretch;\n",
       "  justify-content: center;\n",
       "  background-color: var(--sklearn-color-background);\n",
       "  position: relative;\n",
       "}\n",
       "\n",
       "#sk-container-id-1 div.sk-parallel-item {\n",
       "  display: flex;\n",
       "  flex-direction: column;\n",
       "}\n",
       "\n",
       "#sk-container-id-1 div.sk-parallel-item:first-child::after {\n",
       "  align-self: flex-end;\n",
       "  width: 50%;\n",
       "}\n",
       "\n",
       "#sk-container-id-1 div.sk-parallel-item:last-child::after {\n",
       "  align-self: flex-start;\n",
       "  width: 50%;\n",
       "}\n",
       "\n",
       "#sk-container-id-1 div.sk-parallel-item:only-child::after {\n",
       "  width: 0;\n",
       "}\n",
       "\n",
       "/* Serial-specific style estimator block */\n",
       "\n",
       "#sk-container-id-1 div.sk-serial {\n",
       "  display: flex;\n",
       "  flex-direction: column;\n",
       "  align-items: center;\n",
       "  background-color: var(--sklearn-color-background);\n",
       "  padding-right: 1em;\n",
       "  padding-left: 1em;\n",
       "}\n",
       "\n",
       "\n",
       "/* Toggleable style: style used for estimator/Pipeline/ColumnTransformer box that is\n",
       "clickable and can be expanded/collapsed.\n",
       "- Pipeline and ColumnTransformer use this feature and define the default style\n",
       "- Estimators will overwrite some part of the style using the `sk-estimator` class\n",
       "*/\n",
       "\n",
       "/* Pipeline and ColumnTransformer style (default) */\n",
       "\n",
       "#sk-container-id-1 div.sk-toggleable {\n",
       "  /* Default theme specific background. It is overwritten whether we have a\n",
       "  specific estimator or a Pipeline/ColumnTransformer */\n",
       "  background-color: var(--sklearn-color-background);\n",
       "}\n",
       "\n",
       "/* Toggleable label */\n",
       "#sk-container-id-1 label.sk-toggleable__label {\n",
       "  cursor: pointer;\n",
       "  display: block;\n",
       "  width: 100%;\n",
       "  margin-bottom: 0;\n",
       "  padding: 0.5em;\n",
       "  box-sizing: border-box;\n",
       "  text-align: center;\n",
       "}\n",
       "\n",
       "#sk-container-id-1 label.sk-toggleable__label-arrow:before {\n",
       "  /* Arrow on the left of the label */\n",
       "  content: \"▸\";\n",
       "  float: left;\n",
       "  margin-right: 0.25em;\n",
       "  color: var(--sklearn-color-icon);\n",
       "}\n",
       "\n",
       "#sk-container-id-1 label.sk-toggleable__label-arrow:hover:before {\n",
       "  color: var(--sklearn-color-text);\n",
       "}\n",
       "\n",
       "/* Toggleable content - dropdown */\n",
       "\n",
       "#sk-container-id-1 div.sk-toggleable__content {\n",
       "  max-height: 0;\n",
       "  max-width: 0;\n",
       "  overflow: hidden;\n",
       "  text-align: left;\n",
       "  /* unfitted */\n",
       "  background-color: var(--sklearn-color-unfitted-level-0);\n",
       "}\n",
       "\n",
       "#sk-container-id-1 div.sk-toggleable__content.fitted {\n",
       "  /* fitted */\n",
       "  background-color: var(--sklearn-color-fitted-level-0);\n",
       "}\n",
       "\n",
       "#sk-container-id-1 div.sk-toggleable__content pre {\n",
       "  margin: 0.2em;\n",
       "  border-radius: 0.25em;\n",
       "  color: var(--sklearn-color-text);\n",
       "  /* unfitted */\n",
       "  background-color: var(--sklearn-color-unfitted-level-0);\n",
       "}\n",
       "\n",
       "#sk-container-id-1 div.sk-toggleable__content.fitted pre {\n",
       "  /* unfitted */\n",
       "  background-color: var(--sklearn-color-fitted-level-0);\n",
       "}\n",
       "\n",
       "#sk-container-id-1 input.sk-toggleable__control:checked~div.sk-toggleable__content {\n",
       "  /* Expand drop-down */\n",
       "  max-height: 200px;\n",
       "  max-width: 100%;\n",
       "  overflow: auto;\n",
       "}\n",
       "\n",
       "#sk-container-id-1 input.sk-toggleable__control:checked~label.sk-toggleable__label-arrow:before {\n",
       "  content: \"▾\";\n",
       "}\n",
       "\n",
       "/* Pipeline/ColumnTransformer-specific style */\n",
       "\n",
       "#sk-container-id-1 div.sk-label input.sk-toggleable__control:checked~label.sk-toggleable__label {\n",
       "  color: var(--sklearn-color-text);\n",
       "  background-color: var(--sklearn-color-unfitted-level-2);\n",
       "}\n",
       "\n",
       "#sk-container-id-1 div.sk-label.fitted input.sk-toggleable__control:checked~label.sk-toggleable__label {\n",
       "  background-color: var(--sklearn-color-fitted-level-2);\n",
       "}\n",
       "\n",
       "/* Estimator-specific style */\n",
       "\n",
       "/* Colorize estimator box */\n",
       "#sk-container-id-1 div.sk-estimator input.sk-toggleable__control:checked~label.sk-toggleable__label {\n",
       "  /* unfitted */\n",
       "  background-color: var(--sklearn-color-unfitted-level-2);\n",
       "}\n",
       "\n",
       "#sk-container-id-1 div.sk-estimator.fitted input.sk-toggleable__control:checked~label.sk-toggleable__label {\n",
       "  /* fitted */\n",
       "  background-color: var(--sklearn-color-fitted-level-2);\n",
       "}\n",
       "\n",
       "#sk-container-id-1 div.sk-label label.sk-toggleable__label,\n",
       "#sk-container-id-1 div.sk-label label {\n",
       "  /* The background is the default theme color */\n",
       "  color: var(--sklearn-color-text-on-default-background);\n",
       "}\n",
       "\n",
       "/* On hover, darken the color of the background */\n",
       "#sk-container-id-1 div.sk-label:hover label.sk-toggleable__label {\n",
       "  color: var(--sklearn-color-text);\n",
       "  background-color: var(--sklearn-color-unfitted-level-2);\n",
       "}\n",
       "\n",
       "/* Label box, darken color on hover, fitted */\n",
       "#sk-container-id-1 div.sk-label.fitted:hover label.sk-toggleable__label.fitted {\n",
       "  color: var(--sklearn-color-text);\n",
       "  background-color: var(--sklearn-color-fitted-level-2);\n",
       "}\n",
       "\n",
       "/* Estimator label */\n",
       "\n",
       "#sk-container-id-1 div.sk-label label {\n",
       "  font-family: monospace;\n",
       "  font-weight: bold;\n",
       "  display: inline-block;\n",
       "  line-height: 1.2em;\n",
       "}\n",
       "\n",
       "#sk-container-id-1 div.sk-label-container {\n",
       "  text-align: center;\n",
       "}\n",
       "\n",
       "/* Estimator-specific */\n",
       "#sk-container-id-1 div.sk-estimator {\n",
       "  font-family: monospace;\n",
       "  border: 1px dotted var(--sklearn-color-border-box);\n",
       "  border-radius: 0.25em;\n",
       "  box-sizing: border-box;\n",
       "  margin-bottom: 0.5em;\n",
       "  /* unfitted */\n",
       "  background-color: var(--sklearn-color-unfitted-level-0);\n",
       "}\n",
       "\n",
       "#sk-container-id-1 div.sk-estimator.fitted {\n",
       "  /* fitted */\n",
       "  background-color: var(--sklearn-color-fitted-level-0);\n",
       "}\n",
       "\n",
       "/* on hover */\n",
       "#sk-container-id-1 div.sk-estimator:hover {\n",
       "  /* unfitted */\n",
       "  background-color: var(--sklearn-color-unfitted-level-2);\n",
       "}\n",
       "\n",
       "#sk-container-id-1 div.sk-estimator.fitted:hover {\n",
       "  /* fitted */\n",
       "  background-color: var(--sklearn-color-fitted-level-2);\n",
       "}\n",
       "\n",
       "/* Specification for estimator info (e.g. \"i\" and \"?\") */\n",
       "\n",
       "/* Common style for \"i\" and \"?\" */\n",
       "\n",
       ".sk-estimator-doc-link,\n",
       "a:link.sk-estimator-doc-link,\n",
       "a:visited.sk-estimator-doc-link {\n",
       "  float: right;\n",
       "  font-size: smaller;\n",
       "  line-height: 1em;\n",
       "  font-family: monospace;\n",
       "  background-color: var(--sklearn-color-background);\n",
       "  border-radius: 1em;\n",
       "  height: 1em;\n",
       "  width: 1em;\n",
       "  text-decoration: none !important;\n",
       "  margin-left: 1ex;\n",
       "  /* unfitted */\n",
       "  border: var(--sklearn-color-unfitted-level-1) 1pt solid;\n",
       "  color: var(--sklearn-color-unfitted-level-1);\n",
       "}\n",
       "\n",
       ".sk-estimator-doc-link.fitted,\n",
       "a:link.sk-estimator-doc-link.fitted,\n",
       "a:visited.sk-estimator-doc-link.fitted {\n",
       "  /* fitted */\n",
       "  border: var(--sklearn-color-fitted-level-1) 1pt solid;\n",
       "  color: var(--sklearn-color-fitted-level-1);\n",
       "}\n",
       "\n",
       "/* On hover */\n",
       "div.sk-estimator:hover .sk-estimator-doc-link:hover,\n",
       ".sk-estimator-doc-link:hover,\n",
       "div.sk-label-container:hover .sk-estimator-doc-link:hover,\n",
       ".sk-estimator-doc-link:hover {\n",
       "  /* unfitted */\n",
       "  background-color: var(--sklearn-color-unfitted-level-3);\n",
       "  color: var(--sklearn-color-background);\n",
       "  text-decoration: none;\n",
       "}\n",
       "\n",
       "div.sk-estimator.fitted:hover .sk-estimator-doc-link.fitted:hover,\n",
       ".sk-estimator-doc-link.fitted:hover,\n",
       "div.sk-label-container:hover .sk-estimator-doc-link.fitted:hover,\n",
       ".sk-estimator-doc-link.fitted:hover {\n",
       "  /* fitted */\n",
       "  background-color: var(--sklearn-color-fitted-level-3);\n",
       "  color: var(--sklearn-color-background);\n",
       "  text-decoration: none;\n",
       "}\n",
       "\n",
       "/* Span, style for the box shown on hovering the info icon */\n",
       ".sk-estimator-doc-link span {\n",
       "  display: none;\n",
       "  z-index: 9999;\n",
       "  position: relative;\n",
       "  font-weight: normal;\n",
       "  right: .2ex;\n",
       "  padding: .5ex;\n",
       "  margin: .5ex;\n",
       "  width: min-content;\n",
       "  min-width: 20ex;\n",
       "  max-width: 50ex;\n",
       "  color: var(--sklearn-color-text);\n",
       "  box-shadow: 2pt 2pt 4pt #999;\n",
       "  /* unfitted */\n",
       "  background: var(--sklearn-color-unfitted-level-0);\n",
       "  border: .5pt solid var(--sklearn-color-unfitted-level-3);\n",
       "}\n",
       "\n",
       ".sk-estimator-doc-link.fitted span {\n",
       "  /* fitted */\n",
       "  background: var(--sklearn-color-fitted-level-0);\n",
       "  border: var(--sklearn-color-fitted-level-3);\n",
       "}\n",
       "\n",
       ".sk-estimator-doc-link:hover span {\n",
       "  display: block;\n",
       "}\n",
       "\n",
       "/* \"?\"-specific style due to the `<a>` HTML tag */\n",
       "\n",
       "#sk-container-id-1 a.estimator_doc_link {\n",
       "  float: right;\n",
       "  font-size: 1rem;\n",
       "  line-height: 1em;\n",
       "  font-family: monospace;\n",
       "  background-color: var(--sklearn-color-background);\n",
       "  border-radius: 1rem;\n",
       "  height: 1rem;\n",
       "  width: 1rem;\n",
       "  text-decoration: none;\n",
       "  /* unfitted */\n",
       "  color: var(--sklearn-color-unfitted-level-1);\n",
       "  border: var(--sklearn-color-unfitted-level-1) 1pt solid;\n",
       "}\n",
       "\n",
       "#sk-container-id-1 a.estimator_doc_link.fitted {\n",
       "  /* fitted */\n",
       "  border: var(--sklearn-color-fitted-level-1) 1pt solid;\n",
       "  color: var(--sklearn-color-fitted-level-1);\n",
       "}\n",
       "\n",
       "/* On hover */\n",
       "#sk-container-id-1 a.estimator_doc_link:hover {\n",
       "  /* unfitted */\n",
       "  background-color: var(--sklearn-color-unfitted-level-3);\n",
       "  color: var(--sklearn-color-background);\n",
       "  text-decoration: none;\n",
       "}\n",
       "\n",
       "#sk-container-id-1 a.estimator_doc_link.fitted:hover {\n",
       "  /* fitted */\n",
       "  background-color: var(--sklearn-color-fitted-level-3);\n",
       "}\n",
       "</style><div id=\"sk-container-id-1\" class=\"sk-top-container\"><div class=\"sk-text-repr-fallback\"><pre>DecisionTreeClassifier()</pre><b>In a Jupyter environment, please rerun this cell to show the HTML representation or trust the notebook. <br />On GitHub, the HTML representation is unable to render, please try loading this page with nbviewer.org.</b></div><div class=\"sk-container\" hidden><div class=\"sk-item\"><div class=\"sk-estimator fitted sk-toggleable\"><input class=\"sk-toggleable__control sk-hidden--visually\" id=\"sk-estimator-id-1\" type=\"checkbox\" checked><label for=\"sk-estimator-id-1\" class=\"sk-toggleable__label fitted sk-toggleable__label-arrow fitted\">&nbsp;&nbsp;DecisionTreeClassifier<a class=\"sk-estimator-doc-link fitted\" rel=\"noreferrer\" target=\"_blank\" href=\"https://scikit-learn.org/1.5/modules/generated/sklearn.tree.DecisionTreeClassifier.html\">?<span>Documentation for DecisionTreeClassifier</span></a><span class=\"sk-estimator-doc-link fitted\">i<span>Fitted</span></span></label><div class=\"sk-toggleable__content fitted\"><pre>DecisionTreeClassifier()</pre></div> </div></div></div></div>"
      ]
     },
     "execution_count": 28,
     "metadata": {},
     "output_type": "execute_result"
    }
   ],
   "execution_count": 28
  },
  {
   "cell_type": "markdown",
   "id": "36b97786-6284-43fe-9f48-e52370106d9d",
   "metadata": {},
   "source": [
    "### Lets use trained model for the prediction part\n",
    "- Get predictions via the method *predict()*"
   ]
  },
  {
   "cell_type": "code",
   "id": "a48e30c4-95e9-4625-967e-587b5099de67",
   "metadata": {
    "ExecuteTime": {
     "end_time": "2024-11-07T17:17:19.138752Z",
     "start_time": "2024-11-07T17:17:19.124488Z"
    }
   },
   "source": [
    "y_pred = clf.predict(X_test)\n",
    "y_pred"
   ],
   "outputs": [
    {
     "data": {
      "text/plain": [
       "array([0, 0, 0, 0, 1, 1, 0, 1, 0, 0, 0, 1, 1, 0, 0, 1, 1, 0, 0, 0, 0, 0,\n",
       "       1, 0, 0, 1, 1, 0, 1, 0, 0, 1, 0, 0, 1, 0, 1, 0, 0, 0, 1, 0, 0, 0,\n",
       "       0, 0, 0, 0, 1, 1, 0, 0, 0, 0, 0, 1, 0, 0, 1, 0, 0, 1, 1, 0, 0, 0,\n",
       "       1, 1, 0, 0, 0, 0, 1, 0, 1, 0, 0, 0, 0, 0, 0, 0, 0, 0, 1, 0, 0, 0,\n",
       "       0, 0, 0, 1, 1, 0, 0, 1, 0, 1, 0, 0, 1, 0, 1, 0, 0, 1, 0, 0, 0, 0,\n",
       "       1, 1, 0, 0, 0, 1, 1, 0, 0, 0, 1, 1, 0, 0, 0, 0, 1, 1, 0, 1, 1, 1,\n",
       "       1, 1, 1, 1, 0, 0, 1, 1, 0, 1, 0, 0, 0, 0, 0, 0, 1, 0, 0, 0, 1, 1,\n",
       "       0, 1, 1, 1, 0, 1, 0, 1, 0, 1, 1, 1, 0, 1, 0, 0, 0, 0, 0, 0, 0, 1,\n",
       "       0, 0])"
      ]
     },
     "execution_count": 29,
     "metadata": {},
     "output_type": "execute_result"
    }
   ],
   "execution_count": 29
  },
  {
   "cell_type": "markdown",
   "id": "49e17f70-c136-4eb0-b362-f19a8b787eb3",
   "metadata": {
    "tags": []
   },
   "source": [
    "### Can we evaluate our model?\n",
    "- There are multiple metrics used: Accuracy, Recall, Precision, F1-Score, etc.\n",
    "- Very useful is also creating a confusion matrix\n",
    "\n",
    "### Take a look at this [article](https://builtin.com/data-science/precision-and-recall) and [wiki](https://en.wikipedia.org/wiki/Precision_and_recall) about precision and recall\n",
    "- Beware the fact that as we increase precision, we decrease recall and vice-versa.\n",
    "\n",
    "- **Precision** is the ratio of correctly predicted positive observations to the total predicted positive observations. The question that this metric answer is of all passengers that labeled as survived, how many actually survived? High precision relates to the low false positive rate.\n",
    "\n",
    "- **Recall** is the ratio of correctly predicted positive observations to the all observations in actual class - yes. The question recall answers is: Of all the passengers that truly survived, how many did we label?\n",
    "\n",
    "- **F1 Score** is the harmonic mean of Precision and Recall. Therefore, this score takes both false positives and false negatives into account. Intuitively it is not as easy to understand as accuracy, but F1 is usually more useful than accuracy, especially if you have an uneven class distribution. Accuracy works best if false positives and false negatives have similar cost. If the cost of false positives and false negatives are very different, it’s better to look at both Precision and Recall."
   ]
  },
  {
   "cell_type": "markdown",
   "id": "bc7aee0b-44d2-4609-95d9-c6ea223d717b",
   "metadata": {},
   "source": [
    "$ConfMatrix = \\begin{bmatrix}\n",
    "TP & FN\\\\\n",
    "FP & TN\n",
    "\\end{bmatrix}$"
   ]
  },
  {
   "cell_type": "code",
   "id": "c25742d4-061b-4cae-b0a6-31d75f8ec956",
   "metadata": {
    "ExecuteTime": {
     "end_time": "2024-11-07T17:17:19.464011Z",
     "start_time": "2024-11-07T17:17:19.454154Z"
    }
   },
   "source": [
    "accuracy_score(y_test, y_pred)"
   ],
   "outputs": [
    {
     "data": {
      "text/plain": [
       "0.8146067415730337"
      ]
     },
     "execution_count": 30,
     "metadata": {},
     "output_type": "execute_result"
    }
   ],
   "execution_count": 30
  },
  {
   "cell_type": "markdown",
   "id": "ef0763f5-4d79-4ca5-9770-ecaad6f71a5e",
   "metadata": {},
   "source": [
    "## What does the confusion matrix tell us?\n",
    "- Where do we find true positives, false positives etc?"
   ]
  },
  {
   "cell_type": "code",
   "id": "298e88ae-1977-4689-b19f-6a408c141d68",
   "metadata": {
    "ExecuteTime": {
     "end_time": "2024-11-07T17:17:20.265386Z",
     "start_time": "2024-11-07T17:17:19.786738Z"
    }
   },
   "source": [
    "sns.heatmap(confusion_matrix(y_test, y_pred), annot=True, cmap=\"Blues\")"
   ],
   "outputs": [
    {
     "data": {
      "text/plain": [
       "<Axes: >"
      ]
     },
     "execution_count": 31,
     "metadata": {},
     "output_type": "execute_result"
    },
    {
     "data": {
      "text/plain": [
       "<Figure size 640x480 with 2 Axes>"
      ],
      "image/png": "[encoded data removed]"
     },
     "metadata": {},
     "output_type": "display_data"
    }
   ],
   "execution_count": 31
  },
  {
   "cell_type": "code",
   "id": "55121f43-8e77-4323-b237-370e99494790",
   "metadata": {
    "ExecuteTime": {
     "end_time": "2024-11-07T17:17:20.502547Z",
     "start_time": "2024-11-07T17:17:20.490062Z"
    }
   },
   "source": [
    "confusion_matrix(y_test, y_pred)"
   ],
   "outputs": [
    {
     "data": {
      "text/plain": [
       "array([[93, 12],\n",
       "       [21, 52]])"
      ]
     },
     "execution_count": 32,
     "metadata": {},
     "output_type": "execute_result"
    }
   ],
   "execution_count": 32
  },
  {
   "cell_type": "code",
   "id": "9c6bcc55-8e10-40c8-a9a0-8e76e56f0037",
   "metadata": {
    "ExecuteTime": {
     "end_time": "2024-11-07T17:17:21.008984Z",
     "start_time": "2024-11-07T17:17:20.991848Z"
    }
   },
   "source": [
    "tn, fp, fn, tp = confusion_matrix(y_test, y_pred).ravel()\n",
    "tn, fp, fn, tp"
   ],
   "outputs": [
    {
     "data": {
      "text/plain": [
       "(np.int64(93), np.int64(12), np.int64(21), np.int64(52))"
      ]
     },
     "execution_count": 33,
     "metadata": {},
     "output_type": "execute_result"
    }
   ],
   "execution_count": 33
  },
  {
   "cell_type": "code",
   "id": "0dff2271-4ebd-4462-94ad-8686377f5bc7",
   "metadata": {
    "ExecuteTime": {
     "end_time": "2024-11-07T17:17:21.174742Z",
     "start_time": "2024-11-07T17:17:21.164220Z"
    }
   },
   "source": [
    "accuracy_score(y_test, y_pred)"
   ],
   "outputs": [
    {
     "data": {
      "text/plain": [
       "0.8146067415730337"
      ]
     },
     "execution_count": 34,
     "metadata": {},
     "output_type": "execute_result"
    }
   ],
   "execution_count": 34
  },
  {
   "cell_type": "code",
   "id": "4c546e30-f5bd-4c9f-828b-84f3962bfa32",
   "metadata": {
    "ExecuteTime": {
     "end_time": "2024-11-07T17:17:21.401912Z",
     "start_time": "2024-11-07T17:17:21.388751Z"
    }
   },
   "source": [
    "precision_score(y_test, y_pred)"
   ],
   "outputs": [
    {
     "data": {
      "text/plain": [
       "np.float64(0.8125)"
      ]
     },
     "execution_count": 35,
     "metadata": {},
     "output_type": "execute_result"
    }
   ],
   "execution_count": 35
  },
  {
   "cell_type": "code",
   "id": "5619f075-d02e-4fe2-90d6-8789c29e98c7",
   "metadata": {
    "ExecuteTime": {
     "end_time": "2024-11-07T17:17:21.688031Z",
     "start_time": "2024-11-07T17:17:21.672094Z"
    }
   },
   "source": [
    "recall_score(y_test, y_pred)"
   ],
   "outputs": [
    {
     "data": {
      "text/plain": [
       "np.float64(0.7123287671232876)"
      ]
     },
     "execution_count": 36,
     "metadata": {},
     "output_type": "execute_result"
    }
   ],
   "execution_count": 36
  },
  {
   "cell_type": "code",
   "id": "1434cb41-23c9-4a96-ba50-4b9aaac39d09",
   "metadata": {
    "ExecuteTime": {
     "end_time": "2024-11-07T17:17:21.836933Z",
     "start_time": "2024-11-07T17:17:21.821448Z"
    }
   },
   "source": [
    "f1_score(y_test, y_pred)"
   ],
   "outputs": [
    {
     "data": {
      "text/plain": [
       "np.float64(0.7591240875912408)"
      ]
     },
     "execution_count": 37,
     "metadata": {},
     "output_type": "execute_result"
    }
   ],
   "execution_count": 37
  },
  {
   "cell_type": "markdown",
   "id": "c98c7af7-8630-4c0e-accc-d996841d0bfa",
   "metadata": {},
   "source": [
    "## Can we improve our evaluation process?\n",
    "- Lets try crossvalidation process for decision tree model\n",
    "- https://scikit-learn.org/stable/modules/cross_validation.html\n",
    "- **What is the difference between Pure and Stratified K-Fold?**"
   ]
  },
  {
   "cell_type": "code",
   "id": "69807937-742d-4286-ac50-c93d535acdd6",
   "metadata": {
    "ExecuteTime": {
     "end_time": "2024-11-07T17:17:22.096153Z",
     "start_time": "2024-11-07T17:17:21.984431Z"
    }
   },
   "source": [
    "skf = KFold(n_splits=5)\n",
    "scores = list()\n",
    "for train_index, test_index in skf.split(X, y):\n",
    "    X_train, X_test = X.iloc[train_index, :], X.iloc[test_index, :]\n",
    "    y_train, y_test = y.iloc[train_index], y.iloc[test_index]\n",
    "    clf = DecisionTreeClassifier()\n",
    "    clf.fit(X_train, y_train)\n",
    "    y_pred = clf.predict(X_test)\n",
    "    scores.append(f1_score(y_test, y_pred))\n",
    "    print(\n",
    "        f'Survival ratio in train set: {y_train.value_counts(normalize=True)[1]:.2}; Survival ratio in test set: {y_test.value_counts(normalize=True)[1]:.2}')\n",
    "scores"
   ],
   "outputs": [
    {
     "name": "stdout",
     "output_type": "stream",
     "text": [
      "Survival ratio in train set: 0.4; Survival ratio in test set: 0.33\n",
      "Survival ratio in train set: 0.37; Survival ratio in test set: 0.44\n",
      "Survival ratio in train set: 0.38; Survival ratio in test set: 0.39\n",
      "Survival ratio in train set: 0.38; Survival ratio in test set: 0.4\n",
      "Survival ratio in train set: 0.39; Survival ratio in test set: 0.35\n"
     ]
    },
    {
     "data": {
      "text/plain": [
       "[np.float64(0.6451612903225806),\n",
       " np.float64(0.7333333333333333),\n",
       " np.float64(0.7246376811594203),\n",
       " np.float64(0.6417910447761194),\n",
       " np.float64(0.7538461538461538)]"
      ]
     },
     "execution_count": 38,
     "metadata": {},
     "output_type": "execute_result"
    }
   ],
   "execution_count": 38
  },
  {
   "cell_type": "code",
   "id": "f0d2d2bf-acad-4785-9f51-dc573f51f0e4",
   "metadata": {
    "ExecuteTime": {
     "end_time": "2024-11-07T17:17:22.427723Z",
     "start_time": "2024-11-07T17:17:22.298197Z"
    }
   },
   "source": [
    "skf = StratifiedKFold(n_splits=5)\n",
    "scores = list()\n",
    "for train_index, test_index in skf.split(X, y):\n",
    "    X_train, X_test = X.iloc[train_index, :], X.iloc[test_index, :]\n",
    "    y_train, y_test = y.iloc[train_index], y.iloc[test_index]\n",
    "    clf = DecisionTreeClassifier()\n",
    "    clf.fit(X_train, y_train)\n",
    "    y_pred = clf.predict(X_test)\n",
    "    scores.append(f1_score(y_test, y_pred))\n",
    "    print(f'Survival ratio in train set: {y_train.value_counts(normalize=True)[1]:.2}; '\n",
    "          f'Survival ratio in test set: {y_test.value_counts(normalize=True)[1]:.2}')\n",
    "\n",
    "scores"
   ],
   "outputs": [
    {
     "name": "stdout",
     "output_type": "stream",
     "text": [
      "Survival ratio in train set: 0.38; Survival ratio in test set: 0.38\n",
      "Survival ratio in train set: 0.38; Survival ratio in test set: 0.38\n",
      "Survival ratio in train set: 0.38; Survival ratio in test set: 0.38\n",
      "Survival ratio in train set: 0.38; Survival ratio in test set: 0.38\n",
      "Survival ratio in train set: 0.38; Survival ratio in test set: 0.38\n"
     ]
    },
    {
     "data": {
      "text/plain": [
       "[np.float64(0.6857142857142857),\n",
       " np.float64(0.7194244604316546),\n",
       " np.float64(0.746268656716418),\n",
       " np.float64(0.7175572519083969),\n",
       " np.float64(0.782608695652174)]"
      ]
     },
     "execution_count": 39,
     "metadata": {},
     "output_type": "execute_result"
    }
   ],
   "execution_count": 39
  },
  {
   "cell_type": "code",
   "id": "736808ff-d46a-49a4-9a1d-b0f5516b37c8",
   "metadata": {
    "ExecuteTime": {
     "end_time": "2024-11-07T17:17:22.692883Z",
     "start_time": "2024-11-07T17:17:22.685428Z"
    }
   },
   "source": [
    "np.mean(scores), np.min(scores), np.max(scores)"
   ],
   "outputs": [
    {
     "data": {
      "text/plain": [
       "(np.float64(0.7303146700845858),\n",
       " np.float64(0.6857142857142857),\n",
       " np.float64(0.782608695652174))"
      ]
     },
     "execution_count": 40,
     "metadata": {},
     "output_type": "execute_result"
    }
   ],
   "execution_count": 40
  },
  {
   "cell_type": "code",
   "id": "1c682878-0052-4cb8-a952-74e1e5cd3ae9",
   "metadata": {
    "ExecuteTime": {
     "end_time": "2024-11-07T17:17:22.962905Z",
     "start_time": "2024-11-07T17:17:22.861939Z"
    }
   },
   "source": [
    "skf = StratifiedKFold(n_splits=5, shuffle=True, random_state=10)\n",
    "scores = list()\n",
    "for train_index, test_index in skf.split(X, y):\n",
    "    X_train, X_test = X.iloc[train_index, :], X.iloc[test_index, :]\n",
    "    y_train, y_test = y.iloc[train_index], y.iloc[test_index]\n",
    "    clf = DecisionTreeClassifier()\n",
    "    clf.fit(X_train, y_train)\n",
    "    y_pred = clf.predict(X_test)\n",
    "    scores.append(f1_score(y_test, y_pred))\n",
    "\n",
    "scores"
   ],
   "outputs": [
    {
     "data": {
      "text/plain": [
       "[np.float64(0.7123287671232876),\n",
       " np.float64(0.6666666666666666),\n",
       " np.float64(0.6917293233082706),\n",
       " np.float64(0.7605633802816901),\n",
       " np.float64(0.676923076923077)]"
      ]
     },
     "execution_count": 41,
     "metadata": {},
     "output_type": "execute_result"
    }
   ],
   "execution_count": 41
  },
  {
   "cell_type": "code",
   "id": "30ac65a5-55fa-4cfa-a52a-f08bf4a8b73f",
   "metadata": {
    "ExecuteTime": {
     "end_time": "2024-11-07T17:17:23.110818Z",
     "start_time": "2024-11-07T17:17:23.101422Z"
    }
   },
   "source": [
    "np.mean(scores), np.min(scores), np.max(scores)"
   ],
   "outputs": [
    {
     "data": {
      "text/plain": [
       "(np.float64(0.7016422428605985),\n",
       " np.float64(0.6666666666666666),\n",
       " np.float64(0.7605633802816901))"
      ]
     },
     "execution_count": 42,
     "metadata": {},
     "output_type": "execute_result"
    }
   ],
   "execution_count": 42
  },
  {
   "cell_type": "markdown",
   "id": "300a913e-e090-4ec5-b0c9-b7bb4b05810b",
   "metadata": {},
   "source": [
    "## Other way to use crossvalidation in Sklearn"
   ]
  },
  {
   "cell_type": "code",
   "id": "e57adda3-0367-4e3c-bba0-e2c7969be0b6",
   "metadata": {
    "ExecuteTime": {
     "end_time": "2024-11-07T17:17:23.351852Z",
     "start_time": "2024-11-07T17:17:23.246523Z"
    }
   },
   "source": [
    "clf = DecisionTreeClassifier()\n",
    "scores = cross_val_score(clf, X, y, cv=5, scoring='f1')\n",
    "scores"
   ],
   "outputs": [
    {
     "data": {
      "text/plain": [
       "array([0.7       , 0.71942446, 0.71641791, 0.70229008, 0.78014184])"
      ]
     },
     "execution_count": 43,
     "metadata": {},
     "output_type": "execute_result"
    }
   ],
   "execution_count": 43
  },
  {
   "cell_type": "code",
   "id": "922f775d-7951-404d-999d-e5739d7e8ac1",
   "metadata": {
    "ExecuteTime": {
     "end_time": "2024-11-07T17:17:23.502111Z",
     "start_time": "2024-11-07T17:17:23.493667Z"
    }
   },
   "source": [
    "np.mean(scores), np.min(scores), np.max(scores)"
   ],
   "outputs": [
    {
     "data": {
      "text/plain": [
       "(np.float64(0.723654858237385),\n",
       " np.float64(0.7),\n",
       " np.float64(0.7801418439716312))"
      ]
     },
     "execution_count": 44,
     "metadata": {},
     "output_type": "execute_result"
    }
   ],
   "execution_count": 44
  },
  {
   "cell_type": "markdown",
   "id": "2387a787-5a8a-4965-ad07-2a403cab2531",
   "metadata": {},
   "source": [
    "## Scale our data"
   ]
  },
  {
   "cell_type": "code",
   "id": "390d76d5-d09e-415e-ba08-2b5cc16788b8",
   "metadata": {
    "ExecuteTime": {
     "end_time": "2024-11-07T17:17:23.654583Z",
     "start_time": "2024-11-07T17:17:23.644183Z"
    }
   },
   "source": [
    "scaler = StandardScaler()\n",
    "X_scaled = scaler.fit_transform(X.values)"
   ],
   "outputs": [],
   "execution_count": 45
  },
  {
   "cell_type": "code",
   "id": "90d41397-84d1-4f17-8468-58a51b7f7440",
   "metadata": {
    "ExecuteTime": {
     "end_time": "2024-11-07T17:17:23.929937Z",
     "start_time": "2024-11-07T17:17:23.837190Z"
    }
   },
   "source": [
    "clf = DecisionTreeClassifier()\n",
    "scores = cross_val_score(clf, X_scaled, y, cv=5, scoring='f1')\n",
    "scores"
   ],
   "outputs": [
    {
     "data": {
      "text/plain": [
       "array([0.65693431, 0.72992701, 0.72180451, 0.71755725, 0.78571429])"
      ]
     },
     "execution_count": 46,
     "metadata": {},
     "output_type": "execute_result"
    }
   ],
   "execution_count": 46
  },
  {
   "cell_type": "code",
   "id": "5d1f93a5-19ee-431e-9f7d-9aef917940a4",
   "metadata": {
    "ExecuteTime": {
     "end_time": "2024-11-07T17:17:24.096175Z",
     "start_time": "2024-11-07T17:17:24.087352Z"
    }
   },
   "source": [
    "np.mean(scores), np.min(scores), np.max(scores)"
   ],
   "outputs": [
    {
     "data": {
      "text/plain": [
       "(np.float64(0.7223874725538982),\n",
       " np.float64(0.656934306569343),\n",
       " np.float64(0.7857142857142857))"
      ]
     },
     "execution_count": 47,
     "metadata": {},
     "output_type": "execute_result"
    }
   ],
   "execution_count": 47
  },
  {
   "cell_type": "markdown",
   "id": "fc6be346-e4e6-4a84-8222-9cdfef19e738",
   "metadata": {
    "tags": []
   },
   "source": [
    "# Let's try other algorithms - SVM and ANN\n",
    "- SVM - https://scikit-learn.org/stable/modules/generated/sklearn.svm.SVC.html\n",
    "- SVM demo 1 - https://www.csie.ntu.edu.tw/~cjlin/libsvm/\n",
    "- SVM demo 2 - https://cs.stanford.edu/~karpathy/svmjs/demo/\n",
    "- SVM kernel trick https://towardsdatascience.com/optimization-loss-function-under-the-hood-part-iii-5dff33fa015d\n",
    "- ANN - https://scikit-learn.org/stable/modules/generated/sklearn.neural_network.MLPClassifier.html\n",
    "- ANN demo - https://playground.tensorflow.org/"
   ]
  },
  {
   "cell_type": "markdown",
   "id": "dde120b3-f518-41f4-9100-fb6afc7940fe",
   "metadata": {
    "tags": []
   },
   "source": [
    "### Task 1: SVM (1b)\n",
    "- Take a look at the parameters of the SVM, e.g. C, kernel, gamma (in case of RBF)\n",
    "- **Try at least 5 different parameter's configurations**, use both linear and RBF kernel, you can also experiment with other\n",
    "- **Does the preprocesing help with classifier perfromance?** Use both **X** and **X_scaled** for training and evaluating\n",
    "- Tune the hyper-parameters and compare classification results after crossvalidation validation step\n",
    "    - When using RBF kernel show a relation between parameters C and gamma. You can create table or heatmap similar to the one in the lecture.\n",
    "    - **Write down to markdown cell which is better and why!**\n",
    "- *Implementation note in Sklearn: SVC(kernel='linear') might be slow, u can use LinearSVC instead.*"
   ]
  },
  {
   "metadata": {
    "ExecuteTime": {
     "end_time": "2024-11-07T17:17:24.250438Z",
     "start_time": "2024-11-07T17:17:24.245153Z"
    }
   },
   "cell_type": "code",
   "source": "from sklearn.model_selection import GridSearchCV",
   "id": "52dcdd390d041d88",
   "outputs": [],
   "execution_count": 48
  },
  {
   "metadata": {
    "ExecuteTime": {
     "end_time": "2024-11-07T17:17:24.566312Z",
     "start_time": "2024-11-07T17:17:24.498915Z"
    }
   },
   "cell_type": "code",
   "source": [
    "model_svc = SVC()\n",
    "model_svc.fit(X_train, y_train)"
   ],
   "id": "34cbcd32248097ac",
   "outputs": [
    {
     "data": {
      "text/plain": [
       "SVC()"
      ],
      "text/html": [
       "<style>#sk-container-id-2 {\n",
       "  /* Definition of color scheme common for light and dark mode */\n",
       "  --sklearn-color-text: black;\n",
       "  --sklearn-color-line: gray;\n",
       "  /* Definition of color scheme for unfitted estimators */\n",
       "  --sklearn-color-unfitted-level-0: #fff5e6;\n",
       "  --sklearn-color-unfitted-level-1: #f6e4d2;\n",
       "  --sklearn-color-unfitted-level-2: #ffe0b3;\n",
       "  --sklearn-color-unfitted-level-3: chocolate;\n",
       "  /* Definition of color scheme for fitted estimators */\n",
       "  --sklearn-color-fitted-level-0: #f0f8ff;\n",
       "  --sklearn-color-fitted-level-1: #d4ebff;\n",
       "  --sklearn-color-fitted-level-2: #b3dbfd;\n",
       "  --sklearn-color-fitted-level-3: cornflowerblue;\n",
       "\n",
       "  /* Specific color for light theme */\n",
       "  --sklearn-color-text-on-default-background: var(--sg-text-color, var(--theme-code-foreground, var(--jp-content-font-color1, black)));\n",
       "  --sklearn-color-background: var(--sg-background-color, var(--theme-background, var(--jp-layout-color0, white)));\n",
       "  --sklearn-color-border-box: var(--sg-text-color, var(--theme-code-foreground, var(--jp-content-font-color1, black)));\n",
       "  --sklearn-color-icon: #696969;\n",
       "\n",
       "  @media (prefers-color-scheme: dark) {\n",
       "    /* Redefinition of color scheme for dark theme */\n",
       "    --sklearn-color-text-on-default-background: var(--sg-text-color, var(--theme-code-foreground, var(--jp-content-font-color1, white)));\n",
       "    --sklearn-color-background: var(--sg-background-color, var(--theme-background, var(--jp-layout-color0, #111)));\n",
       "    --sklearn-color-border-box: var(--sg-text-color, var(--theme-code-foreground, var(--jp-content-font-color1, white)));\n",
       "    --sklearn-color-icon: #878787;\n",
       "  }\n",
       "}\n",
       "\n",
       "#sk-container-id-2 {\n",
       "  color: var(--sklearn-color-text);\n",
       "}\n",
       "\n",
       "#sk-container-id-2 pre {\n",
       "  padding: 0;\n",
       "}\n",
       "\n",
       "#sk-container-id-2 input.sk-hidden--visually {\n",
       "  border: 0;\n",
       "  clip: rect(1px 1px 1px 1px);\n",
       "  clip: rect(1px, 1px, 1px, 1px);\n",
       "  height: 1px;\n",
       "  margin: -1px;\n",
       "  overflow: hidden;\n",
       "  padding: 0;\n",
       "  position: absolute;\n",
       "  width: 1px;\n",
       "}\n",
       "\n",
       "#sk-container-id-2 div.sk-dashed-wrapped {\n",
       "  border: 1px dashed var(--sklearn-color-line);\n",
       "  margin: 0 0.4em 0.5em 0.4em;\n",
       "  box-sizing: border-box;\n",
       "  padding-bottom: 0.4em;\n",
       "  background-color: var(--sklearn-color-background);\n",
       "}\n",
       "\n",
       "#sk-container-id-2 div.sk-container {\n",
       "  /* jupyter's `normalize.less` sets `[hidden] { display: none; }`\n",
       "     but bootstrap.min.css set `[hidden] { display: none !important; }`\n",
       "     so we also need the `!important` here to be able to override the\n",
       "     default hidden behavior on the sphinx rendered scikit-learn.org.\n",
       "     See: https://github.com/scikit-learn/scikit-learn/issues/21755 */\n",
       "  display: inline-block !important;\n",
       "  position: relative;\n",
       "}\n",
       "\n",
       "#sk-container-id-2 div.sk-text-repr-fallback {\n",
       "  display: none;\n",
       "}\n",
       "\n",
       "div.sk-parallel-item,\n",
       "div.sk-serial,\n",
       "div.sk-item {\n",
       "  /* draw centered vertical line to link estimators */\n",
       "  background-image: linear-gradient(var(--sklearn-color-text-on-default-background), var(--sklearn-color-text-on-default-background));\n",
       "  background-size: 2px 100%;\n",
       "  background-repeat: no-repeat;\n",
       "  background-position: center center;\n",
       "}\n",
       "\n",
       "/* Parallel-specific style estimator block */\n",
       "\n",
       "#sk-container-id-2 div.sk-parallel-item::after {\n",
       "  content: \"\";\n",
       "  width: 100%;\n",
       "  border-bottom: 2px solid var(--sklearn-color-text-on-default-background);\n",
       "  flex-grow: 1;\n",
       "}\n",
       "\n",
       "#sk-container-id-2 div.sk-parallel {\n",
       "  display: flex;\n",
       "  align-items: stretch;\n",
       "  justify-content: center;\n",
       "  background-color: var(--sklearn-color-background);\n",
       "  position: relative;\n",
       "}\n",
       "\n",
       "#sk-container-id-2 div.sk-parallel-item {\n",
       "  display: flex;\n",
       "  flex-direction: column;\n",
       "}\n",
       "\n",
       "#sk-container-id-2 div.sk-parallel-item:first-child::after {\n",
       "  align-self: flex-end;\n",
       "  width: 50%;\n",
       "}\n",
       "\n",
       "#sk-container-id-2 div.sk-parallel-item:last-child::after {\n",
       "  align-self: flex-start;\n",
       "  width: 50%;\n",
       "}\n",
       "\n",
       "#sk-container-id-2 div.sk-parallel-item:only-child::after {\n",
       "  width: 0;\n",
       "}\n",
       "\n",
       "/* Serial-specific style estimator block */\n",
       "\n",
       "#sk-container-id-2 div.sk-serial {\n",
       "  display: flex;\n",
       "  flex-direction: column;\n",
       "  align-items: center;\n",
       "  background-color: var(--sklearn-color-background);\n",
       "  padding-right: 1em;\n",
       "  padding-left: 1em;\n",
       "}\n",
       "\n",
       "\n",
       "/* Toggleable style: style used for estimator/Pipeline/ColumnTransformer box that is\n",
       "clickable and can be expanded/collapsed.\n",
       "- Pipeline and ColumnTransformer use this feature and define the default style\n",
       "- Estimators will overwrite some part of the style using the `sk-estimator` class\n",
       "*/\n",
       "\n",
       "/* Pipeline and ColumnTransformer style (default) */\n",
       "\n",
       "#sk-container-id-2 div.sk-toggleable {\n",
       "  /* Default theme specific background. It is overwritten whether we have a\n",
       "  specific estimator or a Pipeline/ColumnTransformer */\n",
       "  background-color: var(--sklearn-color-background);\n",
       "}\n",
       "\n",
       "/* Toggleable label */\n",
       "#sk-container-id-2 label.sk-toggleable__label {\n",
       "  cursor: pointer;\n",
       "  display: block;\n",
       "  width: 100%;\n",
       "  margin-bottom: 0;\n",
       "  padding: 0.5em;\n",
       "  box-sizing: border-box;\n",
       "  text-align: center;\n",
       "}\n",
       "\n",
       "#sk-container-id-2 label.sk-toggleable__label-arrow:before {\n",
       "  /* Arrow on the left of the label */\n",
       "  content: \"▸\";\n",
       "  float: left;\n",
       "  margin-right: 0.25em;\n",
       "  color: var(--sklearn-color-icon);\n",
       "}\n",
       "\n",
       "#sk-container-id-2 label.sk-toggleable__label-arrow:hover:before {\n",
       "  color: var(--sklearn-color-text);\n",
       "}\n",
       "\n",
       "/* Toggleable content - dropdown */\n",
       "\n",
       "#sk-container-id-2 div.sk-toggleable__content {\n",
       "  max-height: 0;\n",
       "  max-width: 0;\n",
       "  overflow: hidden;\n",
       "  text-align: left;\n",
       "  /* unfitted */\n",
       "  background-color: var(--sklearn-color-unfitted-level-0);\n",
       "}\n",
       "\n",
       "#sk-container-id-2 div.sk-toggleable__content.fitted {\n",
       "  /* fitted */\n",
       "  background-color: var(--sklearn-color-fitted-level-0);\n",
       "}\n",
       "\n",
       "#sk-container-id-2 div.sk-toggleable__content pre {\n",
       "  margin: 0.2em;\n",
       "  border-radius: 0.25em;\n",
       "  color: var(--sklearn-color-text);\n",
       "  /* unfitted */\n",
       "  background-color: var(--sklearn-color-unfitted-level-0);\n",
       "}\n",
       "\n",
       "#sk-container-id-2 div.sk-toggleable__content.fitted pre {\n",
       "  /* unfitted */\n",
       "  background-color: var(--sklearn-color-fitted-level-0);\n",
       "}\n",
       "\n",
       "#sk-container-id-2 input.sk-toggleable__control:checked~div.sk-toggleable__content {\n",
       "  /* Expand drop-down */\n",
       "  max-height: 200px;\n",
       "  max-width: 100%;\n",
       "  overflow: auto;\n",
       "}\n",
       "\n",
       "#sk-container-id-2 input.sk-toggleable__control:checked~label.sk-toggleable__label-arrow:before {\n",
       "  content: \"▾\";\n",
       "}\n",
       "\n",
       "/* Pipeline/ColumnTransformer-specific style */\n",
       "\n",
       "#sk-container-id-2 div.sk-label input.sk-toggleable__control:checked~label.sk-toggleable__label {\n",
       "  color: var(--sklearn-color-text);\n",
       "  background-color: var(--sklearn-color-unfitted-level-2);\n",
       "}\n",
       "\n",
       "#sk-container-id-2 div.sk-label.fitted input.sk-toggleable__control:checked~label.sk-toggleable__label {\n",
       "  background-color: var(--sklearn-color-fitted-level-2);\n",
       "}\n",
       "\n",
       "/* Estimator-specific style */\n",
       "\n",
       "/* Colorize estimator box */\n",
       "#sk-container-id-2 div.sk-estimator input.sk-toggleable__control:checked~label.sk-toggleable__label {\n",
       "  /* unfitted */\n",
       "  background-color: var(--sklearn-color-unfitted-level-2);\n",
       "}\n",
       "\n",
       "#sk-container-id-2 div.sk-estimator.fitted input.sk-toggleable__control:checked~label.sk-toggleable__label {\n",
       "  /* fitted */\n",
       "  background-color: var(--sklearn-color-fitted-level-2);\n",
       "}\n",
       "\n",
       "#sk-container-id-2 div.sk-label label.sk-toggleable__label,\n",
       "#sk-container-id-2 div.sk-label label {\n",
       "  /* The background is the default theme color */\n",
       "  color: var(--sklearn-color-text-on-default-background);\n",
       "}\n",
       "\n",
       "/* On hover, darken the color of the background */\n",
       "#sk-container-id-2 div.sk-label:hover label.sk-toggleable__label {\n",
       "  color: var(--sklearn-color-text);\n",
       "  background-color: var(--sklearn-color-unfitted-level-2);\n",
       "}\n",
       "\n",
       "/* Label box, darken color on hover, fitted */\n",
       "#sk-container-id-2 div.sk-label.fitted:hover label.sk-toggleable__label.fitted {\n",
       "  color: var(--sklearn-color-text);\n",
       "  background-color: var(--sklearn-color-fitted-level-2);\n",
       "}\n",
       "\n",
       "/* Estimator label */\n",
       "\n",
       "#sk-container-id-2 div.sk-label label {\n",
       "  font-family: monospace;\n",
       "  font-weight: bold;\n",
       "  display: inline-block;\n",
       "  line-height: 1.2em;\n",
       "}\n",
       "\n",
       "#sk-container-id-2 div.sk-label-container {\n",
       "  text-align: center;\n",
       "}\n",
       "\n",
       "/* Estimator-specific */\n",
       "#sk-container-id-2 div.sk-estimator {\n",
       "  font-family: monospace;\n",
       "  border: 1px dotted var(--sklearn-color-border-box);\n",
       "  border-radius: 0.25em;\n",
       "  box-sizing: border-box;\n",
       "  margin-bottom: 0.5em;\n",
       "  /* unfitted */\n",
       "  background-color: var(--sklearn-color-unfitted-level-0);\n",
       "}\n",
       "\n",
       "#sk-container-id-2 div.sk-estimator.fitted {\n",
       "  /* fitted */\n",
       "  background-color: var(--sklearn-color-fitted-level-0);\n",
       "}\n",
       "\n",
       "/* on hover */\n",
       "#sk-container-id-2 div.sk-estimator:hover {\n",
       "  /* unfitted */\n",
       "  background-color: var(--sklearn-color-unfitted-level-2);\n",
       "}\n",
       "\n",
       "#sk-container-id-2 div.sk-estimator.fitted:hover {\n",
       "  /* fitted */\n",
       "  background-color: var(--sklearn-color-fitted-level-2);\n",
       "}\n",
       "\n",
       "/* Specification for estimator info (e.g. \"i\" and \"?\") */\n",
       "\n",
       "/* Common style for \"i\" and \"?\" */\n",
       "\n",
       ".sk-estimator-doc-link,\n",
       "a:link.sk-estimator-doc-link,\n",
       "a:visited.sk-estimator-doc-link {\n",
       "  float: right;\n",
       "  font-size: smaller;\n",
       "  line-height: 1em;\n",
       "  font-family: monospace;\n",
       "  background-color: var(--sklearn-color-background);\n",
       "  border-radius: 1em;\n",
       "  height: 1em;\n",
       "  width: 1em;\n",
       "  text-decoration: none !important;\n",
       "  margin-left: 1ex;\n",
       "  /* unfitted */\n",
       "  border: var(--sklearn-color-unfitted-level-1) 1pt solid;\n",
       "  color: var(--sklearn-color-unfitted-level-1);\n",
       "}\n",
       "\n",
       ".sk-estimator-doc-link.fitted,\n",
       "a:link.sk-estimator-doc-link.fitted,\n",
       "a:visited.sk-estimator-doc-link.fitted {\n",
       "  /* fitted */\n",
       "  border: var(--sklearn-color-fitted-level-1) 1pt solid;\n",
       "  color: var(--sklearn-color-fitted-level-1);\n",
       "}\n",
       "\n",
       "/* On hover */\n",
       "div.sk-estimator:hover .sk-estimator-doc-link:hover,\n",
       ".sk-estimator-doc-link:hover,\n",
       "div.sk-label-container:hover .sk-estimator-doc-link:hover,\n",
       ".sk-estimator-doc-link:hover {\n",
       "  /* unfitted */\n",
       "  background-color: var(--sklearn-color-unfitted-level-3);\n",
       "  color: var(--sklearn-color-background);\n",
       "  text-decoration: none;\n",
       "}\n",
       "\n",
       "div.sk-estimator.fitted:hover .sk-estimator-doc-link.fitted:hover,\n",
       ".sk-estimator-doc-link.fitted:hover,\n",
       "div.sk-label-container:hover .sk-estimator-doc-link.fitted:hover,\n",
       ".sk-estimator-doc-link.fitted:hover {\n",
       "  /* fitted */\n",
       "  background-color: var(--sklearn-color-fitted-level-3);\n",
       "  color: var(--sklearn-color-background);\n",
       "  text-decoration: none;\n",
       "}\n",
       "\n",
       "/* Span, style for the box shown on hovering the info icon */\n",
       ".sk-estimator-doc-link span {\n",
       "  display: none;\n",
       "  z-index: 9999;\n",
       "  position: relative;\n",
       "  font-weight: normal;\n",
       "  right: .2ex;\n",
       "  padding: .5ex;\n",
       "  margin: .5ex;\n",
       "  width: min-content;\n",
       "  min-width: 20ex;\n",
       "  max-width: 50ex;\n",
       "  color: var(--sklearn-color-text);\n",
       "  box-shadow: 2pt 2pt 4pt #999;\n",
       "  /* unfitted */\n",
       "  background: var(--sklearn-color-unfitted-level-0);\n",
       "  border: .5pt solid var(--sklearn-color-unfitted-level-3);\n",
       "}\n",
       "\n",
       ".sk-estimator-doc-link.fitted span {\n",
       "  /* fitted */\n",
       "  background: var(--sklearn-color-fitted-level-0);\n",
       "  border: var(--sklearn-color-fitted-level-3);\n",
       "}\n",
       "\n",
       ".sk-estimator-doc-link:hover span {\n",
       "  display: block;\n",
       "}\n",
       "\n",
       "/* \"?\"-specific style due to the `<a>` HTML tag */\n",
       "\n",
       "#sk-container-id-2 a.estimator_doc_link {\n",
       "  float: right;\n",
       "  font-size: 1rem;\n",
       "  line-height: 1em;\n",
       "  font-family: monospace;\n",
       "  background-color: var(--sklearn-color-background);\n",
       "  border-radius: 1rem;\n",
       "  height: 1rem;\n",
       "  width: 1rem;\n",
       "  text-decoration: none;\n",
       "  /* unfitted */\n",
       "  color: var(--sklearn-color-unfitted-level-1);\n",
       "  border: var(--sklearn-color-unfitted-level-1) 1pt solid;\n",
       "}\n",
       "\n",
       "#sk-container-id-2 a.estimator_doc_link.fitted {\n",
       "  /* fitted */\n",
       "  border: var(--sklearn-color-fitted-level-1) 1pt solid;\n",
       "  color: var(--sklearn-color-fitted-level-1);\n",
       "}\n",
       "\n",
       "/* On hover */\n",
       "#sk-container-id-2 a.estimator_doc_link:hover {\n",
       "  /* unfitted */\n",
       "  background-color: var(--sklearn-color-unfitted-level-3);\n",
       "  color: var(--sklearn-color-background);\n",
       "  text-decoration: none;\n",
       "}\n",
       "\n",
       "#sk-container-id-2 a.estimator_doc_link.fitted:hover {\n",
       "  /* fitted */\n",
       "  background-color: var(--sklearn-color-fitted-level-3);\n",
       "}\n",
       "</style><div id=\"sk-container-id-2\" class=\"sk-top-container\"><div class=\"sk-text-repr-fallback\"><pre>SVC()</pre><b>In a Jupyter environment, please rerun this cell to show the HTML representation or trust the notebook. <br />On GitHub, the HTML representation is unable to render, please try loading this page with nbviewer.org.</b></div><div class=\"sk-container\" hidden><div class=\"sk-item\"><div class=\"sk-estimator fitted sk-toggleable\"><input class=\"sk-toggleable__control sk-hidden--visually\" id=\"sk-estimator-id-2\" type=\"checkbox\" checked><label for=\"sk-estimator-id-2\" class=\"sk-toggleable__label fitted sk-toggleable__label-arrow fitted\">&nbsp;&nbsp;SVC<a class=\"sk-estimator-doc-link fitted\" rel=\"noreferrer\" target=\"_blank\" href=\"https://scikit-learn.org/1.5/modules/generated/sklearn.svm.SVC.html\">?<span>Documentation for SVC</span></a><span class=\"sk-estimator-doc-link fitted\">i<span>Fitted</span></span></label><div class=\"sk-toggleable__content fitted\"><pre>SVC()</pre></div> </div></div></div></div>"
      ]
     },
     "execution_count": 49,
     "metadata": {},
     "output_type": "execute_result"
    }
   ],
   "execution_count": 49
  },
  {
   "metadata": {
    "ExecuteTime": {
     "end_time": "2024-11-07T17:17:24.702642Z",
     "start_time": "2024-11-07T17:17:24.671363Z"
    }
   },
   "cell_type": "code",
   "source": [
    "predictions = model_svc.predict(X_test)\n",
    "predictions"
   ],
   "id": "fd67685c8c84faa5",
   "outputs": [
    {
     "data": {
      "text/plain": [
       "array([0, 0, 0, 0, 0, 0, 0, 1, 0, 0, 0, 0, 0, 0, 0, 0, 0, 0, 0, 0, 1, 0,\n",
       "       0, 1, 0, 0, 0, 0, 0, 0, 0, 0, 0, 0, 0, 0, 0, 0, 0, 0, 0, 0, 0, 0,\n",
       "       0, 0, 1, 0, 0, 0, 0, 0, 0, 0, 1, 1, 1, 1, 0, 0, 0, 1, 0, 0, 0, 0,\n",
       "       0, 0, 0, 0, 1, 1, 0, 0, 1, 1, 0, 0, 0, 0, 0, 1, 1, 0, 1, 0, 0, 0,\n",
       "       0, 0, 0, 0, 0, 1, 0, 0, 1, 0, 0, 0, 0, 0, 1, 1, 0, 0, 0, 0, 0, 0,\n",
       "       1, 0, 0, 1, 0, 0, 0, 0, 0, 0, 0, 0, 0, 0, 0, 0, 1, 0, 0, 0, 0, 0,\n",
       "       1, 1, 0, 0, 1, 0, 1, 0, 0, 1, 0, 0, 0, 0, 0, 1, 0, 1, 0, 0, 0, 1,\n",
       "       0, 0, 0, 0, 0, 0, 0, 0, 1, 0, 0, 0, 1, 0, 1, 0, 0, 0, 0, 0, 0, 0,\n",
       "       0])"
      ]
     },
     "execution_count": 50,
     "metadata": {},
     "output_type": "execute_result"
    }
   ],
   "execution_count": 50
  },
  {
   "metadata": {
    "ExecuteTime": {
     "end_time": "2024-11-07T17:17:24.839251Z",
     "start_time": "2024-11-07T17:17:24.831072Z"
    }
   },
   "cell_type": "code",
   "source": [
    "C_list = [0.1, 1, 10, 100, 1_000, 10_000, 100_000, 1_000_000, 10_000_000, 100_000_000, 1_000_000_000]\n",
    "gamma_list = [0.0000000001, 0.000000001, 0.00000001, 0.0000001, 0.000001, 0.00001, 0.0001, 0.001, 0.01, 0.1, 1, 10, 100,\n",
    "              1000]\n",
    "linear_kernel = ['linear']\n",
    "# kernels = ['poly', 'rbf', 'sigmoid']\n",
    "kernels = ['rbf']"
   ],
   "id": "fe85fd019ab84bfe",
   "outputs": [],
   "execution_count": 51
  },
  {
   "cell_type": "code",
   "id": "43625666",
   "metadata": {
    "ExecuteTime": {
     "end_time": "2024-11-07T17:17:24.957122Z",
     "start_time": "2024-11-07T17:17:24.950911Z"
    }
   },
   "source": [
    "param_grid = {'C': C_list, 'gamma': gamma_list, 'kernel': kernels}\n",
    "param_grid_linear = {'C': C_list, 'kernel': linear_kernel}"
   ],
   "outputs": [],
   "execution_count": 52
  },
  {
   "metadata": {
    "ExecuteTime": {
     "end_time": "2024-11-07T17:17:25.119994Z",
     "start_time": "2024-11-07T17:17:25.097252Z"
    }
   },
   "cell_type": "code",
   "source": [
    "model_linear_svc = LinearSVC()\n",
    "model_linear_svc.fit(X_train, y_train)"
   ],
   "id": "9dfa8340664b5b67",
   "outputs": [
    {
     "data": {
      "text/plain": [
       "LinearSVC()"
      ],
      "text/html": [
       "<style>#sk-container-id-3 {\n",
       "  /* Definition of color scheme common for light and dark mode */\n",
       "  --sklearn-color-text: black;\n",
       "  --sklearn-color-line: gray;\n",
       "  /* Definition of color scheme for unfitted estimators */\n",
       "  --sklearn-color-unfitted-level-0: #fff5e6;\n",
       "  --sklearn-color-unfitted-level-1: #f6e4d2;\n",
       "  --sklearn-color-unfitted-level-2: #ffe0b3;\n",
       "  --sklearn-color-unfitted-level-3: chocolate;\n",
       "  /* Definition of color scheme for fitted estimators */\n",
       "  --sklearn-color-fitted-level-0: #f0f8ff;\n",
       "  --sklearn-color-fitted-level-1: #d4ebff;\n",
       "  --sklearn-color-fitted-level-2: #b3dbfd;\n",
       "  --sklearn-color-fitted-level-3: cornflowerblue;\n",
       "\n",
       "  /* Specific color for light theme */\n",
       "  --sklearn-color-text-on-default-background: var(--sg-text-color, var(--theme-code-foreground, var(--jp-content-font-color1, black)));\n",
       "  --sklearn-color-background: var(--sg-background-color, var(--theme-background, var(--jp-layout-color0, white)));\n",
       "  --sklearn-color-border-box: var(--sg-text-color, var(--theme-code-foreground, var(--jp-content-font-color1, black)));\n",
       "  --sklearn-color-icon: #696969;\n",
       "\n",
       "  @media (prefers-color-scheme: dark) {\n",
       "    /* Redefinition of color scheme for dark theme */\n",
       "    --sklearn-color-text-on-default-background: var(--sg-text-color, var(--theme-code-foreground, var(--jp-content-font-color1, white)));\n",
       "    --sklearn-color-background: var(--sg-background-color, var(--theme-background, var(--jp-layout-color0, #111)));\n",
       "    --sklearn-color-border-box: var(--sg-text-color, var(--theme-code-foreground, var(--jp-content-font-color1, white)));\n",
       "    --sklearn-color-icon: #878787;\n",
       "  }\n",
       "}\n",
       "\n",
       "#sk-container-id-3 {\n",
       "  color: var(--sklearn-color-text);\n",
       "}\n",
       "\n",
       "#sk-container-id-3 pre {\n",
       "  padding: 0;\n",
       "}\n",
       "\n",
       "#sk-container-id-3 input.sk-hidden--visually {\n",
       "  border: 0;\n",
       "  clip: rect(1px 1px 1px 1px);\n",
       "  clip: rect(1px, 1px, 1px, 1px);\n",
       "  height: 1px;\n",
       "  margin: -1px;\n",
       "  overflow: hidden;\n",
       "  padding: 0;\n",
       "  position: absolute;\n",
       "  width: 1px;\n",
       "}\n",
       "\n",
       "#sk-container-id-3 div.sk-dashed-wrapped {\n",
       "  border: 1px dashed var(--sklearn-color-line);\n",
       "  margin: 0 0.4em 0.5em 0.4em;\n",
       "  box-sizing: border-box;\n",
       "  padding-bottom: 0.4em;\n",
       "  background-color: var(--sklearn-color-background);\n",
       "}\n",
       "\n",
       "#sk-container-id-3 div.sk-container {\n",
       "  /* jupyter's `normalize.less` sets `[hidden] { display: none; }`\n",
       "     but bootstrap.min.css set `[hidden] { display: none !important; }`\n",
       "     so we also need the `!important` here to be able to override the\n",
       "     default hidden behavior on the sphinx rendered scikit-learn.org.\n",
       "     See: https://github.com/scikit-learn/scikit-learn/issues/21755 */\n",
       "  display: inline-block !important;\n",
       "  position: relative;\n",
       "}\n",
       "\n",
       "#sk-container-id-3 div.sk-text-repr-fallback {\n",
       "  display: none;\n",
       "}\n",
       "\n",
       "div.sk-parallel-item,\n",
       "div.sk-serial,\n",
       "div.sk-item {\n",
       "  /* draw centered vertical line to link estimators */\n",
       "  background-image: linear-gradient(var(--sklearn-color-text-on-default-background), var(--sklearn-color-text-on-default-background));\n",
       "  background-size: 2px 100%;\n",
       "  background-repeat: no-repeat;\n",
       "  background-position: center center;\n",
       "}\n",
       "\n",
       "/* Parallel-specific style estimator block */\n",
       "\n",
       "#sk-container-id-3 div.sk-parallel-item::after {\n",
       "  content: \"\";\n",
       "  width: 100%;\n",
       "  border-bottom: 2px solid var(--sklearn-color-text-on-default-background);\n",
       "  flex-grow: 1;\n",
       "}\n",
       "\n",
       "#sk-container-id-3 div.sk-parallel {\n",
       "  display: flex;\n",
       "  align-items: stretch;\n",
       "  justify-content: center;\n",
       "  background-color: var(--sklearn-color-background);\n",
       "  position: relative;\n",
       "}\n",
       "\n",
       "#sk-container-id-3 div.sk-parallel-item {\n",
       "  display: flex;\n",
       "  flex-direction: column;\n",
       "}\n",
       "\n",
       "#sk-container-id-3 div.sk-parallel-item:first-child::after {\n",
       "  align-self: flex-end;\n",
       "  width: 50%;\n",
       "}\n",
       "\n",
       "#sk-container-id-3 div.sk-parallel-item:last-child::after {\n",
       "  align-self: flex-start;\n",
       "  width: 50%;\n",
       "}\n",
       "\n",
       "#sk-container-id-3 div.sk-parallel-item:only-child::after {\n",
       "  width: 0;\n",
       "}\n",
       "\n",
       "/* Serial-specific style estimator block */\n",
       "\n",
       "#sk-container-id-3 div.sk-serial {\n",
       "  display: flex;\n",
       "  flex-direction: column;\n",
       "  align-items: center;\n",
       "  background-color: var(--sklearn-color-background);\n",
       "  padding-right: 1em;\n",
       "  padding-left: 1em;\n",
       "}\n",
       "\n",
       "\n",
       "/* Toggleable style: style used for estimator/Pipeline/ColumnTransformer box that is\n",
       "clickable and can be expanded/collapsed.\n",
       "- Pipeline and ColumnTransformer use this feature and define the default style\n",
       "- Estimators will overwrite some part of the style using the `sk-estimator` class\n",
       "*/\n",
       "\n",
       "/* Pipeline and ColumnTransformer style (default) */\n",
       "\n",
       "#sk-container-id-3 div.sk-toggleable {\n",
       "  /* Default theme specific background. It is overwritten whether we have a\n",
       "  specific estimator or a Pipeline/ColumnTransformer */\n",
       "  background-color: var(--sklearn-color-background);\n",
       "}\n",
       "\n",
       "/* Toggleable label */\n",
       "#sk-container-id-3 label.sk-toggleable__label {\n",
       "  cursor: pointer;\n",
       "  display: block;\n",
       "  width: 100%;\n",
       "  margin-bottom: 0;\n",
       "  padding: 0.5em;\n",
       "  box-sizing: border-box;\n",
       "  text-align: center;\n",
       "}\n",
       "\n",
       "#sk-container-id-3 label.sk-toggleable__label-arrow:before {\n",
       "  /* Arrow on the left of the label */\n",
       "  content: \"▸\";\n",
       "  float: left;\n",
       "  margin-right: 0.25em;\n",
       "  color: var(--sklearn-color-icon);\n",
       "}\n",
       "\n",
       "#sk-container-id-3 label.sk-toggleable__label-arrow:hover:before {\n",
       "  color: var(--sklearn-color-text);\n",
       "}\n",
       "\n",
       "/* Toggleable content - dropdown */\n",
       "\n",
       "#sk-container-id-3 div.sk-toggleable__content {\n",
       "  max-height: 0;\n",
       "  max-width: 0;\n",
       "  overflow: hidden;\n",
       "  text-align: left;\n",
       "  /* unfitted */\n",
       "  background-color: var(--sklearn-color-unfitted-level-0);\n",
       "}\n",
       "\n",
       "#sk-container-id-3 div.sk-toggleable__content.fitted {\n",
       "  /* fitted */\n",
       "  background-color: var(--sklearn-color-fitted-level-0);\n",
       "}\n",
       "\n",
       "#sk-container-id-3 div.sk-toggleable__content pre {\n",
       "  margin: 0.2em;\n",
       "  border-radius: 0.25em;\n",
       "  color: var(--sklearn-color-text);\n",
       "  /* unfitted */\n",
       "  background-color: var(--sklearn-color-unfitted-level-0);\n",
       "}\n",
       "\n",
       "#sk-container-id-3 div.sk-toggleable__content.fitted pre {\n",
       "  /* unfitted */\n",
       "  background-color: var(--sklearn-color-fitted-level-0);\n",
       "}\n",
       "\n",
       "#sk-container-id-3 input.sk-toggleable__control:checked~div.sk-toggleable__content {\n",
       "  /* Expand drop-down */\n",
       "  max-height: 200px;\n",
       "  max-width: 100%;\n",
       "  overflow: auto;\n",
       "}\n",
       "\n",
       "#sk-container-id-3 input.sk-toggleable__control:checked~label.sk-toggleable__label-arrow:before {\n",
       "  content: \"▾\";\n",
       "}\n",
       "\n",
       "/* Pipeline/ColumnTransformer-specific style */\n",
       "\n",
       "#sk-container-id-3 div.sk-label input.sk-toggleable__control:checked~label.sk-toggleable__label {\n",
       "  color: var(--sklearn-color-text);\n",
       "  background-color: var(--sklearn-color-unfitted-level-2);\n",
       "}\n",
       "\n",
       "#sk-container-id-3 div.sk-label.fitted input.sk-toggleable__control:checked~label.sk-toggleable__label {\n",
       "  background-color: var(--sklearn-color-fitted-level-2);\n",
       "}\n",
       "\n",
       "/* Estimator-specific style */\n",
       "\n",
       "/* Colorize estimator box */\n",
       "#sk-container-id-3 div.sk-estimator input.sk-toggleable__control:checked~label.sk-toggleable__label {\n",
       "  /* unfitted */\n",
       "  background-color: var(--sklearn-color-unfitted-level-2);\n",
       "}\n",
       "\n",
       "#sk-container-id-3 div.sk-estimator.fitted input.sk-toggleable__control:checked~label.sk-toggleable__label {\n",
       "  /* fitted */\n",
       "  background-color: var(--sklearn-color-fitted-level-2);\n",
       "}\n",
       "\n",
       "#sk-container-id-3 div.sk-label label.sk-toggleable__label,\n",
       "#sk-container-id-3 div.sk-label label {\n",
       "  /* The background is the default theme color */\n",
       "  color: var(--sklearn-color-text-on-default-background);\n",
       "}\n",
       "\n",
       "/* On hover, darken the color of the background */\n",
       "#sk-container-id-3 div.sk-label:hover label.sk-toggleable__label {\n",
       "  color: var(--sklearn-color-text);\n",
       "  background-color: var(--sklearn-color-unfitted-level-2);\n",
       "}\n",
       "\n",
       "/* Label box, darken color on hover, fitted */\n",
       "#sk-container-id-3 div.sk-label.fitted:hover label.sk-toggleable__label.fitted {\n",
       "  color: var(--sklearn-color-text);\n",
       "  background-color: var(--sklearn-color-fitted-level-2);\n",
       "}\n",
       "\n",
       "/* Estimator label */\n",
       "\n",
       "#sk-container-id-3 div.sk-label label {\n",
       "  font-family: monospace;\n",
       "  font-weight: bold;\n",
       "  display: inline-block;\n",
       "  line-height: 1.2em;\n",
       "}\n",
       "\n",
       "#sk-container-id-3 div.sk-label-container {\n",
       "  text-align: center;\n",
       "}\n",
       "\n",
       "/* Estimator-specific */\n",
       "#sk-container-id-3 div.sk-estimator {\n",
       "  font-family: monospace;\n",
       "  border: 1px dotted var(--sklearn-color-border-box);\n",
       "  border-radius: 0.25em;\n",
       "  box-sizing: border-box;\n",
       "  margin-bottom: 0.5em;\n",
       "  /* unfitted */\n",
       "  background-color: var(--sklearn-color-unfitted-level-0);\n",
       "}\n",
       "\n",
       "#sk-container-id-3 div.sk-estimator.fitted {\n",
       "  /* fitted */\n",
       "  background-color: var(--sklearn-color-fitted-level-0);\n",
       "}\n",
       "\n",
       "/* on hover */\n",
       "#sk-container-id-3 div.sk-estimator:hover {\n",
       "  /* unfitted */\n",
       "  background-color: var(--sklearn-color-unfitted-level-2);\n",
       "}\n",
       "\n",
       "#sk-container-id-3 div.sk-estimator.fitted:hover {\n",
       "  /* fitted */\n",
       "  background-color: var(--sklearn-color-fitted-level-2);\n",
       "}\n",
       "\n",
       "/* Specification for estimator info (e.g. \"i\" and \"?\") */\n",
       "\n",
       "/* Common style for \"i\" and \"?\" */\n",
       "\n",
       ".sk-estimator-doc-link,\n",
       "a:link.sk-estimator-doc-link,\n",
       "a:visited.sk-estimator-doc-link {\n",
       "  float: right;\n",
       "  font-size: smaller;\n",
       "  line-height: 1em;\n",
       "  font-family: monospace;\n",
       "  background-color: var(--sklearn-color-background);\n",
       "  border-radius: 1em;\n",
       "  height: 1em;\n",
       "  width: 1em;\n",
       "  text-decoration: none !important;\n",
       "  margin-left: 1ex;\n",
       "  /* unfitted */\n",
       "  border: var(--sklearn-color-unfitted-level-1) 1pt solid;\n",
       "  color: var(--sklearn-color-unfitted-level-1);\n",
       "}\n",
       "\n",
       ".sk-estimator-doc-link.fitted,\n",
       "a:link.sk-estimator-doc-link.fitted,\n",
       "a:visited.sk-estimator-doc-link.fitted {\n",
       "  /* fitted */\n",
       "  border: var(--sklearn-color-fitted-level-1) 1pt solid;\n",
       "  color: var(--sklearn-color-fitted-level-1);\n",
       "}\n",
       "\n",
       "/* On hover */\n",
       "div.sk-estimator:hover .sk-estimator-doc-link:hover,\n",
       ".sk-estimator-doc-link:hover,\n",
       "div.sk-label-container:hover .sk-estimator-doc-link:hover,\n",
       ".sk-estimator-doc-link:hover {\n",
       "  /* unfitted */\n",
       "  background-color: var(--sklearn-color-unfitted-level-3);\n",
       "  color: var(--sklearn-color-background);\n",
       "  text-decoration: none;\n",
       "}\n",
       "\n",
       "div.sk-estimator.fitted:hover .sk-estimator-doc-link.fitted:hover,\n",
       ".sk-estimator-doc-link.fitted:hover,\n",
       "div.sk-label-container:hover .sk-estimator-doc-link.fitted:hover,\n",
       ".sk-estimator-doc-link.fitted:hover {\n",
       "  /* fitted */\n",
       "  background-color: var(--sklearn-color-fitted-level-3);\n",
       "  color: var(--sklearn-color-background);\n",
       "  text-decoration: none;\n",
       "}\n",
       "\n",
       "/* Span, style for the box shown on hovering the info icon */\n",
       ".sk-estimator-doc-link span {\n",
       "  display: none;\n",
       "  z-index: 9999;\n",
       "  position: relative;\n",
       "  font-weight: normal;\n",
       "  right: .2ex;\n",
       "  padding: .5ex;\n",
       "  margin: .5ex;\n",
       "  width: min-content;\n",
       "  min-width: 20ex;\n",
       "  max-width: 50ex;\n",
       "  color: var(--sklearn-color-text);\n",
       "  box-shadow: 2pt 2pt 4pt #999;\n",
       "  /* unfitted */\n",
       "  background: var(--sklearn-color-unfitted-level-0);\n",
       "  border: .5pt solid var(--sklearn-color-unfitted-level-3);\n",
       "}\n",
       "\n",
       ".sk-estimator-doc-link.fitted span {\n",
       "  /* fitted */\n",
       "  background: var(--sklearn-color-fitted-level-0);\n",
       "  border: var(--sklearn-color-fitted-level-3);\n",
       "}\n",
       "\n",
       ".sk-estimator-doc-link:hover span {\n",
       "  display: block;\n",
       "}\n",
       "\n",
       "/* \"?\"-specific style due to the `<a>` HTML tag */\n",
       "\n",
       "#sk-container-id-3 a.estimator_doc_link {\n",
       "  float: right;\n",
       "  font-size: 1rem;\n",
       "  line-height: 1em;\n",
       "  font-family: monospace;\n",
       "  background-color: var(--sklearn-color-background);\n",
       "  border-radius: 1rem;\n",
       "  height: 1rem;\n",
       "  width: 1rem;\n",
       "  text-decoration: none;\n",
       "  /* unfitted */\n",
       "  color: var(--sklearn-color-unfitted-level-1);\n",
       "  border: var(--sklearn-color-unfitted-level-1) 1pt solid;\n",
       "}\n",
       "\n",
       "#sk-container-id-3 a.estimator_doc_link.fitted {\n",
       "  /* fitted */\n",
       "  border: var(--sklearn-color-fitted-level-1) 1pt solid;\n",
       "  color: var(--sklearn-color-fitted-level-1);\n",
       "}\n",
       "\n",
       "/* On hover */\n",
       "#sk-container-id-3 a.estimator_doc_link:hover {\n",
       "  /* unfitted */\n",
       "  background-color: var(--sklearn-color-unfitted-level-3);\n",
       "  color: var(--sklearn-color-background);\n",
       "  text-decoration: none;\n",
       "}\n",
       "\n",
       "#sk-container-id-3 a.estimator_doc_link.fitted:hover {\n",
       "  /* fitted */\n",
       "  background-color: var(--sklearn-color-fitted-level-3);\n",
       "}\n",
       "</style><div id=\"sk-container-id-3\" class=\"sk-top-container\"><div class=\"sk-text-repr-fallback\"><pre>LinearSVC()</pre><b>In a Jupyter environment, please rerun this cell to show the HTML representation or trust the notebook. <br />On GitHub, the HTML representation is unable to render, please try loading this page with nbviewer.org.</b></div><div class=\"sk-container\" hidden><div class=\"sk-item\"><div class=\"sk-estimator fitted sk-toggleable\"><input class=\"sk-toggleable__control sk-hidden--visually\" id=\"sk-estimator-id-3\" type=\"checkbox\" checked><label for=\"sk-estimator-id-3\" class=\"sk-toggleable__label fitted sk-toggleable__label-arrow fitted\">&nbsp;&nbsp;LinearSVC<a class=\"sk-estimator-doc-link fitted\" rel=\"noreferrer\" target=\"_blank\" href=\"https://scikit-learn.org/1.5/modules/generated/sklearn.svm.LinearSVC.html\">?<span>Documentation for LinearSVC</span></a><span class=\"sk-estimator-doc-link fitted\">i<span>Fitted</span></span></label><div class=\"sk-toggleable__content fitted\"><pre>LinearSVC()</pre></div> </div></div></div></div>"
      ]
     },
     "execution_count": 53,
     "metadata": {},
     "output_type": "execute_result"
    }
   ],
   "execution_count": 53
  },
  {
   "metadata": {
    "ExecuteTime": {
     "end_time": "2024-11-07T17:17:25.561174Z",
     "start_time": "2024-11-07T17:17:25.549047Z"
    }
   },
   "cell_type": "code",
   "source": [
    "predictions_linear = model_linear_svc.predict(X_test)\n",
    "predictions_linear"
   ],
   "id": "dd242da3095778af",
   "outputs": [
    {
     "data": {
      "text/plain": [
       "array([0, 0, 0, 0, 0, 0, 1, 1, 0, 0, 1, 0, 0, 0, 0, 1, 1, 0, 1, 0, 0, 0,\n",
       "       0, 0, 0, 0, 1, 0, 0, 0, 0, 0, 1, 0, 0, 0, 1, 1, 0, 0, 1, 0, 0, 1,\n",
       "       0, 0, 1, 0, 0, 1, 0, 0, 0, 0, 1, 1, 1, 0, 0, 1, 1, 1, 0, 0, 1, 1,\n",
       "       0, 1, 1, 1, 1, 1, 1, 0, 0, 0, 1, 1, 1, 0, 1, 1, 0, 0, 1, 0, 0, 0,\n",
       "       0, 1, 0, 0, 0, 1, 0, 0, 1, 0, 1, 0, 0, 0, 1, 1, 0, 0, 0, 0, 0, 0,\n",
       "       1, 0, 0, 0, 0, 0, 0, 0, 1, 0, 0, 0, 0, 1, 1, 0, 0, 0, 0, 0, 0, 0,\n",
       "       0, 0, 1, 0, 1, 0, 1, 0, 0, 0, 0, 0, 0, 0, 1, 1, 1, 1, 0, 0, 0, 0,\n",
       "       0, 1, 1, 0, 0, 0, 0, 0, 0, 0, 0, 1, 0, 0, 1, 1, 0, 1, 0, 0, 0, 0,\n",
       "       0])"
      ]
     },
     "execution_count": 54,
     "metadata": {},
     "output_type": "execute_result"
    }
   ],
   "execution_count": 54
  },
  {
   "metadata": {
    "jupyter": {
     "is_executing": true
    },
    "ExecuteTime": {
     "start_time": "2024-11-07T17:17:25.961754Z"
    }
   },
   "cell_type": "code",
   "source": [
    "linear_grid = GridSearchCV(SVC(), param_grid_linear, refit=True, verbose=3)\n",
    "linear_grid.fit(X_train, y_train)"
   ],
   "id": "759efa8315aa37eb",
   "outputs": [
    {
     "name": "stdout",
     "output_type": "stream",
     "text": [
      "Fitting 5 folds for each of 11 candidates, totalling 55 fits\n",
      "[CV 1/5] END ..............C=0.1, kernel=linear;, score=0.790 total time=   0.4s\n",
      "[CV 2/5] END ..............C=0.1, kernel=linear;, score=0.804 total time=   0.4s\n",
      "[CV 3/5] END ..............C=0.1, kernel=linear;, score=0.768 total time=   0.4s\n",
      "[CV 4/5] END ..............C=0.1, kernel=linear;, score=0.789 total time=   0.3s\n",
      "[CV 5/5] END ..............C=0.1, kernel=linear;, score=0.789 total time=   1.0s\n",
      "[CV 1/5] END ................C=1, kernel=linear;, score=0.790 total time=   2.4s\n",
      "[CV 2/5] END ................C=1, kernel=linear;, score=0.811 total time=   3.4s\n",
      "[CV 3/5] END ................C=1, kernel=linear;, score=0.768 total time=   3.7s\n",
      "[CV 4/5] END ................C=1, kernel=linear;, score=0.789 total time=  13.3s\n",
      "[CV 5/5] END ................C=1, kernel=linear;, score=0.789 total time=  16.2s\n",
      "[CV 1/5] END ...............C=10, kernel=linear;, score=0.790 total time=   9.7s\n",
      "[CV 2/5] END ...............C=10, kernel=linear;, score=0.811 total time=  12.5s\n",
      "[CV 3/5] END ...............C=10, kernel=linear;, score=0.768 total time=  11.3s\n",
      "[CV 4/5] END ...............C=10, kernel=linear;, score=0.789 total time=  21.9s\n",
      "[CV 5/5] END ...............C=10, kernel=linear;, score=0.789 total time=  26.5s\n",
      "[CV 1/5] END ..............C=100, kernel=linear;, score=0.790 total time= 2.2min\n",
      "[CV 2/5] END ..............C=100, kernel=linear;, score=0.818 total time= 1.6min\n",
      "[CV 3/5] END ..............C=100, kernel=linear;, score=0.768 total time= 1.4min\n",
      "[CV 4/5] END ..............C=100, kernel=linear;, score=0.796 total time= 2.8min\n"
     ]
    }
   ],
   "execution_count": null
  },
  {
   "metadata": {},
   "cell_type": "code",
   "outputs": [],
   "execution_count": null,
   "source": "linear_grid.best_params_",
   "id": "a926991a2283bedc"
  },
  {
   "metadata": {},
   "cell_type": "code",
   "outputs": [],
   "execution_count": null,
   "source": "linear_grid.best_estimator_",
   "id": "dc7438507714b092"
  },
  {
   "metadata": {},
   "cell_type": "code",
   "outputs": [],
   "execution_count": null,
   "source": "classification_report(y_test, predictions_linear)",
   "id": "6be5559710aa3477"
  },
  {
   "metadata": {
    "jupyter": {
     "is_executing": true
    },
    "ExecuteTime": {
     "end_time": "2024-11-07T14:16:24.377836410Z",
     "start_time": "2024-11-07T13:57:08.947209Z"
    }
   },
   "cell_type": "code",
   "outputs": [
    {
     "name": "stdout",
     "output_type": "stream",
     "text": [
      "Fitting 5 folds for each of 462 candidates, totalling 2310 fits\n",
      "[CV 1/5] END ...C=0.1, gamma=1e-10, kernel=poly;, score=0.615 total time=   0.0s\n",
      "[CV 2/5] END ...C=0.1, gamma=1e-10, kernel=poly;, score=0.615 total time=   0.0s\n",
      "[CV 3/5] END ...C=0.1, gamma=1e-10, kernel=poly;, score=0.620 total time=   0.0s\n",
      "[CV 4/5] END ...C=0.1, gamma=1e-10, kernel=poly;, score=0.620 total time=   0.0s\n",
      "[CV 5/5] END ...C=0.1, gamma=1e-10, kernel=poly;, score=0.620 total time=   0.0s\n",
      "[CV 1/5] END ....C=0.1, gamma=1e-10, kernel=rbf;, score=0.615 total time=   0.0s\n",
      "[CV 2/5] END ....C=0.1, gamma=1e-10, kernel=rbf;, score=0.615 total time=   0.0s\n",
      "[CV 3/5] END ....C=0.1, gamma=1e-10, kernel=rbf;, score=0.620 total time=   0.0s\n",
      "[CV 4/5] END ....C=0.1, gamma=1e-10, kernel=rbf;, score=0.620 total time=   0.0s\n",
      "[CV 5/5] END ....C=0.1, gamma=1e-10, kernel=rbf;, score=0.620 total time=   0.0s\n",
      "[CV 1/5] END C=0.1, gamma=1e-10, kernel=sigmoid;, score=0.615 total time=   0.0s\n",
      "[CV 2/5] END C=0.1, gamma=1e-10, kernel=sigmoid;, score=0.615 total time=   0.0s\n",
      "[CV 3/5] END C=0.1, gamma=1e-10, kernel=sigmoid;, score=0.620 total time=   0.0s\n",
      "[CV 4/5] END C=0.1, gamma=1e-10, kernel=sigmoid;, score=0.620 total time=   0.0s\n",
      "[CV 5/5] END C=0.1, gamma=1e-10, kernel=sigmoid;, score=0.620 total time=   0.0s\n",
      "[CV 1/5] END ...C=0.1, gamma=1e-09, kernel=poly;, score=0.615 total time=   0.0s\n",
      "[CV 2/5] END ...C=0.1, gamma=1e-09, kernel=poly;, score=0.615 total time=   0.0s\n",
      "[CV 3/5] END ...C=0.1, gamma=1e-09, kernel=poly;, score=0.620 total time=   0.0s\n",
      "[CV 4/5] END ...C=0.1, gamma=1e-09, kernel=poly;, score=0.620 total time=   0.0s\n",
      "[CV 5/5] END ...C=0.1, gamma=1e-09, kernel=poly;, score=0.620 total time=   0.0s\n",
      "[CV 1/5] END ....C=0.1, gamma=1e-09, kernel=rbf;, score=0.615 total time=   0.0s\n",
      "[CV 2/5] END ....C=0.1, gamma=1e-09, kernel=rbf;, score=0.615 total time=   0.0s\n",
      "[CV 3/5] END ....C=0.1, gamma=1e-09, kernel=rbf;, score=0.620 total time=   0.0s\n",
      "[CV 4/5] END ....C=0.1, gamma=1e-09, kernel=rbf;, score=0.620 total time=   0.0s\n",
      "[CV 5/5] END ....C=0.1, gamma=1e-09, kernel=rbf;, score=0.620 total time=   0.0s\n",
      "[CV 1/5] END C=0.1, gamma=1e-09, kernel=sigmoid;, score=0.615 total time=   0.0s\n",
      "[CV 2/5] END C=0.1, gamma=1e-09, kernel=sigmoid;, score=0.615 total time=   0.0s\n",
      "[CV 3/5] END C=0.1, gamma=1e-09, kernel=sigmoid;, score=0.620 total time=   0.0s\n",
      "[CV 4/5] END C=0.1, gamma=1e-09, kernel=sigmoid;, score=0.620 total time=   0.0s\n",
      "[CV 5/5] END C=0.1, gamma=1e-09, kernel=sigmoid;, score=0.620 total time=   0.0s\n",
      "[CV 1/5] END ...C=0.1, gamma=1e-08, kernel=poly;, score=0.615 total time=   0.0s\n",
      "[CV 2/5] END ...C=0.1, gamma=1e-08, kernel=poly;, score=0.615 total time=   0.0s\n",
      "[CV 3/5] END ...C=0.1, gamma=1e-08, kernel=poly;, score=0.620 total time=   0.0s\n",
      "[CV 4/5] END ...C=0.1, gamma=1e-08, kernel=poly;, score=0.620 total time=   0.0s\n",
      "[CV 5/5] END ...C=0.1, gamma=1e-08, kernel=poly;, score=0.620 total time=   0.0s\n",
      "[CV 1/5] END ....C=0.1, gamma=1e-08, kernel=rbf;, score=0.615 total time=   0.0s\n",
      "[CV 2/5] END ....C=0.1, gamma=1e-08, kernel=rbf;, score=0.615 total time=   0.0s\n",
      "[CV 3/5] END ....C=0.1, gamma=1e-08, kernel=rbf;, score=0.620 total time=   0.0s\n",
      "[CV 4/5] END ....C=0.1, gamma=1e-08, kernel=rbf;, score=0.620 total time=   0.0s\n",
      "[CV 5/5] END ....C=0.1, gamma=1e-08, kernel=rbf;, score=0.620 total time=   0.0s\n",
      "[CV 1/5] END C=0.1, gamma=1e-08, kernel=sigmoid;, score=0.615 total time=   0.0s\n",
      "[CV 2/5] END C=0.1, gamma=1e-08, kernel=sigmoid;, score=0.615 total time=   0.0s\n",
      "[CV 3/5] END C=0.1, gamma=1e-08, kernel=sigmoid;, score=0.620 total time=   0.0s\n",
      "[CV 4/5] END C=0.1, gamma=1e-08, kernel=sigmoid;, score=0.620 total time=   0.0s\n",
      "[CV 5/5] END C=0.1, gamma=1e-08, kernel=sigmoid;, score=0.620 total time=   0.0s\n",
      "[CV 1/5] END ...C=0.1, gamma=1e-07, kernel=poly;, score=0.615 total time=   0.0s\n",
      "[CV 2/5] END ...C=0.1, gamma=1e-07, kernel=poly;, score=0.615 total time=   0.0s\n",
      "[CV 3/5] END ...C=0.1, gamma=1e-07, kernel=poly;, score=0.620 total time=   0.0s\n",
      "[CV 4/5] END ...C=0.1, gamma=1e-07, kernel=poly;, score=0.620 total time=   0.0s\n",
      "[CV 5/5] END ...C=0.1, gamma=1e-07, kernel=poly;, score=0.620 total time=   0.0s\n",
      "[CV 1/5] END ....C=0.1, gamma=1e-07, kernel=rbf;, score=0.615 total time=   0.0s\n",
      "[CV 2/5] END ....C=0.1, gamma=1e-07, kernel=rbf;, score=0.615 total time=   0.0s\n",
      "[CV 3/5] END ....C=0.1, gamma=1e-07, kernel=rbf;, score=0.620 total time=   0.0s\n",
      "[CV 4/5] END ....C=0.1, gamma=1e-07, kernel=rbf;, score=0.620 total time=   0.0s\n",
      "[CV 5/5] END ....C=0.1, gamma=1e-07, kernel=rbf;, score=0.620 total time=   0.0s\n",
      "[CV 1/5] END C=0.1, gamma=1e-07, kernel=sigmoid;, score=0.615 total time=   0.0s\n",
      "[CV 2/5] END C=0.1, gamma=1e-07, kernel=sigmoid;, score=0.615 total time=   0.0s\n",
      "[CV 3/5] END C=0.1, gamma=1e-07, kernel=sigmoid;, score=0.620 total time=   0.0s\n",
      "[CV 4/5] END C=0.1, gamma=1e-07, kernel=sigmoid;, score=0.620 total time=   0.0s\n",
      "[CV 5/5] END C=0.1, gamma=1e-07, kernel=sigmoid;, score=0.620 total time=   0.0s\n",
      "[CV 1/5] END ...C=0.1, gamma=1e-06, kernel=poly;, score=0.615 total time=   0.0s\n",
      "[CV 2/5] END ...C=0.1, gamma=1e-06, kernel=poly;, score=0.615 total time=   0.0s\n",
      "[CV 3/5] END ...C=0.1, gamma=1e-06, kernel=poly;, score=0.620 total time=   0.0s\n",
      "[CV 4/5] END ...C=0.1, gamma=1e-06, kernel=poly;, score=0.620 total time=   0.0s\n",
      "[CV 5/5] END ...C=0.1, gamma=1e-06, kernel=poly;, score=0.620 total time=   0.0s\n",
      "[CV 1/5] END ....C=0.1, gamma=1e-06, kernel=rbf;, score=0.615 total time=   0.0s\n",
      "[CV 2/5] END ....C=0.1, gamma=1e-06, kernel=rbf;, score=0.615 total time=   0.0s\n",
      "[CV 3/5] END ....C=0.1, gamma=1e-06, kernel=rbf;, score=0.620 total time=   0.0s\n",
      "[CV 4/5] END ....C=0.1, gamma=1e-06, kernel=rbf;, score=0.620 total time=   0.0s\n",
      "[CV 5/5] END ....C=0.1, gamma=1e-06, kernel=rbf;, score=0.620 total time=   0.0s\n",
      "[CV 1/5] END C=0.1, gamma=1e-06, kernel=sigmoid;, score=0.615 total time=   0.0s\n",
      "[CV 2/5] END C=0.1, gamma=1e-06, kernel=sigmoid;, score=0.615 total time=   0.0s\n",
      "[CV 3/5] END C=0.1, gamma=1e-06, kernel=sigmoid;, score=0.620 total time=   0.0s\n",
      "[CV 4/5] END C=0.1, gamma=1e-06, kernel=sigmoid;, score=0.620 total time=   0.0s\n",
      "[CV 5/5] END C=0.1, gamma=1e-06, kernel=sigmoid;, score=0.620 total time=   0.0s\n",
      "[CV 1/5] END ...C=0.1, gamma=1e-05, kernel=poly;, score=0.615 total time=   0.0s\n",
      "[CV 2/5] END ...C=0.1, gamma=1e-05, kernel=poly;, score=0.622 total time=   0.0s\n",
      "[CV 3/5] END ...C=0.1, gamma=1e-05, kernel=poly;, score=0.620 total time=   0.0s\n",
      "[CV 4/5] END ...C=0.1, gamma=1e-05, kernel=poly;, score=0.627 total time=   0.0s\n",
      "[CV 5/5] END ...C=0.1, gamma=1e-05, kernel=poly;, score=0.627 total time=   0.0s\n",
      "[CV 1/5] END ....C=0.1, gamma=1e-05, kernel=rbf;, score=0.615 total time=   0.1s\n",
      "[CV 2/5] END ....C=0.1, gamma=1e-05, kernel=rbf;, score=0.615 total time=   0.0s\n",
      "[CV 3/5] END ....C=0.1, gamma=1e-05, kernel=rbf;, score=0.613 total time=   0.0s\n",
      "[CV 4/5] END ....C=0.1, gamma=1e-05, kernel=rbf;, score=0.627 total time=   0.0s\n",
      "[CV 5/5] END ....C=0.1, gamma=1e-05, kernel=rbf;, score=0.620 total time=   0.0s\n",
      "[CV 1/5] END C=0.1, gamma=1e-05, kernel=sigmoid;, score=0.608 total time=   0.0s\n",
      "[CV 2/5] END C=0.1, gamma=1e-05, kernel=sigmoid;, score=0.615 total time=   0.0s\n",
      "[CV 3/5] END C=0.1, gamma=1e-05, kernel=sigmoid;, score=0.620 total time=   0.0s\n",
      "[CV 4/5] END C=0.1, gamma=1e-05, kernel=sigmoid;, score=0.627 total time=   0.0s\n",
      "[CV 5/5] END C=0.1, gamma=1e-05, kernel=sigmoid;, score=0.627 total time=   0.0s\n",
      "[CV 1/5] END ..C=0.1, gamma=0.0001, kernel=poly;, score=0.615 total time=   0.0s\n",
      "[CV 2/5] END ..C=0.1, gamma=0.0001, kernel=poly;, score=0.671 total time=   0.0s\n",
      "[CV 3/5] END ..C=0.1, gamma=0.0001, kernel=poly;, score=0.613 total time=   0.0s\n",
      "[CV 4/5] END ..C=0.1, gamma=0.0001, kernel=poly;, score=0.641 total time=   0.0s\n",
      "[CV 5/5] END ..C=0.1, gamma=0.0001, kernel=poly;, score=0.655 total time=   0.0s\n",
      "[CV 1/5] END ...C=0.1, gamma=0.0001, kernel=rbf;, score=0.580 total time=   0.0s\n",
      "[CV 2/5] END ...C=0.1, gamma=0.0001, kernel=rbf;, score=0.706 total time=   0.0s\n",
      "[CV 3/5] END ...C=0.1, gamma=0.0001, kernel=rbf;, score=0.662 total time=   0.0s\n",
      "[CV 4/5] END ...C=0.1, gamma=0.0001, kernel=rbf;, score=0.676 total time=   0.0s\n",
      "[CV 5/5] END ...C=0.1, gamma=0.0001, kernel=rbf;, score=0.683 total time=   0.0s\n",
      "[CV 1/5] END C=0.1, gamma=0.0001, kernel=sigmoid;, score=0.538 total time=   0.0s\n",
      "[CV 2/5] END C=0.1, gamma=0.0001, kernel=sigmoid;, score=0.643 total time=   0.0s\n",
      "[CV 3/5] END C=0.1, gamma=0.0001, kernel=sigmoid;, score=0.683 total time=   0.0s\n",
      "[CV 4/5] END C=0.1, gamma=0.0001, kernel=sigmoid;, score=0.648 total time=   0.0s\n",
      "[CV 5/5] END C=0.1, gamma=0.0001, kernel=sigmoid;, score=0.634 total time=   0.0s\n",
      "[CV 1/5] END ...C=0.1, gamma=0.001, kernel=poly;, score=0.622 total time=   0.1s\n",
      "[CV 2/5] END ...C=0.1, gamma=0.001, kernel=poly;, score=0.727 total time=   0.1s\n",
      "[CV 3/5] END ...C=0.1, gamma=0.001, kernel=poly;, score=0.655 total time=   0.1s\n",
      "[CV 4/5] END ...C=0.1, gamma=0.001, kernel=poly;, score=0.655 total time=   0.2s\n",
      "[CV 5/5] END ...C=0.1, gamma=0.001, kernel=poly;, score=0.690 total time=   0.1s\n",
      "[CV 1/5] END ....C=0.1, gamma=0.001, kernel=rbf;, score=0.552 total time=   0.0s\n",
      "[CV 2/5] END ....C=0.1, gamma=0.001, kernel=rbf;, score=0.706 total time=   0.0s\n",
      "[CV 3/5] END ....C=0.1, gamma=0.001, kernel=rbf;, score=0.676 total time=   0.0s\n",
      "[CV 4/5] END ....C=0.1, gamma=0.001, kernel=rbf;, score=0.683 total time=   0.0s\n",
      "[CV 5/5] END ....C=0.1, gamma=0.001, kernel=rbf;, score=0.683 total time=   0.0s\n",
      "[CV 1/5] END C=0.1, gamma=0.001, kernel=sigmoid;, score=0.622 total time=   0.1s\n",
      "[CV 2/5] END C=0.1, gamma=0.001, kernel=sigmoid;, score=0.594 total time=   0.1s\n",
      "[CV 3/5] END C=0.1, gamma=0.001, kernel=sigmoid;, score=0.669 total time=   0.0s\n",
      "[CV 4/5] END C=0.1, gamma=0.001, kernel=sigmoid;, score=0.627 total time=   0.0s\n",
      "[CV 5/5] END C=0.1, gamma=0.001, kernel=sigmoid;, score=0.627 total time=   0.0s\n",
      "[CV 1/5] END ....C=0.1, gamma=0.01, kernel=poly;, score=0.804 total time=   6.3s\n",
      "[CV 2/5] END ....C=0.1, gamma=0.01, kernel=poly;, score=0.811 total time=  10.2s\n",
      "[CV 3/5] END ....C=0.1, gamma=0.01, kernel=poly;, score=0.761 total time=   3.0s\n",
      "[CV 4/5] END ....C=0.1, gamma=0.01, kernel=poly;, score=0.810 total time=   2.0s\n",
      "[CV 5/5] END ....C=0.1, gamma=0.01, kernel=poly;, score=0.817 total time=   1.7s\n",
      "[CV 1/5] END .....C=0.1, gamma=0.01, kernel=rbf;, score=0.622 total time=   0.0s\n",
      "[CV 2/5] END .....C=0.1, gamma=0.01, kernel=rbf;, score=0.615 total time=   0.0s\n",
      "[CV 3/5] END .....C=0.1, gamma=0.01, kernel=rbf;, score=0.641 total time=   0.0s\n",
      "[CV 4/5] END .....C=0.1, gamma=0.01, kernel=rbf;, score=0.634 total time=   0.0s\n",
      "[CV 5/5] END .....C=0.1, gamma=0.01, kernel=rbf;, score=0.662 total time=   0.0s\n",
      "[CV 1/5] END .C=0.1, gamma=0.01, kernel=sigmoid;, score=0.615 total time=   0.0s\n",
      "[CV 2/5] END .C=0.1, gamma=0.01, kernel=sigmoid;, score=0.615 total time=   0.0s\n",
      "[CV 3/5] END .C=0.1, gamma=0.01, kernel=sigmoid;, score=0.620 total time=   0.0s\n",
      "[CV 4/5] END .C=0.1, gamma=0.01, kernel=sigmoid;, score=0.620 total time=   0.0s\n",
      "[CV 5/5] END .C=0.1, gamma=0.01, kernel=sigmoid;, score=0.620 total time=   0.0s\n"
     ]
    }
   ],
   "execution_count": null,
   "source": [
    "grid = GridSearchCV(SVC(), param_grid, refit=True, verbose=3)\n",
    "grid.fit(X_train, y_train)"
   ],
   "id": "249fab22116f4177"
  },
  {
   "metadata": {},
   "cell_type": "code",
   "outputs": [],
   "execution_count": null,
   "source": "grid.best_params_",
   "id": "2dbf0bb19b350ee2"
  },
  {
   "metadata": {},
   "cell_type": "code",
   "outputs": [],
   "execution_count": null,
   "source": "grid.best_estimator_",
   "id": "26cf01b2a8623482"
  },
  {
   "metadata": {},
   "cell_type": "code",
   "outputs": [],
   "execution_count": null,
   "source": "classification_report(y_test, predictions)",
   "id": "487861f0088a7b0a"
  },
  {
   "cell_type": "markdown",
   "id": "fea63f1a-10e4-459e-836b-54f6bc346cf2",
   "metadata": {},
   "source": [
    "### Task 2: NN (1b)\n",
    "- Take a look at the parameters of the MLPClassifier, e.g. hidden_layer_sizes, activation, solver, max_iter\n",
    "- Tune the hyper-parameters and compare the ANN model proposed during the lecture\n",
    "    - Choose the ideal form of presentation for hyperparameter tuning results (e.g. table with scores, plot showing the score relation to some parameter, etc.)\n",
    "    - **Write down to markdown cell which is better and why!**"
   ]
  },
  {
   "cell_type": "code",
   "id": "f1be1479",
   "metadata": {
    "ExecuteTime": {
     "end_time": "2024-11-07T14:16:24.378519932Z",
     "start_time": "2024-11-07T12:46:18.924459Z"
    }
   },
   "source": [],
   "outputs": [],
   "execution_count": null
  },
  {
   "cell_type": "markdown",
   "id": "8369ced1",
   "metadata": {},
   "source": [
    "### Bonus task: OPTUNA (1b)\n",
    "Use **Optuna** library for hyperparameter tuning process for one of previous classification methods (SVM, ANN).\n",
    "\n",
    "A short list with some materials for this task:\n",
    "- Hyperparameter tuning blog 1 https://medium.com/@iqra.bismi/hyper-parameter-tuning-of-machine-learning-models-using-optuna-f1905547937f\n",
    "- Hyperparameter tuning blog 2 https://medium.com/@abdalrahman_shahrour/optuna-vs-gridsearch-57227556c450\n",
    "- https://optuna.readthedocs.io/en/stable/tutorial/10_key_features/005_visualization.html\n",
    "- https://github.com/optuna/optuna\n",
    "- https://github.com/optuna/optuna-dashboard and https://optuna.github.io/optuna-dashboard/\n",
    "\n",
    "**What is the difference in using the Optuna instead of grid search?**"
   ]
  },
  {
   "cell_type": "code",
   "id": "25a955c0",
   "metadata": {
    "ExecuteTime": {
     "end_time": "2024-11-07T14:16:24.378739446Z",
     "start_time": "2024-11-07T12:46:18.996358Z"
    }
   },
   "source": [],
   "outputs": [],
   "execution_count": null
  }
 ],
 "metadata": {
  "kernelspec": {
   "display_name": "venv",
   "language": "python",
   "name": "python3"
  },
  "language_info": {
   "codemirror_mode": {
    "name": "ipython",
    "version": 3
   },
   "file_extension": ".py",
   "mimetype": "text/x-python",
   "name": "python",
   "nbconvert_exporter": "python",
   "pygments_lexer": "ipython3",
   "version": "3.12.1"
  }
 },
 "nbformat": 4,
 "nbformat_minor": 5
}

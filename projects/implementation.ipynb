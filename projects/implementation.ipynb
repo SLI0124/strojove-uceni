{
 "cells": [
  {
   "metadata": {},
   "cell_type": "markdown",
   "source": [
    "# Implementace algoritmu DBSCAN\n",
    "\n",
    "Cílem tohoto projektu je implementovat algoritmus DBSCAN (Density-Based Spatial Clustering of Applications with Noise) v jazyce Python a porovnat jeho výsledky s implementací z knihovny `scikit-learn`."
   ],
   "id": "b5b5e79a652c7cee"
  },
  {
   "metadata": {},
   "cell_type": "markdown",
   "source": [
    "# Hlavní myšlenka algoritmu\n",
    "\n",
    "DBSCAN (Density-Based Spatial Clustering of Applications with Noise) je populární shlukovací algoritmus, který je založen na hustotě dat. Oproti jiným metodám, jako je K-means, DBSCAN nevyžaduje předem stanovený počet shluků a dokáže identifikovat shluky libovolného tvaru. Algoritmus pracuje na principu vyhledávání oblastí s vysokou hustotou datových bodů a odlišuje je od oblastí s nižší hustotou, které jsou interpretovány jako šum.\n",
    "\n",
    "Hlavní předností DBSCANu je jeho schopnost odhalit odlehlé body (outliery) a přiřadit je jako šum, zatímco tradiční shlukovací algoritmy by mohly tyto body zahrnout do shluků."
   ],
   "id": "9507e9fcf3743672"
  },
  {
   "metadata": {},
   "cell_type": "markdown",
   "source": [
    "# Princip algoritmu\n",
    "\n",
    "DBSCAN identifikuje shluky na základě hustoty datových bodů v okolí. Každý bod je klasifikován jako:\n",
    "- Core point (jádrový bod): Bod, který má ve svém okolí (dané parametrickým poloměrem ε) alespoň minimální počet bodů (MinPts).\n",
    "- Border point (okrajový bod): Bod, který leží v okolí jádrového bodu, ale sám nemá dostatek sousedů k tomu, aby byl jádrovým bodem.\n",
    "- Noise point (bod šumu): Bod, který nepatří do žádného shluku.\n",
    "\n",
    "Algoritmus začíná s náhodně vybraným bodem. Pokud tento bod splňuje podmínky jádrového bodu, vytvoří se nový shluk. DBSCAN poté iterativně rozšiřuje shluk o všechny body, které jsou v dosahu ε a splňují podmínky MinPts. Proces pokračuje, dokud nejsou zpracovány všechny body v datové sadě.\n",
    "\n",
    "Důležitými parametry algoritmu jsou poloměr ε a minimální počet bodů MinPts. Tyto parametry ovlivňují, jak citlivý bude algoritmus na detekci shluků a jaká bude jeho schopnost filtrovat šum."
   ],
   "id": "f49c877702358954"
  },
  {
   "metadata": {},
   "cell_type": "markdown",
   "source": [
    "# Implementace algoritmu\n",
    "\n",
    "## Načtení knihoven"
   ],
   "id": "fe908423e9c08913"
  },
  {
   "metadata": {},
   "cell_type": "code",
   "source": "from enum import Enum",
   "id": "2c8a40ea3606e11b",
   "outputs": [],
   "execution_count": null
  },
  {
   "metadata": {},
   "cell_type": "markdown",
   "source": [
    "## Reprezentace bodu\n",
    "\n",
    "Pro zjednodušení implementace algoritmu vytvoříme třídu `Point`, která bude reprezentovat jednotlivé body v prostoru. Každý bod bude mít následující atributy:\n",
    "- **x**: souřadnice x\n",
    "- **y**: souřadnice y\n",
    "- **type**: Typ bodu\n",
    "    - **CORE**: jádrový bod - bod, který má ve svém okolí alespoň MinPts bodů.\n",
    "    - **BORDER**: okrajový bod - bod, který leží v okolí jádrového bodu, ale sám nemá dostatek sousedů.\n",
    "    - **NOISE**: bod šumu - bod, který nepatří do žádného shluku."
   ],
   "id": "2624fbe352f1c018"
  },
  {
   "metadata": {},
   "cell_type": "code",
   "source": [
    "class PointType(Enum):\n",
    "    CORE = 0\n",
    "    BORDER = 1\n",
    "    NOISE = 2"
   ],
   "id": "18ce07aad9530526",
   "outputs": [],
   "execution_count": null
  },
  {
   "metadata": {},
   "cell_type": "markdown",
   "source": [
    "\n",
    "- **cluster**: císlo shluku, do kterého bod patří\n",
    "- **neighbors**: seznam sousedů bodu\n"
   ],
   "id": "86d7b2b14ba76c20"
  },
  {
   "metadata": {},
   "cell_type": "code",
   "source": [
    "class Point:\n",
    "    def __init__(self, x, y):\n",
    "        self.x = x\n",
    "        self.y = y\n",
    "        self.type = None\n",
    "        self.cluster = None\n",
    "        self.neighbors = []"
   ],
   "id": "e7b07c09b5506e2a",
   "outputs": [],
   "execution_count": null
  },
  {
   "metadata": {},
   "cell_type": "markdown",
   "source": [
    "## Reprezentace DBSCAN algoritmu\n",
    "\n",
    "Nyní vytvoříme třídu `DBSCAN`, která bude obsahovat implementaci algoritmu DBSCAN a všechna potřebná nastavení.\n",
    "\n",
    "Třída `DBSCAN` bude mít následující atributy:\n",
    "- **epsilon**: poloměr ε\n",
    "- **min_pts**: minimální počet bodů MinPts\n",
    "- **points**: seznam bodů v datové sadě\n",
    "\n",
    "Metody třídy `DBSCAN`: ...\n"
   ],
   "id": "6b51f52aefc70fcb"
  },
  {
   "metadata": {},
   "cell_type": "code",
   "outputs": [],
   "execution_count": null,
   "source": [
    "class DBSCAN:\n",
    "    def __init__(self, epsilon, min_pts):\n",
    "        self.epsilon = epsilon\n",
    "        self.min_pts = min_pts\n",
    "        self.points = []"
   ],
   "id": "ee15c6db0288e621"
  }
 ],
 "metadata": {
  "kernelspec": {
   "display_name": "Python 3",
   "language": "python",
   "name": "python3"
  },
  "language_info": {
   "codemirror_mode": {
    "name": "ipython",
    "version": 2
   },
   "file_extension": ".py",
   "mimetype": "text/x-python",
   "name": "python",
   "nbconvert_exporter": "python",
   "pygments_lexer": "ipython2",
   "version": "2.7.6"
  }
 },
 "nbformat": 4,
 "nbformat_minor": 5
}

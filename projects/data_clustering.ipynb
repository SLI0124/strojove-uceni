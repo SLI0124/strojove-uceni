{
 "cells": [
  {
   "metadata": {},
   "cell_type": "markdown",
   "source": [
    "# Úvod\n",
    "\n",
    "Tento dataset si klade za cíl analyzovat veřejné preference mezi dvěma typy oblíbenými destinacemi dovolené: horami a plážemi. Poskytuje přehled o různých demografických a životních faktorech, které mohou ovlivnit tyto preference. Prozkoumáním tohoto datasetu mohou uživatelé aplikovat různé techniky strojového učení k predikci, zda jednotlivci preferují hory nebo pláže na základě jejich vlastností.\n",
    "\n",
    "Odkaz na dataset: [Mountains vs Beaches Preferences](https://www.kaggle.com/datasets/jahnavipaliwal/mountains-vs-beaches-preference)"
   ],
   "id": "8986197c90a6045"
  },
  {
   "metadata": {},
   "cell_type": "markdown",
   "source": "# Načtení knihoven",
   "id": "8c1fb83ca89c75b"
  },
  {
   "cell_type": "code",
   "id": "initial_id",
   "metadata": {
    "collapsed": true,
    "ExecuteTime": {
     "end_time": "2024-11-15T13:34:19.181717Z",
     "start_time": "2024-11-15T13:34:18.789651Z"
    }
   },
   "source": "import pandas as pd",
   "outputs": [],
   "execution_count": 1
  },
  {
   "metadata": {},
   "cell_type": "markdown",
   "source": "# Explorační analýza dat (Exploratory Data Analysis - EDA)",
   "id": "ace894f3b3d402d4"
  },
  {
   "metadata": {},
   "cell_type": "markdown",
   "source": [
    "## Datový slovník\n",
    "\n",
    "| **Pojem**                  | **Popis**                                  | **Typ**                                                |\n",
    "|:---------------------------|:-------------------------------------------|:-------------------------------------------------------|\n",
    "| **Age**                    | Věk jednotlivce                            | Numerický                                              |\n",
    "| **Gender**                 | Genderová identita jednotlivce             | Kategorický: muž, žena, nebinární                      |\n",
    "| **Income**                 | Roční příjem jednotlivce                   | Numerický                                              |\n",
    "| **Education Level**        | Nejvyšší dosažené vzdělání                 | Kategorický: střední škola, bakalář, magistr, doktorát |\n",
    "| **Travel Frequency**       | Počet dovolených za rok                    | Numerický                                              |\n",
    "| **Preferred Activities**   | Aktivity preferované během dovolené        | Kategorický: turistika, plavání, lyžování, opalování   |\n",
    "| **Vacation Budget**        | Rozpočet vyhrazený na dovolené             | Numerický                                              |\n",
    "| **Location**               | Typ bydliště                               | Kategorický: městský, příměstský, venkovský            |\n",
    "| **Proximity to Mountains** | Vzdálenost k nejbližším horám (v mílích)   | Numerický                                              |\n",
    "| **Proximity to Beaches**   | Vzdálenost k nejbližším plážím (v mílích)  | Numerický                                              |\n",
    "| **Favorite Season**        | Preferované roční období pro dovolenou     | Kategorický: léto, zima, jaro, podzim                  |\n",
    "| **Pets**                   | Zda jednotlivec vlastní domácí zvířata     | Binární: 0 = Ne, 1 = Ano                               |\n",
    "| **Environmental Concerns** | Zda jednotlivec má environmentální obavy   | Binární: 0 = Ne, 1 = Ano                               |"
   ],
   "id": "c21ae289ec8a0f9b"
  },
  {
   "metadata": {},
   "cell_type": "markdown",
   "source": "## Načtení dat",
   "id": "b9833d72e3e58f03"
  },
  {
   "metadata": {
    "ExecuteTime": {
     "end_time": "2024-11-15T13:34:19.263965Z",
     "start_time": "2024-11-15T13:34:19.188717Z"
    }
   },
   "cell_type": "code",
   "source": [
    "df = pd.read_csv('../datasets/projects/mountains_vs_beaches_preferences.csv')\n",
    "df.head()"
   ],
   "id": "7068dc2a9be2372c",
   "outputs": [
    {
     "data": {
      "text/plain": [
       "   Age      Gender  Income Education_Level  Travel_Frequency  \\\n",
       "0   56        male   71477        bachelor                 9   \n",
       "1   69        male   88740          master                 1   \n",
       "2   46      female   46562          master                 0   \n",
       "3   32  non-binary   99044     high school                 6   \n",
       "4   60      female  106583     high school                 5   \n",
       "\n",
       "  Preferred_Activities  Vacation_Budget  Location  Proximity_to_Mountains  \\\n",
       "0               skiing             2477     urban                     175   \n",
       "1             swimming             4777  suburban                     228   \n",
       "2               skiing             1469     urban                      71   \n",
       "3               hiking             1482     rural                      31   \n",
       "4           sunbathing              516  suburban                      23   \n",
       "\n",
       "   Proximity_to_Beaches Favorite_Season  Pets  Environmental_Concerns  \\\n",
       "0                   267          summer     0                       1   \n",
       "1                   190            fall     0                       1   \n",
       "2                   280          winter     0                       0   \n",
       "3                   255          summer     1                       0   \n",
       "4                   151          winter     1                       1   \n",
       "\n",
       "   Preference  \n",
       "0           1  \n",
       "1           0  \n",
       "2           1  \n",
       "3           1  \n",
       "4           0  "
      ],
      "text/html": [
       "<div>\n",
       "<style scoped>\n",
       "    .dataframe tbody tr th:only-of-type {\n",
       "        vertical-align: middle;\n",
       "    }\n",
       "\n",
       "    .dataframe tbody tr th {\n",
       "        vertical-align: top;\n",
       "    }\n",
       "\n",
       "    .dataframe thead th {\n",
       "        text-align: right;\n",
       "    }\n",
       "</style>\n",
       "<table border=\"1\" class=\"dataframe\">\n",
       "  <thead>\n",
       "    <tr style=\"text-align: right;\">\n",
       "      <th></th>\n",
       "      <th>Age</th>\n",
       "      <th>Gender</th>\n",
       "      <th>Income</th>\n",
       "      <th>Education_Level</th>\n",
       "      <th>Travel_Frequency</th>\n",
       "      <th>Preferred_Activities</th>\n",
       "      <th>Vacation_Budget</th>\n",
       "      <th>Location</th>\n",
       "      <th>Proximity_to_Mountains</th>\n",
       "      <th>Proximity_to_Beaches</th>\n",
       "      <th>Favorite_Season</th>\n",
       "      <th>Pets</th>\n",
       "      <th>Environmental_Concerns</th>\n",
       "      <th>Preference</th>\n",
       "    </tr>\n",
       "  </thead>\n",
       "  <tbody>\n",
       "    <tr>\n",
       "      <th>0</th>\n",
       "      <td>56</td>\n",
       "      <td>male</td>\n",
       "      <td>71477</td>\n",
       "      <td>bachelor</td>\n",
       "      <td>9</td>\n",
       "      <td>skiing</td>\n",
       "      <td>2477</td>\n",
       "      <td>urban</td>\n",
       "      <td>175</td>\n",
       "      <td>267</td>\n",
       "      <td>summer</td>\n",
       "      <td>0</td>\n",
       "      <td>1</td>\n",
       "      <td>1</td>\n",
       "    </tr>\n",
       "    <tr>\n",
       "      <th>1</th>\n",
       "      <td>69</td>\n",
       "      <td>male</td>\n",
       "      <td>88740</td>\n",
       "      <td>master</td>\n",
       "      <td>1</td>\n",
       "      <td>swimming</td>\n",
       "      <td>4777</td>\n",
       "      <td>suburban</td>\n",
       "      <td>228</td>\n",
       "      <td>190</td>\n",
       "      <td>fall</td>\n",
       "      <td>0</td>\n",
       "      <td>1</td>\n",
       "      <td>0</td>\n",
       "    </tr>\n",
       "    <tr>\n",
       "      <th>2</th>\n",
       "      <td>46</td>\n",
       "      <td>female</td>\n",
       "      <td>46562</td>\n",
       "      <td>master</td>\n",
       "      <td>0</td>\n",
       "      <td>skiing</td>\n",
       "      <td>1469</td>\n",
       "      <td>urban</td>\n",
       "      <td>71</td>\n",
       "      <td>280</td>\n",
       "      <td>winter</td>\n",
       "      <td>0</td>\n",
       "      <td>0</td>\n",
       "      <td>1</td>\n",
       "    </tr>\n",
       "    <tr>\n",
       "      <th>3</th>\n",
       "      <td>32</td>\n",
       "      <td>non-binary</td>\n",
       "      <td>99044</td>\n",
       "      <td>high school</td>\n",
       "      <td>6</td>\n",
       "      <td>hiking</td>\n",
       "      <td>1482</td>\n",
       "      <td>rural</td>\n",
       "      <td>31</td>\n",
       "      <td>255</td>\n",
       "      <td>summer</td>\n",
       "      <td>1</td>\n",
       "      <td>0</td>\n",
       "      <td>1</td>\n",
       "    </tr>\n",
       "    <tr>\n",
       "      <th>4</th>\n",
       "      <td>60</td>\n",
       "      <td>female</td>\n",
       "      <td>106583</td>\n",
       "      <td>high school</td>\n",
       "      <td>5</td>\n",
       "      <td>sunbathing</td>\n",
       "      <td>516</td>\n",
       "      <td>suburban</td>\n",
       "      <td>23</td>\n",
       "      <td>151</td>\n",
       "      <td>winter</td>\n",
       "      <td>1</td>\n",
       "      <td>1</td>\n",
       "      <td>0</td>\n",
       "    </tr>\n",
       "  </tbody>\n",
       "</table>\n",
       "</div>"
      ]
     },
     "execution_count": 2,
     "metadata": {},
     "output_type": "execute_result"
    }
   ],
   "execution_count": 2
  },
  {
   "metadata": {},
   "cell_type": "markdown",
   "source": "## Základní informace o datasetu",
   "id": "dcc6f172f4b174da"
  },
  {
   "metadata": {},
   "cell_type": "markdown",
   "source": "### Počet záznamů a atributů",
   "id": "3bd659d2e5bebddb"
  },
  {
   "metadata": {
    "ExecuteTime": {
     "end_time": "2024-11-15T13:34:19.452443Z",
     "start_time": "2024-11-15T13:34:19.447911Z"
    }
   },
   "cell_type": "code",
   "source": "print(f\"Počet záznamů: {df.shape[0]}\\nPočet atributů: {df.shape[1]}\")",
   "id": "93e2eb21d7a13dfc",
   "outputs": [
    {
     "name": "stdout",
     "output_type": "stream",
     "text": [
      "Počet záznamů: 52444\n",
      "Počet atributů: 14\n"
     ]
    }
   ],
   "execution_count": 3
  },
  {
   "metadata": {
    "ExecuteTime": {
     "end_time": "2024-11-15T13:34:19.530737Z",
     "start_time": "2024-11-15T13:34:19.496654Z"
    }
   },
   "cell_type": "code",
   "source": "df.describe()",
   "id": "1e400a309221df57",
   "outputs": [
    {
     "data": {
      "text/plain": [
       "                Age         Income  Travel_Frequency  Vacation_Budget  \\\n",
       "count  52444.000000   52444.000000      52444.000000     52444.000000   \n",
       "mean      43.507360   70017.271280          4.489265      2741.799062   \n",
       "std       14.985597   28847.560428          2.876130      1296.922423   \n",
       "min       18.000000   20001.000000          0.000000       500.000000   \n",
       "25%       31.000000   45048.250000          2.000000      1622.000000   \n",
       "50%       43.000000   70167.000000          4.000000      2733.000000   \n",
       "75%       56.000000   95108.500000          7.000000      3869.000000   \n",
       "max       69.000000  119999.000000          9.000000      4999.000000   \n",
       "\n",
       "       Proximity_to_Mountains  Proximity_to_Beaches          Pets  \\\n",
       "count            52444.000000          52444.000000  52444.000000   \n",
       "mean               149.943502            149.888452      0.500858   \n",
       "std                 86.548644             86.469248      0.500004   \n",
       "min                  0.000000              0.000000      0.000000   \n",
       "25%                 75.000000             75.750000      0.000000   \n",
       "50%                150.000000            150.000000      1.000000   \n",
       "75%                225.000000            225.000000      1.000000   \n",
       "max                299.000000            299.000000      1.000000   \n",
       "\n",
       "       Environmental_Concerns    Preference  \n",
       "count            52444.000000  52444.000000  \n",
       "mean                 0.498436      0.250706  \n",
       "std                  0.500002      0.433423  \n",
       "min                  0.000000      0.000000  \n",
       "25%                  0.000000      0.000000  \n",
       "50%                  0.000000      0.000000  \n",
       "75%                  1.000000      1.000000  \n",
       "max                  1.000000      1.000000  "
      ],
      "text/html": [
       "<div>\n",
       "<style scoped>\n",
       "    .dataframe tbody tr th:only-of-type {\n",
       "        vertical-align: middle;\n",
       "    }\n",
       "\n",
       "    .dataframe tbody tr th {\n",
       "        vertical-align: top;\n",
       "    }\n",
       "\n",
       "    .dataframe thead th {\n",
       "        text-align: right;\n",
       "    }\n",
       "</style>\n",
       "<table border=\"1\" class=\"dataframe\">\n",
       "  <thead>\n",
       "    <tr style=\"text-align: right;\">\n",
       "      <th></th>\n",
       "      <th>Age</th>\n",
       "      <th>Income</th>\n",
       "      <th>Travel_Frequency</th>\n",
       "      <th>Vacation_Budget</th>\n",
       "      <th>Proximity_to_Mountains</th>\n",
       "      <th>Proximity_to_Beaches</th>\n",
       "      <th>Pets</th>\n",
       "      <th>Environmental_Concerns</th>\n",
       "      <th>Preference</th>\n",
       "    </tr>\n",
       "  </thead>\n",
       "  <tbody>\n",
       "    <tr>\n",
       "      <th>count</th>\n",
       "      <td>52444.000000</td>\n",
       "      <td>52444.000000</td>\n",
       "      <td>52444.000000</td>\n",
       "      <td>52444.000000</td>\n",
       "      <td>52444.000000</td>\n",
       "      <td>52444.000000</td>\n",
       "      <td>52444.000000</td>\n",
       "      <td>52444.000000</td>\n",
       "      <td>52444.000000</td>\n",
       "    </tr>\n",
       "    <tr>\n",
       "      <th>mean</th>\n",
       "      <td>43.507360</td>\n",
       "      <td>70017.271280</td>\n",
       "      <td>4.489265</td>\n",
       "      <td>2741.799062</td>\n",
       "      <td>149.943502</td>\n",
       "      <td>149.888452</td>\n",
       "      <td>0.500858</td>\n",
       "      <td>0.498436</td>\n",
       "      <td>0.250706</td>\n",
       "    </tr>\n",
       "    <tr>\n",
       "      <th>std</th>\n",
       "      <td>14.985597</td>\n",
       "      <td>28847.560428</td>\n",
       "      <td>2.876130</td>\n",
       "      <td>1296.922423</td>\n",
       "      <td>86.548644</td>\n",
       "      <td>86.469248</td>\n",
       "      <td>0.500004</td>\n",
       "      <td>0.500002</td>\n",
       "      <td>0.433423</td>\n",
       "    </tr>\n",
       "    <tr>\n",
       "      <th>min</th>\n",
       "      <td>18.000000</td>\n",
       "      <td>20001.000000</td>\n",
       "      <td>0.000000</td>\n",
       "      <td>500.000000</td>\n",
       "      <td>0.000000</td>\n",
       "      <td>0.000000</td>\n",
       "      <td>0.000000</td>\n",
       "      <td>0.000000</td>\n",
       "      <td>0.000000</td>\n",
       "    </tr>\n",
       "    <tr>\n",
       "      <th>25%</th>\n",
       "      <td>31.000000</td>\n",
       "      <td>45048.250000</td>\n",
       "      <td>2.000000</td>\n",
       "      <td>1622.000000</td>\n",
       "      <td>75.000000</td>\n",
       "      <td>75.750000</td>\n",
       "      <td>0.000000</td>\n",
       "      <td>0.000000</td>\n",
       "      <td>0.000000</td>\n",
       "    </tr>\n",
       "    <tr>\n",
       "      <th>50%</th>\n",
       "      <td>43.000000</td>\n",
       "      <td>70167.000000</td>\n",
       "      <td>4.000000</td>\n",
       "      <td>2733.000000</td>\n",
       "      <td>150.000000</td>\n",
       "      <td>150.000000</td>\n",
       "      <td>1.000000</td>\n",
       "      <td>0.000000</td>\n",
       "      <td>0.000000</td>\n",
       "    </tr>\n",
       "    <tr>\n",
       "      <th>75%</th>\n",
       "      <td>56.000000</td>\n",
       "      <td>95108.500000</td>\n",
       "      <td>7.000000</td>\n",
       "      <td>3869.000000</td>\n",
       "      <td>225.000000</td>\n",
       "      <td>225.000000</td>\n",
       "      <td>1.000000</td>\n",
       "      <td>1.000000</td>\n",
       "      <td>1.000000</td>\n",
       "    </tr>\n",
       "    <tr>\n",
       "      <th>max</th>\n",
       "      <td>69.000000</td>\n",
       "      <td>119999.000000</td>\n",
       "      <td>9.000000</td>\n",
       "      <td>4999.000000</td>\n",
       "      <td>299.000000</td>\n",
       "      <td>299.000000</td>\n",
       "      <td>1.000000</td>\n",
       "      <td>1.000000</td>\n",
       "      <td>1.000000</td>\n",
       "    </tr>\n",
       "  </tbody>\n",
       "</table>\n",
       "</div>"
      ]
     },
     "execution_count": 4,
     "metadata": {},
     "output_type": "execute_result"
    }
   ],
   "execution_count": 4
  },
  {
   "metadata": {},
   "cell_type": "markdown",
   "source": "### Datové typy atributů",
   "id": "76d32a8cd228c207"
  },
  {
   "metadata": {
    "ExecuteTime": {
     "end_time": "2024-11-15T13:34:19.609364Z",
     "start_time": "2024-11-15T13:34:19.602479Z"
    }
   },
   "cell_type": "code",
   "source": "df.dtypes",
   "id": "d5909e3e4f606708",
   "outputs": [
    {
     "data": {
      "text/plain": [
       "Age                        int64\n",
       "Gender                    object\n",
       "Income                     int64\n",
       "Education_Level           object\n",
       "Travel_Frequency           int64\n",
       "Preferred_Activities      object\n",
       "Vacation_Budget            int64\n",
       "Location                  object\n",
       "Proximity_to_Mountains     int64\n",
       "Proximity_to_Beaches       int64\n",
       "Favorite_Season           object\n",
       "Pets                       int64\n",
       "Environmental_Concerns     int64\n",
       "Preference                 int64\n",
       "dtype: object"
      ]
     },
     "execution_count": 5,
     "metadata": {},
     "output_type": "execute_result"
    }
   ],
   "execution_count": 5
  },
  {
   "metadata": {},
   "cell_type": "markdown",
   "source": "#### Numerické atributy",
   "id": "17b279e51fea325d"
  },
  {
   "metadata": {
    "ExecuteTime": {
     "end_time": "2024-11-15T13:34:19.668571Z",
     "start_time": "2024-11-15T13:34:19.662467Z"
    }
   },
   "cell_type": "code",
   "source": [
    "numerical_columns = df.select_dtypes(include=['int64', 'float64']).columns\n",
    "print(\"\\n\".join(numerical_columns))"
   ],
   "id": "7d07c4dc376efed2",
   "outputs": [
    {
     "name": "stdout",
     "output_type": "stream",
     "text": [
      "Age\n",
      "Income\n",
      "Travel_Frequency\n",
      "Vacation_Budget\n",
      "Proximity_to_Mountains\n",
      "Proximity_to_Beaches\n",
      "Pets\n",
      "Environmental_Concerns\n",
      "Preference\n"
     ]
    }
   ],
   "execution_count": 6
  },
  {
   "metadata": {},
   "cell_type": "markdown",
   "source": [
    "S numeryckými atributy můžeme provést následující analýzy:\n",
    "- Rozdělení hodnot\n",
    "- Korelace mezi atributy\n",
    "- Distribuce hodnot\n",
    "- Normalizace hodnot\n",
    "- Transformace hodnot"
   ],
   "id": "266350d89860210"
  },
  {
   "metadata": {},
   "cell_type": "markdown",
   "source": "#### Kategorické atributy",
   "id": "2847ca817c76f6de"
  },
  {
   "metadata": {
    "ExecuteTime": {
     "end_time": "2024-11-15T13:34:19.801052Z",
     "start_time": "2024-11-15T13:34:19.781970Z"
    }
   },
   "cell_type": "code",
   "source": [
    "categorical_columns = df.select_dtypes(include=['object']).columns\n",
    "for column in categorical_columns:\n",
    "    print(f\"{column}: {df[column].unique()}\")"
   ],
   "id": "a0c9e2f6302e40f6",
   "outputs": [
    {
     "name": "stdout",
     "output_type": "stream",
     "text": [
      "Gender: ['male' 'female' 'non-binary']\n",
      "Education_Level: ['bachelor' 'master' 'high school' 'doctorate']\n",
      "Preferred_Activities: ['skiing' 'swimming' 'hiking' 'sunbathing']\n",
      "Location: ['urban' 'suburban' 'rural']\n",
      "Favorite_Season: ['summer' 'fall' 'winter' 'spring']\n"
     ]
    }
   ],
   "execution_count": 7
  },
  {
   "metadata": {},
   "cell_type": "markdown",
   "source": "V kategorických atributehc nemáme žádné zbytečné hodnoty, které by bylo třeba odstranit. Každý z nich má svůj význam a předpokládame, že budou důležité pro analýzu. Další zpracování bude zahrnuto v dalších krocích.",
   "id": "f729721fb74766c6"
  },
  {
   "metadata": {},
   "cell_type": "markdown",
   "source": "### Chybějící hodnoty",
   "id": "95fb7ae680c403f4"
  },
  {
   "metadata": {
    "ExecuteTime": {
     "end_time": "2024-11-15T13:34:19.877209Z",
     "start_time": "2024-11-15T13:34:19.865970Z"
    }
   },
   "cell_type": "code",
   "source": [
    "missing_values = int(df.isnull().sum().sum())\n",
    "missing_values"
   ],
   "id": "cf9e6c04f5915e86",
   "outputs": [
    {
     "data": {
      "text/plain": [
       "0"
      ]
     },
     "execution_count": 8,
     "metadata": {},
     "output_type": "execute_result"
    }
   ],
   "execution_count": 8
  },
  {
   "metadata": {},
   "cell_type": "markdown",
   "source": "Paráda, v datasetu nejsou žádné chybějící hodnoty.",
   "id": "bc124f53e0a99968"
  },
  {
   "metadata": {},
   "cell_type": "markdown",
   "source": "### Duplicitní záznamy",
   "id": "3b799d7b033eace6"
  },
  {
   "metadata": {
    "ExecuteTime": {
     "end_time": "2024-11-15T13:34:19.950824Z",
     "start_time": "2024-11-15T13:34:19.915022Z"
    }
   },
   "cell_type": "code",
   "source": [
    "duplicates = int(df.duplicated().astype(int).sum())\n",
    "duplicates"
   ],
   "id": "f507b84c28ccf677",
   "outputs": [
    {
     "data": {
      "text/plain": [
       "0"
      ]
     },
     "execution_count": 9,
     "metadata": {},
     "output_type": "execute_result"
    }
   ],
   "execution_count": 9
  },
  {
   "metadata": {},
   "cell_type": "markdown",
   "source": "Skvělé, v datasetu nejsou ani žádné duplicitní záznamy.",
   "id": "73ca4e07b8446d59"
  }
 ],
 "metadata": {
  "kernelspec": {
   "display_name": "Python 3",
   "language": "python",
   "name": "python3"
  },
  "language_info": {
   "codemirror_mode": {
    "name": "ipython",
    "version": 2
   },
   "file_extension": ".py",
   "mimetype": "text/x-python",
   "name": "python",
   "nbconvert_exporter": "python",
   "pygments_lexer": "ipython2",
   "version": "2.7.6"
  }
 },
 "nbformat": 4,
 "nbformat_minor": 5
}
